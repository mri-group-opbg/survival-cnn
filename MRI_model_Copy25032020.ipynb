{
 "cells": [
  {
   "cell_type": "code",
   "execution_count": 2,
   "metadata": {
    "colab": {
     "base_uri": "https://localhost:8080/",
     "height": 228
    },
    "colab_type": "code",
    "id": "QEA9wlJn4s9A",
    "outputId": "27e40092-7320-48db-ae57-c84c8793943a"
   },
   "outputs": [
    {
     "name": "stdout",
     "output_type": "stream",
     "text": [
      "\u001b[33mWARNING: The directory '/.cache/pip/http' or its parent directory is not owned by the current user and the cache has been disabled. Please check the permissions and owner of that directory. If executing pip with sudo, you may want sudo's -H flag.\u001b[0m\n",
      "\u001b[33mWARNING: The directory '/.cache/pip' or its parent directory is not owned by the current user and caching wheels has been disabled. check the permissions and owner of that directory. If executing pip with sudo, you may want sudo's -H flag.\u001b[0m\n",
      "Requirement already satisfied: nipy in /.local/lib/python3.6/site-packages (0.4.2)\n",
      "Requirement already satisfied: nibabel>=1.2 in /.local/lib/python3.6/site-packages (from nipy) (3.0.2)\n",
      "Requirement already satisfied: sympy>=0.7.0 in /.local/lib/python3.6/site-packages (from nipy) (1.5.1)\n",
      "Requirement already satisfied: numpy>=1.12 in /usr/local/lib/python3.6/dist-packages (from nibabel>=1.2->nipy) (1.18.1)\n",
      "Requirement already satisfied: mpmath>=0.19 in /.local/lib/python3.6/site-packages (from sympy>=0.7.0->nipy) (1.1.0)\n",
      "\u001b[33mWARNING: You are using pip version 19.3.1; however, version 20.0.2 is available.\n",
      "You should consider upgrading via the 'pip install --upgrade pip' command.\u001b[0m\n"
     ]
    }
   ],
   "source": [
    "# Modules to import\n",
    "\n",
    "!pip install --user nipy"
   ]
  },
  {
   "cell_type": "code",
   "execution_count": 3,
   "metadata": {},
   "outputs": [
    {
     "name": "stdout",
     "output_type": "stream",
     "text": [
      "\u001b[33mWARNING: The directory '/.cache/pip/http' or its parent directory is not owned by the current user and the cache has been disabled. Please check the permissions and owner of that directory. If executing pip with sudo, you may want sudo's -H flag.\u001b[0m\n",
      "\u001b[33mWARNING: The directory '/.cache/pip' or its parent directory is not owned by the current user and caching wheels has been disabled. check the permissions and owner of that directory. If executing pip with sudo, you may want sudo's -H flag.\u001b[0m\n",
      "Requirement already satisfied: nilearn in /.local/lib/python3.6/site-packages (0.6.2)\n",
      "Requirement already satisfied: numpy>=1.11 in /usr/local/lib/python3.6/dist-packages (from nilearn) (1.18.1)\n",
      "Requirement already satisfied: nibabel>=2.0.2 in /.local/lib/python3.6/site-packages (from nilearn) (3.0.2)\n",
      "Requirement already satisfied: joblib>=0.11 in /.local/lib/python3.6/site-packages (from nilearn) (0.14.1)\n",
      "Requirement already satisfied: sklearn in /.local/lib/python3.6/site-packages (from nilearn) (0.0)\n",
      "Requirement already satisfied: scipy>=0.19 in /.local/lib/python3.6/site-packages (from nilearn) (1.4.1)\n",
      "Requirement already satisfied: scikit-learn>=0.19 in /.local/lib/python3.6/site-packages (from nilearn) (0.22.2.post1)\n",
      "\u001b[33mWARNING: You are using pip version 19.3.1; however, version 20.0.2 is available.\n",
      "You should consider upgrading via the 'pip install --upgrade pip' command.\u001b[0m\n"
     ]
    }
   ],
   "source": [
    "!pip install --user nilearn"
   ]
  },
  {
   "cell_type": "code",
   "execution_count": 4,
   "metadata": {},
   "outputs": [
    {
     "name": "stdout",
     "output_type": "stream",
     "text": [
      "\u001b[33mWARNING: The directory '/.cache/pip/http' or its parent directory is not owned by the current user and the cache has been disabled. Please check the permissions and owner of that directory. If executing pip with sudo, you may want sudo's -H flag.\u001b[0m\n",
      "\u001b[33mWARNING: The directory '/.cache/pip' or its parent directory is not owned by the current user and caching wheels has been disabled. check the permissions and owner of that directory. If executing pip with sudo, you may want sudo's -H flag.\u001b[0m\n",
      "Requirement already satisfied: seaborn in /.local/lib/python3.6/site-packages (0.10.0)\n",
      "Requirement already satisfied: scipy>=1.0.1 in /.local/lib/python3.6/site-packages (from seaborn) (1.4.1)\n",
      "Requirement already satisfied: numpy>=1.13.3 in /usr/local/lib/python3.6/dist-packages (from seaborn) (1.18.1)\n",
      "Requirement already satisfied: matplotlib>=2.1.2 in /usr/local/lib/python3.6/dist-packages (from seaborn) (3.1.2)\n",
      "Requirement already satisfied: pandas>=0.22.0 in /.local/lib/python3.6/site-packages (from seaborn) (1.0.3)\n",
      "Requirement already satisfied: pyparsing!=2.0.4,!=2.1.2,!=2.1.6,>=2.0.1 in /usr/local/lib/python3.6/dist-packages (from matplotlib>=2.1.2->seaborn) (2.4.6)\n",
      "Requirement already satisfied: python-dateutil>=2.1 in /usr/local/lib/python3.6/dist-packages (from matplotlib>=2.1.2->seaborn) (2.8.1)\n",
      "Requirement already satisfied: kiwisolver>=1.0.1 in /usr/local/lib/python3.6/dist-packages (from matplotlib>=2.1.2->seaborn) (1.1.0)\n",
      "Requirement already satisfied: cycler>=0.10 in /usr/local/lib/python3.6/dist-packages (from matplotlib>=2.1.2->seaborn) (0.10.0)\n",
      "Requirement already satisfied: pytz>=2017.2 in /.local/lib/python3.6/site-packages (from pandas>=0.22.0->seaborn) (2019.3)\n",
      "Requirement already satisfied: six>=1.5 in /usr/lib/python3/dist-packages (from python-dateutil>=2.1->matplotlib>=2.1.2->seaborn) (1.11.0)\n",
      "Requirement already satisfied: setuptools in /usr/local/lib/python3.6/dist-packages (from kiwisolver>=1.0.1->matplotlib>=2.1.2->seaborn) (42.0.2)\n",
      "\u001b[33mWARNING: You are using pip version 19.3.1; however, version 20.0.2 is available.\n",
      "You should consider upgrading via the 'pip install --upgrade pip' command.\u001b[0m\n"
     ]
    }
   ],
   "source": [
    "!pip install --user seaborn"
   ]
  },
  {
   "cell_type": "code",
   "execution_count": 5,
   "metadata": {
    "colab": {},
    "colab_type": "code",
    "id": "4pP4i32fGX69"
   },
   "outputs": [],
   "source": [
    "# Main Imports\n",
    "\n",
    "import nilearn\n",
    "\n",
    "from nilearn.image import resample_to_img\n",
    "\n",
    "import pylab as plt\n",
    "\n",
    "import numpy as np\n",
    "import nibabel as nb\n",
    "import os\n",
    "import glob\n",
    "import random\n",
    "import pandas as pd\n",
    "\n",
    "import seaborn as sns #added\n",
    "sns.set(style=\"darkgrid\") #added\n",
    "\n"
   ]
  },
  {
   "cell_type": "code",
   "execution_count": 6,
   "metadata": {
    "colab": {},
    "colab_type": "code",
    "id": "Ht-UHC0h6SMC"
   },
   "outputs": [
    {
     "data": {
      "text/plain": [
       "'/data/RMN/LUCA_PASQUINI/DATI_SEGMENTATI_SCALATI_media'"
      ]
     },
     "execution_count": 6,
     "metadata": {},
     "output_type": "execute_result"
    }
   ],
   "source": [
    "# Local directory where the Drive is mounted\n",
    "rootDirectory = \"/data/RMN/LUCA_PASQUINI\"\n",
    "\n",
    "# Local subdirectory where dataset is mounted\n",
    "dataDir = \"DATI_SEGMENTATI_SCALATI_media\"\n",
    "\n",
    "# Dataset dir\n",
    "datasetDir = f\"{rootDirectory}/{dataDir}\"\n",
    "\n",
    "datasetDir"
   ]
  },
  {
   "cell_type": "code",
   "execution_count": 7,
   "metadata": {
    "scrolled": true
   },
   "outputs": [
    {
     "name": "stdout",
     "output_type": "stream",
     "text": [
      "\u001b[0m\u001b[01;34mALESSANDRINI_GLAUCO\u001b[0m/       \u001b[01;34mFEDERICO_FRANCESCO\u001b[0m/      \u001b[01;34mPASCAL\u001b[0m/\r\n",
      "\u001b[01;34mANGELONI_GIUSEPPINA\u001b[0m/       \u001b[01;34mFERRAZZA_RITA\u001b[0m/           \u001b[01;34mPASCARELLA_P\u001b[0m/\r\n",
      "\u001b[01;34mASSANTO_MARIA\u001b[0m/             \u001b[01;34mFERRI_M_B\u001b[0m/               \u001b[01;34mPASSARI\u001b[0m/\r\n",
      "\u001b[01;34mASTA_G\u001b[0m/                    \u001b[01;34mFILIPPONI_QUINTINO\u001b[0m/      \u001b[01;34mPELUSO_A\u001b[0m/\r\n",
      "\u001b[01;34mBAGNOLI_VINCENZO\u001b[0m/          \u001b[01;34mFIUCCI_A\u001b[0m/                \u001b[01;34mPENNICCHI_R\u001b[0m/\r\n",
      "\u001b[01;34mBALZAMO_A\u001b[0m/                 \u001b[01;34mFLORIO_FRANCESCO_PAOLO\u001b[0m/  \u001b[01;34mPIERI\u001b[0m/\r\n",
      "\u001b[01;34mBARONTINI_MARIA_GIOVANNA\u001b[0m/  \u001b[01;34mFRATINI_RITA\u001b[0m/            \u001b[01;34mPIERINI_CATERINA\u001b[0m/\r\n",
      "\u001b[01;34mBATTISTA_DOMENICA\u001b[0m/         \u001b[01;34mGATTAMORTA_NATALINA\u001b[0m/     \u001b[01;34mPINEDA_MARIA_ASSUNTA\u001b[0m/\r\n",
      "\u001b[01;34mBERGNACH_SILVANO\u001b[0m/          \u001b[01;34mGEGGI_GIULIO\u001b[0m/            \u001b[01;34mPISTOIA_CARLO\u001b[0m/\r\n",
      "\u001b[01;34mBERNOLA_TERESA\u001b[0m/            \u001b[01;34mGENNARI_CRISTIANO\u001b[0m/       \u001b[01;34mPODAGROSI_TERESA\u001b[0m/\r\n",
      "\u001b[01;34mBERTUZZI_LUISA\u001b[0m/            \u001b[01;34mGIACCHERINI_M\u001b[0m/           \u001b[01;34mPODDA_ANTONINO\u001b[0m/\r\n",
      "\u001b[01;34mBEVILACQUA_RITA\u001b[0m/           \u001b[01;34mGIANFELICI_LUISA\u001b[0m/        \u001b[01;34mPOMPEI_F\u001b[0m/\r\n",
      "\u001b[01;34mBIANCHI_GIOVANNI\u001b[0m/          \u001b[01;34mGIOIA_COSMO_DAMIANO\u001b[0m/     \u001b[01;34mPRINCIPI_ANNA_MARIA\u001b[0m/\r\n",
      "\u001b[01;34mBIANCHI_ORAZIO\u001b[0m/            \u001b[01;34mGIORDANO_STEFANIA\u001b[0m/       \u001b[01;34mPROIETTI_GIOVANNI\u001b[0m/\r\n",
      "\u001b[01;34mBIANCHI_S\u001b[0m/                 \u001b[01;34mINCITI_DONATA\u001b[0m/           \u001b[01;34mPROIETTI_MARIA\u001b[0m/\r\n",
      "\u001b[01;34mBIAVATI_S\u001b[0m/                 \u001b[01;34mIONTA_LUCIANA\u001b[0m/           \u001b[01;34mQUACQUARELLI_A\u001b[0m/\r\n",
      "\u001b[01;34mBOEZI_MARIO\u001b[0m/               \u001b[01;34mISMAIL_A\u001b[0m/                \u001b[01;34mQUATTROCIOCCHI_EVELINA\u001b[0m/\r\n",
      "\u001b[01;34mBOVE_A\u001b[0m/                    \u001b[01;34mISONI_FRANCESCO\u001b[0m/         \u001b[01;34mRE_ATTILIO\u001b[0m/\r\n",
      "\u001b[01;34mCACACE_PAOLO\u001b[0m/              \u001b[01;34mLABELLA_ADRIANA\u001b[0m/         \u001b[01;34mRICCI_ALESSANDRO\u001b[0m/\r\n",
      "\u001b[01;34mCALDARONI_ANNA\u001b[0m/            \u001b[01;34mLANDONE_ANNUNZIATA\u001b[0m/      \u001b[01;34mROMITO_ORAZIO\u001b[0m/\r\n",
      "\u001b[01;34mCAMACCI_FILIBERTO\u001b[0m/         \u001b[01;34mLIBERATI_G_L\u001b[0m/            \u001b[01;34mRONZO_F\u001b[0m/\r\n",
      "\u001b[01;34mCAMPLESE_CANDEROLA\u001b[0m/        \u001b[01;34mLIOCE_CARMELA\u001b[0m/           \u001b[01;34mROSARI_NANDO\u001b[0m/\r\n",
      "\u001b[01;34mCAPEZZONE\u001b[0m/                 \u001b[01;34mLONGO_ROSALIA\u001b[0m/           \u001b[01;34mRUFINI_A\u001b[0m/\r\n",
      "\u001b[01;34mCARULLI_L\u001b[0m/                 \u001b[01;34mLO_BELLO_MARIO\u001b[0m/          \u001b[01;34mRUSCITO_ELISABETTA\u001b[0m/\r\n",
      "\u001b[01;34mCARZEDDA_PAOLO\u001b[0m/            \u001b[01;34mLUPI_GIANCARLO\u001b[0m/          \u001b[01;34mRUSNAC_NINA\u001b[0m/\r\n",
      "\u001b[01;34mCATALANI_F\u001b[0m/                \u001b[01;34mLUPO_ASSUNTA\u001b[0m/            \u001b[01;34mRUSSO_IDA\u001b[0m/\r\n",
      "\u001b[01;34mCELLINI_T\u001b[0m/                 \u001b[01;32mLabels_array.csv\u001b[0m*        \u001b[01;34mSALA_CLARA\u001b[0m/\r\n",
      "\u001b[01;34mCHERRI_M\u001b[0m/                  \u001b[01;34mMAIOLINI_SANTA\u001b[0m/          \u001b[01;34mSALTARELLI_DOMENICO\u001b[0m/\r\n",
      "\u001b[01;34mCIMPUREANU_N\u001b[0m/              \u001b[01;34mMARAGNO_CLARA\u001b[0m/           \u001b[01;34mSANTINI_ERMANNO\u001b[0m/\r\n",
      "\u001b[01;34mCOLAFRANCESCO_ROCCO\u001b[0m/       \u001b[01;34mMARCOLINI\u001b[0m/               \u001b[01;34mSCARAMUZZA_F\u001b[0m/\r\n",
      "\u001b[01;34mCOLAMARTINI_GIUSEPPINA\u001b[0m/    \u001b[01;34mMARCONI_E\u001b[0m/               \u001b[01;34mSOLOVIY_VOLODYMYR\u001b[0m/\r\n",
      "\u001b[01;34mCOLAZZO_LUIGI_GIUSEPPE\u001b[0m/    \u001b[01;34mMARIANI_BERNARDO\u001b[0m/        \u001b[01;34mSTAN_FLORENTINA\u001b[0m/\r\n",
      "\u001b[01;34mCOLETTA_MARIA\u001b[0m/             \u001b[01;34mMAROCCHI_CORRADO\u001b[0m/        \u001b[01;34mSTEFANINI_CLORINDA\u001b[0m/\r\n",
      "\u001b[01;34mCOSIMI_MASSIMO\u001b[0m/            \u001b[01;34mMARTELLA_COSIMO\u001b[0m/         \u001b[01;34mSTERPA_GIUSEPPE\u001b[0m/\r\n",
      "\u001b[01;34mCOSTANZI_P\u001b[0m/                \u001b[01;34mMARTINEZ\u001b[0m/                \u001b[01;34mSYKULA_GRAZYNA_BARBARA\u001b[0m/\r\n",
      "\u001b[01;34mCRESCENZI_ARMANDO\u001b[0m/         \u001b[01;34mMASCI_ADA\u001b[0m/               \u001b[01;34mTAVERNESE_G\u001b[0m/\r\n",
      "\u001b[01;34mDARIDA\u001b[0m/                    \u001b[01;34mMEDICI_GIOVANNA\u001b[0m/         \u001b[01;34mTAVOLUCCI_MARIA_RITA\u001b[0m/\r\n",
      "\u001b[01;34mDEL_BOVE_PIERINA\u001b[0m/          \u001b[01;34mMICHELI_MICHELE\u001b[0m/         \u001b[01;34mTEMPESTINI_MARISA\u001b[0m/\r\n",
      "\u001b[01;34mDE_PAOLI_R\u001b[0m/                \u001b[01;34mMITCHELL_CHARLENE_ANN\u001b[0m/   \u001b[01;34mTEMPORIN_PATRIZIA\u001b[0m/\r\n",
      "\u001b[01;34mDE_SANTIS_GIORGO\u001b[0m/          \u001b[01;34mMONACELLI_LAURA\u001b[0m/         \u001b[01;34mTEOFILI_STEFANO\u001b[0m/\r\n",
      "\u001b[01;34mDIASPRO_G\u001b[0m/                 \u001b[01;34mMONTI_E\u001b[0m/                 \u001b[01;34mTESTA_SERGIO\u001b[0m/\r\n",
      "\u001b[01;34mDI_CARLATONIO_MAURIZIO\u001b[0m/    \u001b[01;34mMOSCARDINI_GIACINTO\u001b[0m/     \u001b[01;34mTIBERI_GIUSEPPE\u001b[0m/\r\n",
      "\u001b[01;34mDI_LORENZO_TOMMASO\u001b[0m/        \u001b[01;34mMOVIA_A\u001b[0m/                 \u001b[01;34mTOMAO_ANGELO\u001b[0m/\r\n",
      "\u001b[01;34mDI_MARCO_L\u001b[0m/                \u001b[01;34mMUSAT_DORINA\u001b[0m/            \u001b[01;34mTOMEO_VINCENZO\u001b[0m/\r\n",
      "\u001b[01;34mDI_MASO_SIMONE\u001b[0m/            \u001b[01;34mNERONE_GIANLUCA\u001b[0m/         \u001b[01;34mTROSCIA_M\u001b[0m/\r\n",
      "\u001b[01;34mDI_MASSA_SERGIO\u001b[0m/           \u001b[01;34mNERVEGNA_G\u001b[0m/              \u001b[01;34mVERONESI_ROCCO\u001b[0m/\r\n",
      "\u001b[01;34mDOBRISAN_DORINA\u001b[0m/           \u001b[01;34mORLANDI_PAOLO\u001b[0m/           \u001b[01;34mVESCIA_M_T\u001b[0m/\r\n",
      "\u001b[01;34mDROGHEI_SANDRO\u001b[0m/            \u001b[01;34mPAGANNONE_GIANNI\u001b[0m/        \u001b[01;34mVITULANO_RITA\u001b[0m/\r\n",
      "\u001b[01;34mD_ANGELI_ANNUNZIATA\u001b[0m/       \u001b[01;34mPAGLIAROLI_LUCIA\u001b[0m/        \u001b[01;34mZAMPELLA_A\u001b[0m/\r\n",
      "\u001b[01;34mD_ANGELO_RENATO\u001b[0m/           \u001b[01;34mPAGNOTTA\u001b[0m/                \u001b[01;34mZANATTA_CARLO\u001b[0m/\r\n",
      "\u001b[01;34mEMERY_R_C\u001b[0m/                 \u001b[01;34mPALMA\u001b[0m/                   \u001b[01;34mZANGARI_ALDO\u001b[0m/\r\n",
      "\u001b[01;34mFABIANI_ANNA\u001b[0m/              \u001b[01;34mPALMIERI\u001b[0m/                \u001b[01;34mZEPPA_ONORIO\u001b[0m/\r\n",
      "\u001b[01;34mFARELLA_PAOLO\u001b[0m/             \u001b[01;34mPANETTI\u001b[0m/\r\n"
     ]
    }
   ],
   "source": [
    "ls {datasetDir}/"
   ]
  },
  {
   "cell_type": "code",
   "execution_count": 8,
   "metadata": {
    "colab": {},
    "colab_type": "code",
    "id": "A_Dvkvt1oLkC"
   },
   "outputs": [],
   "source": [
    "from nilearn.image import mean_img #added\n",
    "from nilearn.plotting import plot_anat #added"
   ]
  },
  {
   "cell_type": "code",
   "execution_count": 9,
   "metadata": {},
   "outputs": [
    {
     "name": "stdout",
     "output_type": "stream",
     "text": [
      " MRI_model.ipynb                      Untitled.ipynb\r\n",
      " MRI_model_Copy23032020.ipynb         Untitled1.ipynb\r\n",
      " MRI_model_Copy25032020.ipynb         prova190320.ipynb\r\n",
      "'Studio Stupendo su Pazienti.ipynb'   test.txt\r\n"
     ]
    }
   ],
   "source": [
    "ls"
   ]
  },
  {
   "cell_type": "code",
   "execution_count": 83,
   "metadata": {},
   "outputs": [
    {
     "data": {
      "text/plain": [
       "'0'"
      ]
     },
     "execution_count": 83,
     "metadata": {},
     "output_type": "execute_result"
    }
   ],
   "source": [
    "Labels=[]\n",
    "import glob\n",
    "\n",
    "for file_name in glob.glob(\"/data/RMN/LUCA_PASQUINI/DATI_SEGMENTATI_SCALATI_media/\" +'*.csv'):\n",
    "   # print(file_name)\n",
    "\n",
    "     import csv\n",
    "     with open(f'{file_name}', 'r') as file:\n",
    "        reader = csv.reader(file)   \n",
    "        for row in reader:\n",
    "            r=[i.split(';', 1) for i in row]\n",
    "            #print(r)\n",
    "            Labels.append(r)\n",
    "            \n",
    "\n",
    "            \n",
    "Labels=np.asarray(Labels)\n",
    "Labels.shape          \n",
    "#print(Labels)          \n",
    "#print(row)\n",
    "Labels[0,0,1]\n",
    "\n",
    "            \n",
    "            \n",
    "   \n"
   ]
  },
  {
   "cell_type": "code",
   "execution_count": 120,
   "metadata": {},
   "outputs": [
    {
     "name": "stderr",
     "output_type": "stream",
     "text": [
      "/usr/local/lib/python3.6/dist-packages/ipykernel_launcher.py:13: DeprecationWarning: get_data() is deprecated in favor of get_fdata(), which has a more predictable return type. To obtain get_data() behavior going forward, use numpy.asanyarray(img.dataobj).\n",
      "\n",
      "* deprecated from version: 3.0\n",
      "* Will raise <class 'nibabel.deprecator.ExpiredDeprecationError'> as of version: 5.0\n",
      "  del sys.path[0]\n",
      "/usr/local/lib/python3.6/dist-packages/ipykernel_launcher.py:20: DeprecationWarning: get_data() is deprecated in favor of get_fdata(), which has a more predictable return type. To obtain get_data() behavior going forward, use numpy.asanyarray(img.dataobj).\n",
      "\n",
      "* deprecated from version: 3.0\n",
      "* Will raise <class 'nibabel.deprecator.ExpiredDeprecationError'> as of version: 5.0\n"
     ]
    }
   ],
   "source": [
    "L=[]\n",
    "results = []\n",
    "Data = []\n",
    "IMG=[]\n",
    "for name in glob.glob(\"/data/RMN/LUCA_PASQUINI/DATI_SEGMENTATI_SCALATI_media/*\"):\n",
    "    if os.path.exists(\"Labels_array.csv*\"):\n",
    "         os.remove(\"Labels_array.csv\")\n",
    "    subject = os.path.basename(name)\n",
    "    #print(subject)\n",
    "        #print(subject)\n",
    "    if os.path.isfile(f\"{datasetDir}/{subject}/T1_registered.nii.gz\"):\n",
    "        IMG_reg = nb.load(f\"{datasetDir}/{subject}/T1_registered.nii.gz\")\n",
    "        DATA= IMG_reg.get_data()\n",
    "        a = [DATA.shape]\n",
    "        results.append(a)\n",
    "        Data.append(DATA)\n",
    "        IMG.append(IMG_reg)\n",
    "            \n",
    "    IMG_roi = nb.load(f\"{datasetDir}/{subject}/ROI/SOLID.nii\")\n",
    "    ROI_DATA=IMG_roi.get_data()\n",
    "    b=[ROI_DATA.shape]\n",
    "    results.append(b)\n",
    "    Data.append(ROI_DATA)\n",
    "    IMG.append(IMG_roi)\n",
    "\n",
    "    \n",
    "              \n",
    "        \n",
    "\n",
    "\n",
    "    \n",
    "        \n",
    "    \n",
    "\n",
    "    \n",
    "      \n",
    "#L=np.asarray(L)\n",
    "results=np.asarray(results)   \n",
    "Data=np.asarray(Data)\n",
    "IMG=np.asarray(IMG)\n",
    "\n"
   ]
  },
  {
   "cell_type": "code",
   "execution_count": 121,
   "metadata": {},
   "outputs": [
    {
     "data": {
      "text/plain": [
       "(270,)"
      ]
     },
     "execution_count": 121,
     "metadata": {},
     "output_type": "execute_result"
    }
   ],
   "source": [
    "# results\n",
    "Data.shape\n",
    "IMG.shape\n",
    "#L.shape"
   ]
  },
  {
   "cell_type": "code",
   "execution_count": null,
   "metadata": {
    "colab": {
     "base_uri": "https://localhost:8080/",
     "height": 35
    },
    "colab_type": "code",
    "id": "OPLIAbKFcbqU",
    "outputId": "e064400a-8866-43dd-a632-94bdb939945a"
   },
   "outputs": [],
   "source": [
    "#cerco i valori minimi sulla base dei quali fare il resample\n",
    "Min_value=np.amin(results, axis=1)\n",
    "Min_value\n",
    "Min=np.amin(Min_value, axis=0)\n",
    "Min\n",
    "Min_value.shape\n",
    "Min[0]\n",
    "# Min_value[:,0]\n",
    "# pos=np.where(Min_value[:,0]==Min[0])\n",
    "# pos"
   ]
  },
  {
   "cell_type": "code",
   "execution_count": null,
   "metadata": {},
   "outputs": [],
   "source": [
    "\n",
    "# [p.append(q.index(v)) if v in q else p.append(99999) for v in vm]\n",
    "\n",
    "\n",
    "not_in_index = [x for x in range(Min_value.shape[0]) if not np.all(Min_value[x] == (192, 256, 144))]\n",
    "\n",
    "not_in_index\n"
   ]
  },
  {
   "cell_type": "code",
   "execution_count": null,
   "metadata": {},
   "outputs": [],
   "source": [
    "pos_1=np.where(Min_value[:,0]==192)\n",
    "pos_1\n",
    "\n",
    "pos_2=np.where(Min_value[:,1]==256)\n",
    "pos_2\n",
    "\n",
    "pos_3=np.where(Min_value[:,2]==144)\n",
    "pos_3\n",
    "\n",
    "eq=np.intersect1d(pos_1,pos_2)\n",
    "eq\n",
    "\n",
    "index_IMG=np.intersect1d(eq,pos_3)\n",
    "index_IMG\n",
    "def_index=random.choice(index_IMG)\n",
    "print(def_index)"
   ]
  },
  {
   "cell_type": "code",
   "execution_count": null,
   "metadata": {},
   "outputs": [],
   "source": [
    "\n",
    "for i in not_in_index:\n",
    "    Res=nilearn.image.resample_to_img(IMG[i], IMG[def_index])\n",
    "    IMG[i]=Res\n",
    "    Data[i]=IMG[i].get_data()\n",
    "\n",
    "        \n",
    "#     Resample_results.append(Res_IMG)\n",
    "\n",
    "# Prova_Data=np.ndarray.tolist(Data)\n",
    "\n",
    "# for i in index_IMG:\n",
    "#     Resample_results.append(Prova_Data[i])\n",
    "\n",
    "# Resample_results=np.asarray(Resample_results)\n",
    "# Resample_results.shape"
   ]
  },
  {
   "cell_type": "code",
   "execution_count": null,
   "metadata": {},
   "outputs": [],
   "source": [
    "# results=np.asarray(results)   \n",
    "# Data=np.asmatrix(Data)\n",
    "# IMG=np.asmatrix(IMG)\n",
    "\n",
    "# Data[1]"
   ]
  },
  {
   "cell_type": "code",
   "execution_count": null,
   "metadata": {
    "colab": {
     "base_uri": "https://localhost:8080/",
     "height": 35
    },
    "colab_type": "code",
    "id": "VDkMnRGH94yM",
    "outputId": "51c1065c-e50a-4db7-c954-0a7372eb9394"
   },
   "outputs": [],
   "source": [
    "Input_matrix=np.empty((270,192,256,144)) \n",
    "\n",
    "for i in not_in_index:\n",
    "\n",
    "    Input_matrix[i,:,:,:]=np.array(Data[i])\n",
    "\n",
    "\n",
    "\n",
    "\n",
    "for i in index_IMG:\n",
    "\n",
    "    Input_matrix[i,:,:,:]=np.array(Data[i])\n",
    "    \n",
    "    \n",
    "    \n",
    "Input_matrix.shape\n",
    "\n",
    "# Input_matrix[20,47,10,20]"
   ]
  },
  {
   "cell_type": "code",
   "execution_count": null,
   "metadata": {
    "colab": {},
    "colab_type": "code",
    "id": "bY3XmLCcwzLJ"
   },
   "outputs": [],
   "source": [
    "#added block\n",
    "## Create list of indices and shuffle them\n",
    "N = Input_matrix.shape[0]\n",
    "indices = np.arange(N)\n",
    "np.random.shuffle(indices)"
   ]
  },
  {
   "cell_type": "code",
   "execution_count": null,
   "metadata": {
    "colab": {
     "base_uri": "https://localhost:8080/",
     "height": 52
    },
    "colab_type": "code",
    "id": "asxqHJSCyLv7",
    "outputId": "cf5a9991-9999-4560-f650-e540d34d60a1"
   },
   "outputs": [],
   "source": [
    "#labels block added\n",
    "labels=np.ravel([[['More1']*2,['Less1']*2] for i in range(2)])\n",
    "labels"
   ]
  },
  {
   "cell_type": "code",
   "execution_count": null,
   "metadata": {
    "colab": {},
    "colab_type": "code",
    "id": "fDRFNqXt2Fjj"
   },
   "outputs": [],
   "source": [
    "#added block\n",
    "#  Cut the dataset at 80% to create the training and test set\n",
    "N_80p = int(0.8 * N)\n",
    "indices_train = indices[:N_80p]\n",
    "indices_test = indices[N_80p:]"
   ]
  },
  {
   "cell_type": "code",
   "execution_count": null,
   "metadata": {
    "colab": {
     "base_uri": "https://localhost:8080/",
     "height": 35
    },
    "colab_type": "code",
    "id": "GpslU81A2Xm5",
    "outputId": "7057859f-facf-44ff-8459-ad12774b6bba"
   },
   "outputs": [],
   "source": [
    "# Split the data into training and test sets\n",
    "X_train = Input_matrix[indices_train, ...]\n",
    "X_test = Input_matrix[indices_test, ...]\n",
    "\n",
    "print(X_train.shape, X_test.shape)"
   ]
  },
  {
   "cell_type": "code",
   "execution_count": null,
   "metadata": {
    "colab": {},
    "colab_type": "code",
    "id": "uoVH0H0L2mLi"
   },
   "outputs": [],
   "source": [
    "#outcome variable block added\n",
    "y_train = labels[indices_train] == 'More1'\n",
    "y_test = labels[indices_test] == 'Less1'"
   ]
  },
  {
   "cell_type": "code",
   "execution_count": null,
   "metadata": {
    "colab": {
     "base_uri": "https://localhost:8080/",
     "height": 121
    },
    "colab_type": "code",
    "id": "4Wo6WG3a3Bcb",
    "outputId": "76f6a8be-5a08-4214-9cc8-4a44244b25b5"
   },
   "outputs": [],
   "source": [
    "#added block\n",
    "from keras.utils import to_categorical\n",
    "y_train = to_categorical(y_train)\n",
    "y_test = to_categorical(y_test)\n",
    "\n",
    "y_train"
   ]
  },
  {
   "cell_type": "code",
   "execution_count": null,
   "metadata": {
    "colab": {},
    "colab_type": "code",
    "id": "2ZyrKnNa6hA0"
   },
   "outputs": [],
   "source": [
    "#block added to create the model\n",
    "import tensorflow as tf\n",
    "from keras.models import Sequential\n",
    "\n",
    "from keras.layers import Dense, Flatten, Dropout\n",
    "from keras.layers import Conv2D, MaxPooling2D, BatchNormalization\n",
    "\n",
    "from keras.optimizers import Adam, SGD\n",
    "\n",
    "from keras import backend as K"
   ]
  },
  {
   "cell_type": "code",
   "execution_count": null,
   "metadata": {
    "colab": {
     "base_uri": "https://localhost:8080/",
     "height": 35
    },
    "colab_type": "code",
    "id": "T1fNBc8I6kKz",
    "outputId": "1819255b-7496-4dfc-8632-5589c831d0d2"
   },
   "outputs": [],
   "source": [
    "# Get shape of input data\n",
    "data_shape = tuple(X_train.shape[1:])\n",
    "\n",
    "# Specify shape of convolution kernel\n",
    "kernel_size = (3, 3)\n",
    "\n",
    "# Specify number of output categories\n",
    "n_classes = 2\n",
    "\n",
    "# Specify number of filters per layer\n",
    "filters = 16\n",
    "\n",
    "data_shape"
   ]
  },
  {
   "cell_type": "code",
   "execution_count": null,
   "metadata": {
    "colab": {
     "base_uri": "https://localhost:8080/",
     "height": 676
    },
    "colab_type": "code",
    "id": "9XWnJwve64vE",
    "outputId": "cd0d2aa4-da27-438c-cdb8-3da15ec8dff6"
   },
   "outputs": [],
   "source": [
    "#model block added\n",
    "K.clear_session()\n",
    "model = Sequential()\n",
    "\n",
    "model.add(Conv2D(filters, kernel_size, activation='relu', input_shape=data_shape))\n",
    "model.add(BatchNormalization())\n",
    "model.add(MaxPooling2D())\n",
    "\n",
    "model.add(Conv2D(filters * 2, kernel_size, activation='relu'))\n",
    "model.add(BatchNormalization())\n",
    "model.add(MaxPooling2D())\n",
    "\n",
    "model.add(Conv2D(filters * 4, kernel_size, activation='relu'))\n",
    "model.add(BatchNormalization())\n",
    "model.add(MaxPooling2D())\n",
    "\n",
    "model.add(Flatten())\n",
    "\n",
    "model.add(Dense(256, activation='relu'))\n",
    "model.add(Dropout(0.5))\n",
    "\n",
    "model.add(Dense(512, activation='relu'))\n",
    "model.add(Dropout(0.5))\n",
    "\n",
    "model.add(Dense(n_classes, activation='softmax'))\n",
    "\n",
    "# optimizer\n",
    "learning_rate = 1e-5\n",
    "adam = Adam(lr=learning_rate)\n",
    "sgd = SGD(lr=learning_rate)\n",
    "\n",
    "model.compile(loss='categorical_crossentropy',\n",
    "              optimizer=adam, # swap out for sgd \n",
    "              metrics=['accuracy'])\n",
    "\n",
    "model.summary()"
   ]
  },
  {
   "cell_type": "code",
   "execution_count": null,
   "metadata": {
    "colab": {},
    "colab_type": "code",
    "id": "3P4SBfIE7oB7"
   },
   "outputs": [],
   "source": [
    "#added block\n",
    "nEpochs = 100  # Increase this value for better results (i.e., more training)"
   ]
  },
  {
   "cell_type": "code",
   "execution_count": null,
   "metadata": {
    "colab": {},
    "colab_type": "code",
    "id": "euoUfFI87tQx"
   },
   "outputs": [],
   "source": [
    "batch_size = 16   # Increasing this value might speed up fitting"
   ]
  },
  {
   "cell_type": "code",
   "execution_count": null,
   "metadata": {
    "colab": {
     "base_uri": "https://localhost:8080/",
     "height": 1000
    },
    "colab_type": "code",
    "id": "acIp4UFS7vLO",
    "outputId": "03cb4be6-b276-4825-b001-8c4bacca82a9"
   },
   "outputs": [],
   "source": [
    "%time fit = model.fit(X_train, y_train, epochs=nEpochs, batch_size=batch_size)"
   ]
  },
  {
   "cell_type": "code",
   "execution_count": null,
   "metadata": {
    "colab": {
     "base_uri": "https://localhost:8080/",
     "height": 292
    },
    "colab_type": "code",
    "id": "anF1eo5KBWL9",
    "outputId": "59966627-073f-49cb-8aa5-9559437be298"
   },
   "outputs": [],
   "source": [
    "fig = plt.figure(figsize=(10, 4))\n",
    "epoch = np.arange(nEpochs) + 1\n",
    "fontsize = 16\n",
    "plt.plot(epoch, fit.history['acc'], marker=\"o\", linewidth=2,\n",
    "         color=\"steelblue\", label=\"accuracy\")\n",
    "plt.plot(epoch, fit.history['loss'], marker=\"o\", linewidth=2,\n",
    "         color=\"orange\", label=\"loss\")\n",
    "plt.xlabel('epoch', fontsize=fontsize)\n",
    "plt.xticks(fontsize=fontsize)\n",
    "plt.yticks(fontsize=fontsize)\n",
    "plt.legend(frameon=False, fontsize=16);"
   ]
  }
 ],
 "metadata": {
  "colab": {
   "collapsed_sections": [],
   "name": "MRI_model.ipynb",
   "provenance": [],
   "toc_visible": true
  },
  "kernelspec": {
   "display_name": "Python 3",
   "language": "python",
   "name": "python3"
  },
  "language_info": {
   "codemirror_mode": {
    "name": "ipython",
    "version": 3
   },
   "file_extension": ".py",
   "mimetype": "text/x-python",
   "name": "python",
   "nbconvert_exporter": "python",
   "pygments_lexer": "ipython3",
   "version": "3.6.9"
  }
 },
 "nbformat": 4,
 "nbformat_minor": 1
}
