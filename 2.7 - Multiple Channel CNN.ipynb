{
 "cells": [
  {
   "cell_type": "markdown",
   "metadata": {},
   "source": [
    "# README\n",
    "\n",
    "Tentativo di creare una rete convoluzione multipla in cui venga messo in relazione anche l'età del paziente per prevedere i giorni di sopravvivenza"
   ]
  },
  {
   "cell_type": "code",
   "execution_count": 1,
   "metadata": {},
   "outputs": [],
   "source": [
    "from numpy.random import seed\n",
    "seed(1)\n",
    "\n",
    "from tensorflow import set_random_seed\n",
    "set_random_seed(2)"
   ]
  },
  {
   "cell_type": "markdown",
   "metadata": {},
   "source": [
    "# Data Collection\n",
    "\n",
    "Collezioniamo i dati di T1, T2 e FLAIR più un dataset per l'età"
   ]
  },
  {
   "cell_type": "code",
   "execution_count": 2,
   "metadata": {},
   "outputs": [
    {
     "name": "stderr",
     "output_type": "stream",
     "text": [
      "Using TensorFlow backend.\n"
     ]
    }
   ],
   "source": [
    "from gliomi import *"
   ]
  },
  {
   "cell_type": "code",
   "execution_count": 3,
   "metadata": {},
   "outputs": [],
   "source": [
    "def get_datasets(datasets_path):\n",
    "    result = []\n",
    "    for dataset_path in datasets_path:\n",
    "        with open(dataset_path, \"rb\") as file:\n",
    "            result.append(pickle.load(file))\n",
    "    return result"
   ]
  },
  {
   "cell_type": "code",
   "execution_count": 4,
   "metadata": {},
   "outputs": [],
   "source": [
    "tumor_crop = \"/data/RMN/dataset-gliomi-cnn/datasets-tumor-crop\"\n",
    "full_brain = \"/data/RMN/dataset-gliomi-cnn/datasets-full-brain\"\n",
    "\n",
    "datasets = get_datasets([\n",
    "    f\"{full_brain}/FLAIR-64-100.pickle\",\n",
    "    f\"{tumor_crop}/FLAIR-64-100.pickle\",\n",
    "    f\"{full_brain}/MPRAGE-64-100.pickle\",\n",
    "    f\"{tumor_crop}/MPRAGE-64-100.pickle\"\n",
    "])"
   ]
  },
  {
   "cell_type": "markdown",
   "metadata": {},
   "source": [
    "## Get età and survivor data"
   ]
  },
  {
   "cell_type": "code",
   "execution_count": 5,
   "metadata": {},
   "outputs": [],
   "source": [
    "import pandas as pd\n",
    "\n",
    "survivor_age_survdays = pd.read_csv(\"dataset-age-survdays.csv\")"
   ]
  },
  {
   "cell_type": "code",
   "execution_count": 6,
   "metadata": {},
   "outputs": [
    {
     "data": {
      "text/html": [
       "<div>\n",
       "<style scoped>\n",
       "    .dataframe tbody tr th:only-of-type {\n",
       "        vertical-align: middle;\n",
       "    }\n",
       "\n",
       "    .dataframe tbody tr th {\n",
       "        vertical-align: top;\n",
       "    }\n",
       "\n",
       "    .dataframe thead th {\n",
       "        text-align: right;\n",
       "    }\n",
       "</style>\n",
       "<table border=\"1\" class=\"dataframe\">\n",
       "  <thead>\n",
       "    <tr style=\"text-align: right;\">\n",
       "      <th></th>\n",
       "      <th>Subject</th>\n",
       "      <th>Path</th>\n",
       "      <th>Age</th>\n",
       "      <th>Days</th>\n",
       "    </tr>\n",
       "  </thead>\n",
       "  <tbody>\n",
       "    <tr>\n",
       "      <th>0</th>\n",
       "      <td>Alessandrini</td>\n",
       "      <td>ALESSANDRINI_GLAUCO</td>\n",
       "      <td>75</td>\n",
       "      <td>360</td>\n",
       "    </tr>\n",
       "    <tr>\n",
       "      <th>1</th>\n",
       "      <td>Angeloni</td>\n",
       "      <td>ANGELONI_GIUSEPPINA</td>\n",
       "      <td>67</td>\n",
       "      <td>850</td>\n",
       "    </tr>\n",
       "    <tr>\n",
       "      <th>2</th>\n",
       "      <td>Assanto</td>\n",
       "      <td>ASSANTO_MARIA</td>\n",
       "      <td>62</td>\n",
       "      <td>325</td>\n",
       "    </tr>\n",
       "    <tr>\n",
       "      <th>3</th>\n",
       "      <td>Asta</td>\n",
       "      <td>ASTA_G</td>\n",
       "      <td>48</td>\n",
       "      <td>789</td>\n",
       "    </tr>\n",
       "    <tr>\n",
       "      <th>4</th>\n",
       "      <td>Bagnoli</td>\n",
       "      <td>BAGNOLI_VINCENZO</td>\n",
       "      <td>73</td>\n",
       "      <td>541</td>\n",
       "    </tr>\n",
       "    <tr>\n",
       "      <th>...</th>\n",
       "      <td>...</td>\n",
       "      <td>...</td>\n",
       "      <td>...</td>\n",
       "      <td>...</td>\n",
       "    </tr>\n",
       "    <tr>\n",
       "      <th>150</th>\n",
       "      <td>Vitulano</td>\n",
       "      <td>VITULANO_RITA</td>\n",
       "      <td>63</td>\n",
       "      <td>viva</td>\n",
       "    </tr>\n",
       "    <tr>\n",
       "      <th>151</th>\n",
       "      <td>Zampella</td>\n",
       "      <td>ZAMPELLA_A</td>\n",
       "      <td>49</td>\n",
       "      <td>viva</td>\n",
       "    </tr>\n",
       "    <tr>\n",
       "      <th>152</th>\n",
       "      <td>Zanatta</td>\n",
       "      <td>ZANATTA_CARLO</td>\n",
       "      <td>66</td>\n",
       "      <td>577</td>\n",
       "    </tr>\n",
       "    <tr>\n",
       "      <th>153</th>\n",
       "      <td>Zangari</td>\n",
       "      <td>ZANGARI_ALDO</td>\n",
       "      <td>62</td>\n",
       "      <td>11</td>\n",
       "    </tr>\n",
       "    <tr>\n",
       "      <th>154</th>\n",
       "      <td>Zeppa</td>\n",
       "      <td>ZEPPA_ONORIO</td>\n",
       "      <td>61</td>\n",
       "      <td>96</td>\n",
       "    </tr>\n",
       "  </tbody>\n",
       "</table>\n",
       "<p>155 rows × 4 columns</p>\n",
       "</div>"
      ],
      "text/plain": [
       "          Subject                 Path  Age  Days\n",
       "0    Alessandrini  ALESSANDRINI_GLAUCO   75   360\n",
       "1        Angeloni  ANGELONI_GIUSEPPINA   67   850\n",
       "2         Assanto        ASSANTO_MARIA   62   325\n",
       "3            Asta               ASTA_G   48   789\n",
       "4         Bagnoli     BAGNOLI_VINCENZO   73   541\n",
       "..            ...                  ...  ...   ...\n",
       "150      Vitulano        VITULANO_RITA   63  viva\n",
       "151      Zampella           ZAMPELLA_A   49  viva\n",
       "152       Zanatta        ZANATTA_CARLO   66   577\n",
       "153       Zangari         ZANGARI_ALDO   62    11\n",
       "154         Zeppa         ZEPPA_ONORIO   61    96\n",
       "\n",
       "[155 rows x 4 columns]"
      ]
     },
     "execution_count": 6,
     "metadata": {},
     "output_type": "execute_result"
    }
   ],
   "source": [
    "survivor_age_survdays"
   ]
  },
  {
   "cell_type": "code",
   "execution_count": 7,
   "metadata": {},
   "outputs": [],
   "source": [
    "survivor_age_survdays = survivor_age_survdays.replace('viva', -1)\n",
    "survivor_age_survdays = survivor_age_survdays.replace('vivo', -1)\n",
    "survivor_age_survdays['Days'] = survivor_age_survdays['Days'].astype(np.float)"
   ]
  },
  {
   "cell_type": "code",
   "execution_count": 8,
   "metadata": {},
   "outputs": [],
   "source": [
    "survivor_age_survdays = survivor_age_survdays.replace(-1, np.max(survivor_age_survdays['Days']))"
   ]
  },
  {
   "cell_type": "code",
   "execution_count": 9,
   "metadata": {},
   "outputs": [],
   "source": [
    "\"\"\"\n",
    "Compute the intersection of all keys from a given set of dataset\n",
    "\"\"\"\n",
    "def subjects_in_datasets(datasets): \n",
    "    result = None\n",
    "    for dataset in datasets:\n",
    "        if result is None:\n",
    "            result = list(dataset.keys())\n",
    "        else:\n",
    "            result = np.intersect1d(list(dataset.keys()), result)\n",
    "    return result"
   ]
  },
  {
   "cell_type": "code",
   "execution_count": 10,
   "metadata": {},
   "outputs": [],
   "source": [
    "intersection_subjects = subjects_in_datasets(datasets)"
   ]
  },
  {
   "cell_type": "code",
   "execution_count": 11,
   "metadata": {},
   "outputs": [],
   "source": [
    "survivor = {}\n",
    "eta = {}\n",
    "\n",
    "for subject, e, sopr in zip(survivor_age_survdays['Path'], survivor_age_survdays['Age'], survivor_age_survdays['Days']):\n",
    "    if subject in intersection_subjects:\n",
    "        survivor[subject] = sopr\n",
    "        eta[subject] = e"
   ]
  },
  {
   "cell_type": "code",
   "execution_count": 12,
   "metadata": {},
   "outputs": [],
   "source": [
    "from functools import reduce\n",
    "\n",
    "all_subjects = reduce(np.union1d, map(lambda x: np.array(list(x.keys())), datasets))"
   ]
  },
  {
   "cell_type": "code",
   "execution_count": 13,
   "metadata": {},
   "outputs": [],
   "source": [
    "missing = []\n",
    "for subject in all_subjects:\n",
    "    if subject not in survivor:\n",
    "        # print(\"Missing\", subject)\n",
    "        missing.append(subject)"
   ]
  },
  {
   "cell_type": "code",
   "execution_count": 14,
   "metadata": {},
   "outputs": [
    {
     "name": "stdout",
     "output_type": "stream",
     "text": [
      "remove: BIANCHI_S\n",
      "remove: FARELLA_PAOLO\n",
      "remove: RUFINI_A\n"
     ]
    }
   ],
   "source": [
    "for miss in missing:\n",
    "    print(\"remove:\", miss)\n",
    "    for dataset in datasets:\n",
    "        if miss in dataset:\n",
    "            del dataset[miss]"
   ]
  },
  {
   "cell_type": "code",
   "execution_count": 15,
   "metadata": {},
   "outputs": [
    {
     "data": {
      "text/plain": [
       "(154, 154, 154, 154, 154)"
      ]
     },
     "execution_count": 15,
     "metadata": {},
     "output_type": "execute_result"
    }
   ],
   "source": [
    "len(datasets[0].keys()), len(datasets[1].keys()), len(datasets[2].keys()), len(eta.keys()), len(survivor.keys())"
   ]
  },
  {
   "cell_type": "markdown",
   "metadata": {},
   "source": [
    "# Splitting Data"
   ]
  },
  {
   "cell_type": "code",
   "execution_count": 16,
   "metadata": {},
   "outputs": [],
   "source": [
    "from sklearn.model_selection import train_test_split\n",
    "\n",
    "\"\"\"\n",
    "Establish the intersection of all keys and return train and test subjects\n",
    "\"\"\"\n",
    "def get_split(datasets, test_size=0.2, random_state=42):\n",
    "    \n",
    "    # Intersection of subjects from datasets\n",
    "    subjects = reduce(np.intersect1d, map(lambda x: np.array(list(x.keys())), datasets))\n",
    "    \n",
    "    print(\"Subject in intersection:\", subjects.shape[0])\n",
    "    \n",
    "    indexes = list(range(subjects.shape[0]))\n",
    "\n",
    "    train_index, test_index = train_test_split(\n",
    "        indexes, \n",
    "        test_size=test_size, \n",
    "        random_state=random_state)\n",
    "\n",
    "    train_subjects = subjects[train_index]\n",
    "    test_subjects = subjects[test_index]\n",
    "    \n",
    "    return train_subjects, test_subjects"
   ]
  },
  {
   "cell_type": "code",
   "execution_count": 17,
   "metadata": {},
   "outputs": [],
   "source": [
    "def get_image_data(dataset, subjects):\n",
    "    result = []\n",
    "    for subject in subjects:\n",
    "        result.append([dataset[subject][0]])\n",
    "    return np.concatenate(result, axis=0)   "
   ]
  },
  {
   "cell_type": "code",
   "execution_count": 18,
   "metadata": {},
   "outputs": [],
   "source": [
    "def get_dict_data(dataset, subjects):\n",
    "    result = []\n",
    "    for subject in subjects:\n",
    "        result.append(dataset[subject])\n",
    "    return np.array(result)"
   ]
  },
  {
   "cell_type": "code",
   "execution_count": 19,
   "metadata": {},
   "outputs": [],
   "source": [
    "def get_age_data(dataset, subjects):\n",
    "    result = []\n",
    "    for subject in subjects:\n",
    "        result.append(dataset[subject] / 100.0)\n",
    "    return np.array(result)"
   ]
  },
  {
   "cell_type": "code",
   "execution_count": 20,
   "metadata": {},
   "outputs": [],
   "source": [
    "\n",
    "def get_survivor_data(dataset, subjects):\n",
    "    \n",
    "    threshold_day = 360\n",
    "    \n",
    "    survivor_days = get_dict_data(dataset, subjects)\n",
    "    survivor_days[survivor_days <= threshold_day] = 1\n",
    "    survivor_days[survivor_days > threshold_day] = 0\n",
    "    \n",
    "    return survivor_days\n",
    "    \n",
    "    # segments = np.floor(get_dict_data(dataset, subjects) / (365.0 / 4.0))\n",
    "    # segments[segments > 6] = 6\n",
    "    # return to_categorical(segments)"
   ]
  },
  {
   "cell_type": "code",
   "execution_count": 21,
   "metadata": {},
   "outputs": [],
   "source": [
    "datasets = [datasets[0], datasets[1], datasets[2], datasets[3], eta, survivor]"
   ]
  },
  {
   "cell_type": "code",
   "execution_count": 22,
   "metadata": {},
   "outputs": [
    {
     "name": "stdout",
     "output_type": "stream",
     "text": [
      "Subject in intersection: 154\n"
     ]
    }
   ],
   "source": [
    "train, test = get_split(datasets)"
   ]
  },
  {
   "cell_type": "code",
   "execution_count": 23,
   "metadata": {},
   "outputs": [],
   "source": [
    "Xs_train = []\n",
    "for i, dataset in enumerate(datasets[:4]):\n",
    "    Xs_train.append(get_image_data(dataset, train))\n",
    "Xs_train = np.array(Xs_train)"
   ]
  },
  {
   "cell_type": "code",
   "execution_count": 24,
   "metadata": {},
   "outputs": [],
   "source": [
    "Xs_test = []\n",
    "for i, dataset in enumerate(datasets[:4]):\n",
    "    Xs_test.append(get_image_data(dataset, test))\n",
    "Xs_test = np.array(Xs_test)"
   ]
  },
  {
   "cell_type": "code",
   "execution_count": 25,
   "metadata": {},
   "outputs": [],
   "source": [
    "from keras.utils import to_categorical\n",
    "\n",
    "y_train = to_categorical(get_survivor_data(survivor, train))\n",
    "y_test = to_categorical(get_survivor_data(survivor, test))"
   ]
  },
  {
   "cell_type": "code",
   "execution_count": 26,
   "metadata": {},
   "outputs": [
    {
     "data": {
      "text/plain": [
       "(4, 31, 64, 64, 1)"
      ]
     },
     "execution_count": 26,
     "metadata": {},
     "output_type": "execute_result"
    }
   ],
   "source": [
    "Xs_test.shape"
   ]
  },
  {
   "cell_type": "code",
   "execution_count": 27,
   "metadata": {},
   "outputs": [
    {
     "data": {
      "text/plain": [
       "(31, 64, 64, 2)"
      ]
     },
     "execution_count": 27,
     "metadata": {},
     "output_type": "execute_result"
    }
   ],
   "source": [
    "np.stack([Xs_test[0,:,:,:,0], Xs_test[1,:,:,:,0]], axis=3).shape\n",
    "\n",
    "# "
   ]
  },
  {
   "cell_type": "markdown",
   "metadata": {},
   "source": [
    "# Modelling"
   ]
  },
  {
   "cell_type": "code",
   "execution_count": 28,
   "metadata": {},
   "outputs": [],
   "source": [
    "side = 64"
   ]
  },
  {
   "cell_type": "code",
   "execution_count": 29,
   "metadata": {},
   "outputs": [],
   "source": [
    "from gliomi.models import CNNCombinedModel, GliomiNature2019"
   ]
  },
  {
   "cell_type": "code",
   "execution_count": 30,
   "metadata": {},
   "outputs": [
    {
     "name": "stdout",
     "output_type": "stream",
     "text": [
      "WARNING:tensorflow:From /usr/local/lib/python3.6/dist-packages/tensorflow_core/python/ops/resource_variable_ops.py:1630: calling BaseResourceVariable.__init__ (from tensorflow.python.ops.resource_variable_ops) with constraint is deprecated and will be removed in a future version.\n",
      "Instructions for updating:\n",
      "If using Keras pass *_constraint arguments to layers.\n"
     ]
    }
   ],
   "source": [
    "flair_full_brain = GliomiNature2019(128, classes=64, input_shape=(side,side,1))"
   ]
  },
  {
   "cell_type": "code",
   "execution_count": 31,
   "metadata": {},
   "outputs": [],
   "source": [
    "flair_tumor_crop = GliomiNature2019(128, classes=64, input_shape=(side,side,1))"
   ]
  },
  {
   "cell_type": "code",
   "execution_count": 32,
   "metadata": {},
   "outputs": [],
   "source": [
    "mprage_full_brain = GliomiNature2019(128, classes=64, input_shape=(side,side,1))"
   ]
  },
  {
   "cell_type": "code",
   "execution_count": 33,
   "metadata": {},
   "outputs": [],
   "source": [
    "mprage_tumor_crop = GliomiNature2019(128, classes=64, input_shape=(side,side,1))"
   ]
  },
  {
   "cell_type": "code",
   "execution_count": 34,
   "metadata": {},
   "outputs": [],
   "source": [
    "model = CNNCombinedModel([flair_full_brain, flair_tumor_crop, mprage_full_brain, mprage_tumor_crop])"
   ]
  },
  {
   "cell_type": "code",
   "execution_count": 35,
   "metadata": {},
   "outputs": [
    {
     "name": "stdout",
     "output_type": "stream",
     "text": [
      "[INFO] training model...\n",
      "Train on 123 samples, validate on 31 samples\n",
      "Epoch 1/50\n",
      "123/123 [==============================] - 11s 92ms/sample - loss: 0.6943 - categorical_accuracy: 0.4634 - val_loss: 0.6915 - val_categorical_accuracy: 0.5484\n",
      "Epoch 2/50\n",
      "123/123 [==============================] - 1s 8ms/sample - loss: 0.6857 - categorical_accuracy: 0.5447 - val_loss: 0.6923 - val_categorical_accuracy: 0.5484\n",
      "Epoch 3/50\n",
      "123/123 [==============================] - 1s 9ms/sample - loss: 0.6578 - categorical_accuracy: 0.5528 - val_loss: 0.7010 - val_categorical_accuracy: 0.5484\n",
      "Epoch 4/50\n",
      "123/123 [==============================] - 1s 8ms/sample - loss: 0.6155 - categorical_accuracy: 0.7642 - val_loss: 0.7164 - val_categorical_accuracy: 0.4516\n",
      "Epoch 5/50\n",
      "123/123 [==============================] - 1s 8ms/sample - loss: 0.5342 - categorical_accuracy: 0.8374 - val_loss: 0.7032 - val_categorical_accuracy: 0.5161\n",
      "Epoch 6/50\n",
      "123/123 [==============================] - 1s 8ms/sample - loss: 0.4829 - categorical_accuracy: 0.8049 - val_loss: 0.6933 - val_categorical_accuracy: 0.4516\n",
      "Epoch 7/50\n",
      "123/123 [==============================] - 1s 8ms/sample - loss: 0.3754 - categorical_accuracy: 0.8862 - val_loss: 0.7219 - val_categorical_accuracy: 0.5484\n",
      "Epoch 8/50\n",
      "123/123 [==============================] - 1s 8ms/sample - loss: 0.2525 - categorical_accuracy: 0.9512 - val_loss: 0.8164 - val_categorical_accuracy: 0.5484\n",
      "Epoch 9/50\n",
      "123/123 [==============================] - 1s 8ms/sample - loss: 0.1556 - categorical_accuracy: 0.9837 - val_loss: 0.7131 - val_categorical_accuracy: 0.5484\n",
      "Epoch 10/50\n",
      "123/123 [==============================] - 1s 8ms/sample - loss: 0.0808 - categorical_accuracy: 1.0000 - val_loss: 0.6907 - val_categorical_accuracy: 0.6452\n",
      "Epoch 11/50\n",
      "123/123 [==============================] - 1s 8ms/sample - loss: 0.0570 - categorical_accuracy: 0.9919 - val_loss: 0.7913 - val_categorical_accuracy: 0.4839\n",
      "Epoch 12/50\n",
      "123/123 [==============================] - 1s 8ms/sample - loss: 0.0401 - categorical_accuracy: 1.0000 - val_loss: 0.9522 - val_categorical_accuracy: 0.4194\n",
      "Epoch 13/50\n",
      "123/123 [==============================] - 1s 8ms/sample - loss: 0.0246 - categorical_accuracy: 1.0000 - val_loss: 0.7825 - val_categorical_accuracy: 0.5484\n",
      "Epoch 14/50\n",
      "123/123 [==============================] - 1s 8ms/sample - loss: 0.0148 - categorical_accuracy: 1.0000 - val_loss: 0.9548 - val_categorical_accuracy: 0.4516\n",
      "Epoch 15/50\n",
      "123/123 [==============================] - 1s 8ms/sample - loss: 0.0061 - categorical_accuracy: 1.0000 - val_loss: 1.0368 - val_categorical_accuracy: 0.4516\n",
      "Epoch 16/50\n",
      "123/123 [==============================] - 1s 8ms/sample - loss: 0.0057 - categorical_accuracy: 1.0000 - val_loss: 1.1037 - val_categorical_accuracy: 0.4516\n",
      "Epoch 17/50\n",
      "123/123 [==============================] - 1s 8ms/sample - loss: 0.0040 - categorical_accuracy: 1.0000 - val_loss: 1.1089 - val_categorical_accuracy: 0.4516\n",
      "Epoch 18/50\n",
      "123/123 [==============================] - 1s 8ms/sample - loss: 0.0030 - categorical_accuracy: 1.0000 - val_loss: 0.9575 - val_categorical_accuracy: 0.4839\n",
      "Epoch 19/50\n",
      "123/123 [==============================] - 1s 8ms/sample - loss: 0.0047 - categorical_accuracy: 1.0000 - val_loss: 0.9249 - val_categorical_accuracy: 0.5161\n",
      "Epoch 20/50\n",
      "123/123 [==============================] - 1s 8ms/sample - loss: 0.0031 - categorical_accuracy: 1.0000 - val_loss: 1.0948 - val_categorical_accuracy: 0.5161\n",
      "Epoch 21/50\n",
      "123/123 [==============================] - 1s 8ms/sample - loss: 0.0016 - categorical_accuracy: 1.0000 - val_loss: 1.4527 - val_categorical_accuracy: 0.4839\n",
      "Epoch 22/50\n",
      "123/123 [==============================] - 1s 8ms/sample - loss: 0.0018 - categorical_accuracy: 1.0000 - val_loss: 1.4384 - val_categorical_accuracy: 0.4839\n",
      "Epoch 23/50\n",
      "123/123 [==============================] - 1s 9ms/sample - loss: 0.0013 - categorical_accuracy: 1.0000 - val_loss: 1.3313 - val_categorical_accuracy: 0.4839\n",
      "Epoch 24/50\n",
      "123/123 [==============================] - 1s 9ms/sample - loss: 0.0012 - categorical_accuracy: 1.0000 - val_loss: 1.1428 - val_categorical_accuracy: 0.4839\n",
      "Epoch 25/50\n",
      "123/123 [==============================] - 1s 8ms/sample - loss: 0.0010 - categorical_accuracy: 1.0000 - val_loss: 1.0449 - val_categorical_accuracy: 0.4839\n",
      "Epoch 26/50\n",
      "123/123 [==============================] - 1s 8ms/sample - loss: 9.5409e-04 - categorical_accuracy: 1.0000 - val_loss: 0.9866 - val_categorical_accuracy: 0.4839\n",
      "Epoch 27/50\n",
      "123/123 [==============================] - 1s 8ms/sample - loss: 9.1672e-04 - categorical_accuracy: 1.0000 - val_loss: 0.9228 - val_categorical_accuracy: 0.4516\n",
      "Epoch 28/50\n",
      "123/123 [==============================] - 1s 8ms/sample - loss: 7.9315e-04 - categorical_accuracy: 1.0000 - val_loss: 0.9174 - val_categorical_accuracy: 0.4516\n",
      "Epoch 29/50\n",
      "123/123 [==============================] - 1s 8ms/sample - loss: 7.2760e-04 - categorical_accuracy: 1.0000 - val_loss: 0.9251 - val_categorical_accuracy: 0.4194\n",
      "Epoch 30/50\n",
      "123/123 [==============================] - 1s 9ms/sample - loss: 7.9777e-04 - categorical_accuracy: 1.0000 - val_loss: 0.9320 - val_categorical_accuracy: 0.4194\n",
      "Epoch 31/50\n",
      "123/123 [==============================] - 1s 8ms/sample - loss: 0.0020 - categorical_accuracy: 1.0000 - val_loss: 0.9354 - val_categorical_accuracy: 0.5161\n",
      "Epoch 32/50\n",
      "123/123 [==============================] - 1s 8ms/sample - loss: 8.6626e-04 - categorical_accuracy: 1.0000 - val_loss: 0.9268 - val_categorical_accuracy: 0.4516\n",
      "Epoch 33/50\n",
      "123/123 [==============================] - 1s 8ms/sample - loss: 0.0011 - categorical_accuracy: 1.0000 - val_loss: 0.9479 - val_categorical_accuracy: 0.5161\n",
      "Epoch 34/50\n",
      "123/123 [==============================] - 1s 8ms/sample - loss: 8.4090e-04 - categorical_accuracy: 1.0000 - val_loss: 0.9715 - val_categorical_accuracy: 0.5161\n",
      "Epoch 35/50\n",
      "123/123 [==============================] - 1s 8ms/sample - loss: 8.4281e-04 - categorical_accuracy: 1.0000 - val_loss: 1.0822 - val_categorical_accuracy: 0.4839\n",
      "Epoch 36/50\n",
      "123/123 [==============================] - 1s 8ms/sample - loss: 6.5337e-04 - categorical_accuracy: 1.0000 - val_loss: 1.1247 - val_categorical_accuracy: 0.6129\n",
      "Epoch 37/50\n",
      "123/123 [==============================] - 1s 8ms/sample - loss: 6.1166e-04 - categorical_accuracy: 1.0000 - val_loss: 1.1078 - val_categorical_accuracy: 0.6129\n",
      "Epoch 38/50\n",
      "123/123 [==============================] - 1s 9ms/sample - loss: 5.9201e-04 - categorical_accuracy: 1.0000 - val_loss: 1.0657 - val_categorical_accuracy: 0.5806\n",
      "Epoch 39/50\n",
      "123/123 [==============================] - 1s 9ms/sample - loss: 4.9938e-04 - categorical_accuracy: 1.0000 - val_loss: 1.0272 - val_categorical_accuracy: 0.5806\n",
      "Epoch 40/50\n",
      "123/123 [==============================] - 1s 8ms/sample - loss: 4.6427e-04 - categorical_accuracy: 1.0000 - val_loss: 1.0029 - val_categorical_accuracy: 0.5806\n",
      "Epoch 41/50\n",
      "123/123 [==============================] - 1s 8ms/sample - loss: 4.1362e-04 - categorical_accuracy: 1.0000 - val_loss: 0.9714 - val_categorical_accuracy: 0.5806\n",
      "Epoch 42/50\n",
      "123/123 [==============================] - 1s 8ms/sample - loss: 3.9414e-04 - categorical_accuracy: 1.0000 - val_loss: 0.9677 - val_categorical_accuracy: 0.5161\n",
      "Epoch 43/50\n",
      "123/123 [==============================] - 1s 8ms/sample - loss: 3.8452e-04 - categorical_accuracy: 1.0000 - val_loss: 0.9660 - val_categorical_accuracy: 0.5161\n",
      "Epoch 44/50\n",
      "123/123 [==============================] - 1s 8ms/sample - loss: 3.8559e-04 - categorical_accuracy: 1.0000 - val_loss: 0.9654 - val_categorical_accuracy: 0.4839\n",
      "Epoch 45/50\n",
      "123/123 [==============================] - 1s 8ms/sample - loss: 3.2953e-04 - categorical_accuracy: 1.0000 - val_loss: 0.9710 - val_categorical_accuracy: 0.4839\n",
      "Epoch 46/50\n",
      "123/123 [==============================] - 1s 8ms/sample - loss: 3.5194e-04 - categorical_accuracy: 1.0000 - val_loss: 0.9725 - val_categorical_accuracy: 0.5161\n",
      "Epoch 47/50\n",
      "123/123 [==============================] - 1s 8ms/sample - loss: 3.1773e-04 - categorical_accuracy: 1.0000 - val_loss: 0.9817 - val_categorical_accuracy: 0.5484\n",
      "Epoch 48/50\n"
     ]
    },
    {
     "name": "stdout",
     "output_type": "stream",
     "text": [
      "123/123 [==============================] - 1s 8ms/sample - loss: 2.8916e-04 - categorical_accuracy: 1.0000 - val_loss: 0.9900 - val_categorical_accuracy: 0.5484\n",
      "Epoch 49/50\n",
      "123/123 [==============================] - 1s 8ms/sample - loss: 2.7510e-04 - categorical_accuracy: 1.0000 - val_loss: 0.9987 - val_categorical_accuracy: 0.5806\n",
      "Epoch 50/50\n",
      "123/123 [==============================] - 1s 8ms/sample - loss: 2.6769e-04 - categorical_accuracy: 1.0000 - val_loss: 1.0096 - val_categorical_accuracy: 0.6129\n"
     ]
    },
    {
     "data": {
      "text/plain": [
       "<tensorflow.python.keras.callbacks.History at 0x7f34930c8860>"
      ]
     },
     "execution_count": 35,
     "metadata": {},
     "output_type": "execute_result"
    }
   ],
   "source": [
    "from tensorflow.keras.optimizers import Adam\n",
    "from keras.callbacks import EarlyStopping, ModelCheckpoint\n",
    "\n",
    "epochs = 50\n",
    "\n",
    "batch_size = 16\n",
    "\n",
    "opt = Adam(lr=1e-3 / 10, decay=1e-3 / epochs)\n",
    "\n",
    "# model.compile(optimizer=\"adam\", loss=\"mse\", metrics=['categorical_accuracy'])\n",
    "\n",
    "model.compile(optimizer=\"adam\", loss=\"categorical_crossentropy\", metrics=['categorical_accuracy'])\n",
    "\n",
    "# model.compile(loss=\"mean_absolute_percentage_error\", optimizer=opt)\n",
    "\n",
    "print(\"[INFO] training model...\")\n",
    "\n",
    "early_stopping_callback = EarlyStopping(monitor='loss', patience=50)\n",
    "\n",
    "from keras.preprocessing.image import ImageDataGenerator\n",
    "\n",
    "model.fit(\n",
    "    x=Xs_train.tolist(), y=y_train,\n",
    "    callbacks=[early_stopping_callback],\n",
    "    validation_data=(Xs_test.tolist(), y_test),\n",
    "    batch_size=batch_size,\n",
    "    epochs=epochs)"
   ]
  },
  {
   "cell_type": "code",
   "execution_count": 36,
   "metadata": {},
   "outputs": [],
   "source": [
    "def sensitivity(X, y):\n",
    "    ok = 0\n",
    "    ko = 0\n",
    "    for a, b in zip(model.predict(X), y):\n",
    "        # print(np.round(a), b, (np.all(np.round(a) == b)))\n",
    "        if np.all(np.round(a) == b):\n",
    "            ok = ok + 1\n",
    "        else:\n",
    "            ko = ko + 1\n",
    "    return (ok / (ok + ko) * 100.0), ok, ko"
   ]
  },
  {
   "cell_type": "code",
   "execution_count": 37,
   "metadata": {},
   "outputs": [
    {
     "name": "stdout",
     "output_type": "stream",
     "text": [
      "Train Sensitivity\n",
      "ok: 70 ko: 53 56.91056910569105 %\n",
      "Test Sensitivity\n",
      "ok: 19 ko: 12 61.29032258064516 %\n"
     ]
    }
   ],
   "source": [
    "print(\"Train Sensitivity\")\n",
    "train_sensitivity = sensitivity(Xs_train.tolist(), y_train)\n",
    "print(\"ok:\", train_sensitivity[1], \"ko:\", train_sensitivity[2], train_sensitivity[0], \"%\")\n",
    "\n",
    "print(\"Test Sensitivity\")\n",
    "test_sensitivity = sensitivity(Xs_test.tolist(), y_test)\n",
    "print(\"ok:\", test_sensitivity[1], \"ko:\", test_sensitivity[2], test_sensitivity[0], \"%\")"
   ]
  },
  {
   "cell_type": "code",
   "execution_count": 38,
   "metadata": {},
   "outputs": [
    {
     "data": {
      "image/png": "[encoded data removed]",
      "text/plain": [
       "<Figure size 576x576 with 2 Axes>"
      ]
     },
     "metadata": {
      "needs_background": "light"
     },
     "output_type": "display_data"
    }
   ],
   "source": [
    "\"\"\"\n",
    "Save results in plot\n",
    "\"\"\"\n",
    "def plot_history(history):\n",
    "\n",
    "    acc = history.history['categorical_accuracy']\n",
    "    val_acc = history.history['val_categorical_accuracy']\n",
    "\n",
    "    loss = history.history['loss']\n",
    "    val_loss = history.history['val_loss']\n",
    "\n",
    "    plt.figure(figsize=(8, 8))\n",
    "    plt.subplot(2, 1, 1)\n",
    "    plt.plot(acc, label='Training Accuracy')\n",
    "    plt.plot(val_acc, label='Validation Accuracy')\n",
    "    plt.legend(loc='lower right')\n",
    "    plt.ylabel('Accuracy')\n",
    "    plt.ylim([min(plt.ylim()),1])\n",
    "    plt.title('Training and Validation Accuracy')\n",
    "\n",
    "    plt.subplot(2, 1, 2)\n",
    "    plt.plot(loss, label='Training Loss')\n",
    "    plt.plot(val_loss, label='Validation Loss')\n",
    "    plt.legend(loc='upper right')\n",
    "    plt.ylabel('Cross Entropy')\n",
    "    # plt.ylim([0,1.0])\n",
    "    plt.title('Training and Validation Loss')\n",
    "    plt.xlabel('epoch')\n",
    "\n",
    "    plt.show()\n",
    "\n",
    "plot_history(model.history)"
   ]
  },
  {
   "cell_type": "markdown",
   "metadata": {},
   "source": [
    "# Save model after training"
   ]
  },
  {
   "cell_type": "code",
   "execution_count": null,
   "metadata": {},
   "outputs": [],
   "source": [
    "# model.save(f\"4-channels-{side}.h5\")"
   ]
  },
  {
   "cell_type": "code",
   "execution_count": null,
   "metadata": {},
   "outputs": [],
   "source": [
    "model.summary()"
   ]
  },
  {
   "cell_type": "markdown",
   "metadata": {},
   "source": [
    "# Feature extractor"
   ]
  },
  {
   "cell_type": "code",
   "execution_count": null,
   "metadata": {},
   "outputs": [],
   "source": [
    "feature_extractor = Model(model.inputs, model.get_layer(\"concatenate\").output)"
   ]
  },
  {
   "cell_type": "markdown",
   "metadata": {},
   "source": [
    "# SVM"
   ]
  },
  {
   "cell_type": "code",
   "execution_count": null,
   "metadata": {},
   "outputs": [],
   "source": [
    "\"\"\"\n",
    "Establish the intersection of all keys and return train and test subjects\n",
    "\"\"\"\n",
    "def get_fake_validation_dataset(datasets, test_size=0.2, random_state=42):\n",
    "    \n",
    "    # Intersection of subjects from datasets\n",
    "    subjects = reduce(np.intersect1d, map(lambda x: np.array(list(x.keys())), datasets))\n",
    "    \n",
    "    indexes = list(range(subjects.shape[0]))\n",
    "\n",
    "    train_index, test_index = train_test_split(\n",
    "        indexes, \n",
    "        test_size=test_size, \n",
    "        random_state=random_state)\n",
    "\n",
    "    train_subjects = subjects[train_index]\n",
    "    test_subjects = subjects[test_index]\n",
    "    \n",
    "    ds = {}\n",
    "    for subject in test_subjects:\n",
    "        ds[subject] = 1\n",
    "    \n",
    "    return ds"
   ]
  },
  {
   "cell_type": "code",
   "execution_count": null,
   "metadata": {},
   "outputs": [],
   "source": [
    "def get_svm_split(random_state=42):\n",
    "    \n",
    "    # Validation dataset subjects\n",
    "    fake_ds = get_fake_validation_dataset(datasets)\n",
    "    \n",
    "    train, test = get_split([fake_ds], random_state=random_state)\n",
    "    \n",
    "    Xs_train = []\n",
    "    for i, dataset in enumerate(datasets[:4]):\n",
    "        Xs_train.append(get_image_data(dataset, train))\n",
    "    Xs_train = np.array(Xs_train)\n",
    "\n",
    "    Xs_test = []\n",
    "    for i, dataset in enumerate(datasets[:4]):\n",
    "        Xs_test.append(get_image_data(dataset, test))\n",
    "    Xs_test = np.array(Xs_test)\n",
    "\n",
    "    y_train = np.array(get_survivor_data(survivor, train))\n",
    "    y_test = np.array(get_survivor_data(survivor, test))\n",
    "\n",
    "    eta_train = np.array(get_age_data(eta, train))\n",
    "    eta_test = np.array(get_age_data(eta, test))\n",
    "    \n",
    "    return Xs_train, y_train, Xs_test, y_test, eta_train, eta_test"
   ]
  },
  {
   "cell_type": "code",
   "execution_count": null,
   "metadata": {},
   "outputs": [],
   "source": [
    "from sklearn import svm\n",
    "\n",
    "def evaluate_model_SVM(feature_extractor, times):\n",
    "    \n",
    "    scores = []\n",
    "    \n",
    "    for random_state in range(times):\n",
    "        \n",
    "        X_train, y_train, X_test, y_test, eta_train, eta_test = get_svm_split(random_state)\n",
    "            \n",
    "        features_train = feature_extractor.predict(X_train.tolist())\n",
    "\n",
    "        features_test = feature_extractor.predict(X_test.tolist())\n",
    "            \n",
    "        clf = svm.SVC()\n",
    "\n",
    "        clf.fit(features_train, y_train)\n",
    "\n",
    "        score = clf.score(features_test, y_test)\n",
    "\n",
    "        print(random_state, \":\", score)\n",
    "\n",
    "        scores.append(score)\n",
    "\n",
    "    return np.array(scores)"
   ]
  },
  {
   "cell_type": "code",
   "execution_count": null,
   "metadata": {},
   "outputs": [],
   "source": [
    "evaluate_model_SVM(feature_extractor, 10)"
   ]
  },
  {
   "cell_type": "code",
   "execution_count": null,
   "metadata": {},
   "outputs": [],
   "source": [
    "array([93.54, 87.09, 90.32, 80.64, 93.54, 93.54, 96.77, 93.54, 93.54, 90.32])"
   ]
  },
  {
   "cell_type": "code",
   "execution_count": null,
   "metadata": {},
   "outputs": [],
   "source": [
    "l = np.array([0.71428571, 0.57142857, 0.42857143, 0.57142857, 0.42857143,\n",
    "       0.42857143, 0.42857143, 0.28571429, 0.42857143, 0.42857143])"
   ]
  },
  {
   "cell_type": "code",
   "execution_count": null,
   "metadata": {},
   "outputs": [],
   "source": [
    "np.mean(l)"
   ]
  },
  {
   "cell_type": "code",
   "execution_count": 39,
   "metadata": {},
   "outputs": [],
   "source": [
    "from numba import cuda\n",
    "cuda.select_device(0)\n",
    "cuda.close()"
   ]
  },
  {
   "cell_type": "code",
   "execution_count": null,
   "metadata": {},
   "outputs": [],
   "source": []
  }
 ],
 "metadata": {
  "kernelspec": {
   "display_name": "Python 3",
   "language": "python",
   "name": "python3"
  },
  "language_info": {
   "codemirror_mode": {
    "name": "ipython",
    "version": 3
   },
   "file_extension": ".py",
   "mimetype": "text/x-python",
   "name": "python",
   "nbconvert_exporter": "python",
   "pygments_lexer": "ipython3",
   "version": "3.6.9"
  }
 },
 "nbformat": 4,
 "nbformat_minor": 4
}
