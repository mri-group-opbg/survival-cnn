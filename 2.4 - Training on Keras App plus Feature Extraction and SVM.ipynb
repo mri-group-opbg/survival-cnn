{
 "cells": [
  {
   "cell_type": "markdown",
   "metadata": {},
   "source": [
    "# README\n",
    "\n",
    "In questo notebook vengono utilizzare delle Keras Application per effettuare il training sulla \n",
    "base di un dataset di slice. Il training viene effettuato suddividendo il dataset in 80%-20%: \n",
    "80% delle slice viene utilizzata per il training e il 20% per il test.\n",
    "Una volta terminato il training dopo un numero alto di epoche, vengono generate le features per il dataset\n",
    "di validazione (20% delle slice totali).\n",
    "Questo dataset viene splittato ulteriormente in 80-20: Si utilizza l'80% delle slice per effettuare il \n",
    "training di una SVM e il 20% per effettuare la validazione.\n",
    "\n",
    "\n",
    "\n",
    "pre-trained per estrarre le feature\n",
    "da un dataset di slice. In seguito il dataset di slice viene suddiviso in train e test"
   ]
  },
  {
   "cell_type": "code",
   "execution_count": null,
   "metadata": {},
   "outputs": [],
   "source": [
    "import numpy as np\n",
    "from keras import layers\n",
    "from keras.layers import Input, Add, Dense, Dropout, Activation, ZeroPadding2D, BatchNormalization, Flatten, Conv2D, AveragePooling2D, MaxPooling2D, GlobalMaxPooling2D\n",
    "from keras.models import Model, load_model\n",
    "from keras.optimizers import SGD, Adam\n",
    "from keras.preprocessing import image\n",
    "from keras.utils import layer_utils\n",
    "from keras.utils.data_utils import get_file\n",
    "from keras.applications.imagenet_utils import preprocess_input\n",
    "#import pydot\n",
    "from IPython.display import SVG\n",
    "from keras.utils.vis_utils import model_to_dot\n",
    "from keras.utils import plot_model\n",
    "#from resnets_utils import *\n",
    "from keras.initializers import glorot_uniform\n",
    "import scipy.misc\n",
    "from matplotlib.pyplot import imshow\n",
    "%matplotlib inline\n",
    "from gliomi import *\n",
    "\n",
    "import keras.backend as K\n",
    "K.set_image_data_format('channels_last')\n",
    "K.set_learning_phase(1)"
   ]
  },
  {
   "cell_type": "code",
   "execution_count": 114,
   "metadata": {},
   "outputs": [],
   "source": [
    "def normalize_min_max(value):\n",
    "    return (value - np.min(value)) / (np.max(value) - np.min(value))"
   ]
  },
  {
   "cell_type": "markdown",
   "metadata": {},
   "source": [
    "# Variables Def"
   ]
  },
  {
   "cell_type": "code",
   "execution_count": null,
   "metadata": {},
   "outputs": [],
   "source": [
    "\n",
    "slice_datasets = [\n",
    "    \"/data/RMN/dataset-gliomi-cnn/datasets-full-brain\",\n",
    "    \"/data/RMN/dataset-gliomi-cnn/datasets-tumor-crop\"\n",
    "]\n",
    "\n",
    "datasets = [\n",
    "    \"survivor\", \n",
    "    \"idh\", \n",
    "    \"ki67\", \n",
    "    \"egfr\", \n",
    "    \"mgmt\"\n",
    "]\n",
    "\n",
    "percentiles = [\n",
    "    100, \n",
    "    70\n",
    "]\n",
    "\n",
    "sequences = [\n",
    "    \"t1\", \n",
    "    \"t2\", \n",
    "    \"flair\", \n",
    "    \"rcbv\", \n",
    "    \"adc\"\n",
    "]\n",
    "\n",
    "keras_models = [\n",
    "    \"MobileNetV2\",\n",
    "    \"NASNetMobile\",\n",
    "    \"VGG19\",\n",
    "    \"ResNet50\",\n",
    "    \"ResNet101\",\n",
    "    \"DenseNet169\",\n",
    "]\n",
    "\n",
    "optimizer_names = [\n",
    "    'rmsprop',\n",
    "    'sgd',\n",
    "    'adam'\n",
    "]"
   ]
  },
  {
   "cell_type": "markdown",
   "metadata": {},
   "source": [
    "# Model"
   ]
  },
  {
   "cell_type": "code",
   "execution_count": null,
   "metadata": {},
   "outputs": [],
   "source": [
    "from tensorflow.keras.applications import *\n",
    "\n",
    "from tensorflow.keras.models import Model\n",
    "from tensorflow.keras.layers import Dense, GlobalAveragePooling2D,Dropout\n",
    "\n",
    "from keras.callbacks import EarlyStopping, ModelCheckpoint\n",
    "\n",
    "from keras.optimizers import SGD, Adam\n",
    "\n",
    "import keras.backend as K\n",
    "\n",
    "def get_model(model_name, optimizer, include_dropout=False):\n",
    "    \n",
    "    K.clear_session()\n",
    "\n",
    "    K.set_image_data_format('channels_last')\n",
    "\n",
    "    IMG_SHAPE = (224, 224, 1)\n",
    "\n",
    "    # Base model is a Keras Application\n",
    "    base_model = eval(model_name)(weights=None, include_top=False, input_shape=IMG_SHAPE)\n",
    "\n",
    "    # add a global spatial average pooling layer\n",
    "    global_spatial_avg_pool_layer = GlobalAveragePooling2D()(base_model.output)\n",
    "\n",
    "    # Feature leayer\n",
    "    if include_dropout:\n",
    "        # Drop-out\n",
    "        dropout_layer = Dropout(0.5)(global_spatial_avg_pool_layer)\n",
    "        feature_layer = Dense(1024, activation='relu')(dropout_layer)\n",
    "        \n",
    "    else:\n",
    "        feature_layer = Dense(1024, activation='relu')(global_spatial_avg_pool_layer)\n",
    "\n",
    "    # and a logistic layer -- let's say we have 200 classes\n",
    "    prediction_layer = Dense(2, activation='softmax')(feature_layer)\n",
    "\n",
    "    # Final model\n",
    "    model = Model(inputs=base_model.input, outputs=prediction_layer)\n",
    "    \n",
    "    # Compile model\n",
    "    model.compile(optimizer=optimizer, loss='categorical_crossentropy', metrics=['accuracy','binary_crossentropy'])\n",
    "    \n",
    "    return model"
   ]
  },
  {
   "cell_type": "markdown",
   "metadata": {},
   "source": [
    "# Model fitting"
   ]
  },
  {
   "cell_type": "code",
   "execution_count": null,
   "metadata": {},
   "outputs": [],
   "source": [
    "def train_and_test(model_name, model, X_train, y_train, X_test, y_test, random_state=42, epochs=100, batch_size=16):\n",
    "    \n",
    "    early_stopping_callback = tf.keras.callbacks.EarlyStopping(monitor='loss', patience=10)\n",
    "    tensorboard_callback = tf.keras.callbacks.TensorBoard(log_dir=f\"logs-2.2-test/{model_name}\")\n",
    "            \n",
    "    fit = model.fit(\n",
    "            X_train, y_train, \n",
    "            epochs=epochs,\n",
    "            callbacks=[tensorboard_callback, early_stopping_callback],\n",
    "            validation_data=(X_test, y_test), \n",
    "            shuffle=True,\n",
    "            batch_size=batch_size)\n",
    "    \n",
    "    return fit"
   ]
  },
  {
   "cell_type": "markdown",
   "metadata": {},
   "source": [
    "# SVM evaluation"
   ]
  },
  {
   "cell_type": "code",
   "execution_count": null,
   "metadata": {},
   "outputs": [],
   "source": [
    "def evaluate_model_SVM(fit, dataset, times):\n",
    "    \n",
    "    scores = []\n",
    "    \n",
    "    for random_state in range(times):\n",
    "        \n",
    "        X_train, y_train, X_test, y_test = dataset.get_split(test_size=0.2, random_state=random_state)\n",
    "            \n",
    "        features_train = fit.predict([make_3_channels(X_train)])\n",
    "\n",
    "        features_test = fit.predict([make_3_channels(X_test)])\n",
    "            \n",
    "        clf = svm.SVC()\n",
    "\n",
    "        clf.fit(features_train, y_train)\n",
    "\n",
    "        score = clf.score(features_test, y_test)\n",
    "\n",
    "        print(random_state, \":\", score)\n",
    "\n",
    "        scores.append(score)\n",
    "\n",
    "    return np.array(scores)"
   ]
  },
  {
   "cell_type": "markdown",
   "metadata": {},
   "source": [
    "# Plotting "
   ]
  },
  {
   "cell_type": "code",
   "execution_count": null,
   "metadata": {},
   "outputs": [],
   "source": [
    "import matplotlib.pyplot as plt\n",
    "\n",
    "\"\"\"\n",
    "Save results in plot\n",
    "\"\"\"\n",
    "def save_plot(history, output_name):\n",
    "\n",
    "    acc = history.history['acc']\n",
    "    val_acc = history.history['val_acc']\n",
    "\n",
    "    loss = history.history['loss']\n",
    "    val_loss = history.history['val_loss']\n",
    "\n",
    "    plt.figure(figsize=(8, 8))\n",
    "    plt.subplot(2, 1, 1)\n",
    "    plt.plot(acc, label='Training Accuracy')\n",
    "    plt.plot(val_acc, label='Validation Accuracy')\n",
    "    plt.legend(loc='lower right')\n",
    "    plt.ylabel('Accuracy')\n",
    "    plt.ylim([min(plt.ylim()),1])\n",
    "    plt.title('Training and Validation Accuracy')\n",
    "\n",
    "    plt.subplot(2, 1, 2)\n",
    "    plt.plot(loss, label='Training Loss')\n",
    "    plt.plot(val_loss, label='Validation Loss')\n",
    "    plt.legend(loc='upper right')\n",
    "    plt.ylabel('Cross Entropy')\n",
    "    # plt.ylim([0,1.0])\n",
    "    plt.title('Training and Validation Loss')\n",
    "    plt.xlabel('epoch')\n",
    "\n",
    "    plt.savefig(f\"{output_name}.png\")\n",
    "    # plt.show()"
   ]
  },
  {
   "cell_type": "code",
   "execution_count": null,
   "metadata": {},
   "outputs": [],
   "source": [
    "# Main Iteration\n"
   ]
  },
  {
   "cell_type": "code",
   "execution_count": null,
   "metadata": {},
   "outputs": [],
   "source": [
    "import tensorflow as tf\n",
    "from keras import backend as K\n",
    "from sklearn import svm\n",
    "import numpy as np\n",
    "from tensorflow.keras.applications import *\n",
    "from sklearn.model_selection import train_test_split\n",
    "from sklearn.base import clone\n",
    "import sklearn\n",
    "import pandas as pd\n",
    "import numpy as np\n",
    "\n",
    "IMG_SHAPE = (224, 224, 3) # X.shape[1:]\n",
    "\n",
    "dataset = Dataset(\"dataset-survivor-t1-adc-flair-224-70-perc.pickle\")\n",
    "\n",
    "keras_models = [\n",
    "    \"MobileNetV2\",\n",
    "    \"NASNetMobile\",\n",
    "    \"VGG19\",\n",
    "    \"ResNet50\",\n",
    "    \"ResNet101\",\n",
    "    \"DenseNet169\",\n",
    "]\n",
    "\n",
    "result = {}\n",
    "\n",
    "times = 10\n",
    "\n",
    "result = {}\n",
    "\n",
    "subjects = np.array(list(dataset.get_subjects()))\n",
    "\n",
    "for model_name in keras_models:\n",
    "    \n",
    "    #try:\n",
    "\n",
    "        K.clear_session()\n",
    "\n",
    "        print(\"Loading\", model_name)\n",
    "\n",
    "        base_model = eval(model_name)(weights='imagenet', include_top=True, input_shape=IMG_SHAPE)\n",
    "\n",
    "        print(\"Loaded\", model_name)\n",
    "        \n",
    "        features = base_model.predict([dataset.slices])\n",
    "        \n",
    "        feature_df = pd.DataFrame(\n",
    "            np.concatenate([\n",
    "                np.expand_dims(dataset.subjects, axis=1), \n",
    "                np.expand_dims(dataset.labels, axis=1), \n",
    "                features\n",
    "            ], axis=1))\n",
    "        \n",
    "        scores = []\n",
    "        \n",
    "        for random_state in range(times):\n",
    "\n",
    "            train_index, test_index = train_test_split(list(range(subjects.shape[0])), test_size=0.2, random_state=random_state)\n",
    "\n",
    "            subjects_train = subjects[train_index]\n",
    "            subjects_test = subjects[test_index]\n",
    "            \n",
    "            X_features_train = feature_df[feature_df[0].isin(subjects_train)].iloc[:,2:]\n",
    "            y_train = feature_df[feature_df[0].isin(subjects_train)].iloc[:,1]\n",
    "            \n",
    "            X_features_test = feature_df[feature_df[0].isin(subjects_test)].iloc[:,2:]\n",
    "            y_test = feature_df[feature_df[0].isin(subjects_test)].iloc[:,1]\n",
    "\n",
    "            # X_train, y_train, X_test, y_test = dataset.get_split(train_index, test_index)\n",
    "            # X_features_train = base_model.predict([X_train])\n",
    "            # X_features_test = base_model.predict([X_test])\n",
    "            \n",
    "            clf = svm.SVC()\n",
    "\n",
    "            clf.fit(np.array(X_features_train), y_train)\n",
    "\n",
    "            score = clf.score(X_features_test, y_test)\n",
    "    \n",
    "            print(random_state, \":\", score)\n",
    "        \n",
    "            scores.append(score)\n",
    "        \n",
    "        scores = np.array(scores)\n",
    "        print(\"----> Scores:\", np.average(scores * 100), \"% +-\", np.std(scores * 100), \"%\")\n",
    "        result[model_name] = scores\n",
    "\n",
    "    #except:\n",
    "    #    pass"
   ]
  },
  {
   "cell_type": "code",
   "execution_count": null,
   "metadata": {},
   "outputs": [],
   "source": [
    "import os\n",
    "\n",
    "def make_name(slice_dataset, dataset, model_name, optimizer_name, sequence, percentile):\n",
    "    slice_dataset = os.path.basename(slice_dataset).replace(\"datasets-\", \"\")\n",
    "    return \", \".join([slice_dataset, dataset, model_name, optimizer_name, sequence, percentile])"
   ]
  },
  {
   "cell_type": "code",
   "execution_count": null,
   "metadata": {},
   "outputs": [],
   "source": [
    "from tensorflow.keras.applications import *\n",
    "from keras import backend as K\n",
    "\n",
    "img_shape = (224, 224, 1)\n",
    "\n",
    "#####\n",
    "#optimizers\n",
    "\n",
    "import tensorflow as tf\n",
    "\n",
    "# rmsprop = tf.keras.optimizers.RMSprop(learning_rate=0.0001)\n",
    "\n",
    "# from keras.optimizers import SGD, Adam\n",
    "\n",
    "# gd = tf.keras.optimizers.SGD(lr=0.001, momentum=0.9, decay=0.001/10, nesterov=False)\n",
    "\n",
    "adam = tf.keras.optimizers.Adam(lr=0.0001)\n",
    "\n",
    "# model.compile(optimizer= gd, loss='categorical_crossentropy', metrics=['accuracy'])\n",
    "\n",
    "base_model = eval(model_name)(weights=None, include_top=False, input_shape=img_shape)"
   ]
  },
  {
   "cell_type": "code",
   "execution_count": null,
   "metadata": {},
   "outputs": [],
   "source": [
    "from tensorflow.keras.models import Model\n",
    "from tensorflow.keras.layers import Dense, GlobalAveragePooling2D, Dropout\n",
    "\n",
    "# add a global spatial average pooling layer\n",
    "x = base_model.output\n",
    "\n",
    "x = GlobalAveragePooling2D()(x)\n",
    "\n",
    "#drop-out\n",
    "x = Dropout(0.5)(x)\n",
    "\n",
    "# Feature leayer\n",
    "x = Dense(512, activation='relu')(x)\n",
    "\n",
    "#x = Dropout(0.5)(x)\n",
    "\n",
    "# and a logistic layer -- let's say we have 200 classes\n",
    "predictions = Dense(2, activation='softmax')(x)\n",
    "\n",
    "# this is the model we will train\n",
    "model = Model(inputs=base_model.input, outputs=predictions)"
   ]
  },
  {
   "cell_type": "code",
   "execution_count": null,
   "metadata": {},
   "outputs": [],
   "source": [
    "# compile the model (should be done *after* setting layers to non-trainable)\n",
    "model.compile(optimizer=adam, loss=\"binary_crossentropy\", metrics=['accuracy', 'binary_crossentropy'])"
   ]
  },
  {
   "cell_type": "markdown",
   "metadata": {},
   "source": [
    "# Model fitting"
   ]
  },
  {
   "cell_type": "code",
   "execution_count": null,
   "metadata": {},
   "outputs": [],
   "source": [
    "'''Model fitting'''\n",
    "from keras.callbacks import EarlyStopping\n",
    "from keras.callbacks import ModelCheckpoint\n",
    "\n",
    "early_stopping_callback = tf.keras.callbacks.EarlyStopping(monitor='loss', patience=50)\n",
    "tensorboard_callback = tf.keras.callbacks.TensorBoard(log_dir=\"logs/testing\")"
   ]
  },
  {
   "cell_type": "code",
   "execution_count": null,
   "metadata": {},
   "outputs": [],
   "source": [
    "epochs = 15  # Increase this value for better results (i.e., more training)\n",
    "\n",
    "batch_size = 16  # Increasing this value might speed up fitting"
   ]
  },
  {
   "cell_type": "code",
   "execution_count": null,
   "metadata": {},
   "outputs": [],
   "source": [
    "import numpy as np\n",
    "\n",
    "# Fit\n",
    "fit = model.fit(\n",
    "        np.array(t1_train), y_train, \n",
    "        epochs=epochs,\n",
    "        # callbacks=[tensorboard_callback, early_stopping_callback],\n",
    "        # validation_data=(np.array(X_test_3d), categorical(y_test_3d)), \n",
    "        shuffle=True,\n",
    "        batch_size=batch_size)"
   ]
  },
  {
   "cell_type": "raw",
   "metadata": {},
   "source": [
    "Ho sistemato fino a qui, manca da mettere l'SVM."
   ]
  },
  {
   "cell_type": "code",
   "execution_count": 1,
   "metadata": {},
   "outputs": [
    {
     "ename": "NameError",
     "evalue": "name 'Dataset' is not defined",
     "output_type": "error",
     "traceback": [
      "\u001b[0;31m---------------------------------------------------------------------------\u001b[0m",
      "\u001b[0;31mNameError\u001b[0m                                 Traceback (most recent call last)",
      "\u001b[0;32m<ipython-input-1-1b766b22f5c5>\u001b[0m in \u001b[0;36m<module>\u001b[0;34m\u001b[0m\n\u001b[0;32m----> 1\u001b[0;31m \u001b[0mdataset\u001b[0m \u001b[0;34m=\u001b[0m \u001b[0mDataset\u001b[0m\u001b[0;34m(\u001b[0m\u001b[0;34m\"dataset-survivor-t1-adc-flair-224-90-perc.pickle\"\u001b[0m\u001b[0;34m)\u001b[0m\u001b[0;34m\u001b[0m\u001b[0;34m\u001b[0m\u001b[0m\n\u001b[0m",
      "\u001b[0;31mNameError\u001b[0m: name 'Dataset' is not defined"
     ]
    }
   ],
   "source": [
    "dataset = Dataset(\"dataset-survivor-t1-adc-flair-224-90-perc.pickle\")"
   ]
  },
  {
   "cell_type": "code",
   "execution_count": 80,
   "metadata": {},
   "outputs": [],
   "source": [
    "sequence_index = 1"
   ]
  },
  {
   "cell_type": "code",
   "execution_count": 81,
   "metadata": {},
   "outputs": [],
   "source": [
    "from sklearn.model_selection import train_test_split\n",
    "\n",
    "random_state = 42\n",
    "\n",
    "subjects = list(dataset.get_subjects())\n",
    "\n",
    "train_index, test_index = train_test_split(list(range(len(subjects))), test_size=0.2, random_state=random_state)"
   ]
  },
  {
   "cell_type": "code",
   "execution_count": 82,
   "metadata": {},
   "outputs": [],
   "source": [
    "X_train = dataset.slices[np.isin(dataset.subjects, np.array(subjects)[train_index])]"
   ]
  },
  {
   "cell_type": "code",
   "execution_count": 83,
   "metadata": {},
   "outputs": [],
   "source": [
    "import tensorflow as tf\n",
    "\n",
    "categorical_labels = tf.keras.utils.to_categorical(dataset.labels)"
   ]
  },
  {
   "cell_type": "code",
   "execution_count": 84,
   "metadata": {},
   "outputs": [],
   "source": [
    "y_train = np.array(categorical_labels)[np.isin(dataset.subjects, np.array(subjects)[train_index])]"
   ]
  },
  {
   "cell_type": "code",
   "execution_count": 85,
   "metadata": {},
   "outputs": [],
   "source": [
    "t1_train = np.expand_dims(X_train[:,:,:,sequence_index], axis=3)"
   ]
  },
  {
   "cell_type": "code",
   "execution_count": 86,
   "metadata": {},
   "outputs": [],
   "source": [
    "from tensorflow.keras.applications import *\n",
    "from keras import backend as K\n",
    "\n",
    "model_name = \"ResNet50\"\n",
    "\n",
    "IMG_SHAPE = (224, 224, 1)\n",
    "\n",
    "K.clear_session()\n",
    "\n",
    "K.set_image_data_format('channels_last')\n",
    "\n",
    "base_model = eval(model_name)(weights=None, include_top=False, input_shape=IMG_SHAPE)"
   ]
  },
  {
   "cell_type": "code",
   "execution_count": 87,
   "metadata": {},
   "outputs": [],
   "source": [
    "from tensorflow.keras.models import Model\n",
    "from tensorflow.keras.layers import Dense, GlobalAveragePooling2D, Dropout\n",
    "\n",
    "# add a global spatial average pooling layer\n",
    "x = base_model.output\n",
    "\n",
    "x = GlobalAveragePooling2D()(x)\n",
    "\n",
    "#drop-out\n",
    "x = Dropout(0.5)(x)\n",
    "\n",
    "# Feature leayer\n",
    "x = Dense(512, activation='relu')(x)\n",
    "\n",
    "x = Dropout(0.5)(x)\n",
    "\n",
    "# and a logistic layer -- let's say we have 200 classes\n",
    "predictions = Dense(2, activation='softmax')(x)\n",
    "\n",
    "# this is the model we will train\n",
    "model = Model(inputs=base_model.input, outputs=predictions)"
   ]
  },
  {
   "cell_type": "code",
   "execution_count": 88,
   "metadata": {},
   "outputs": [],
   "source": [
    "import tensorflow as tf\n",
    "\n",
    "# rmsprop = tf.keras.optimizers.RMSprop(learning_rate=0.0001)\n",
    "\n",
    "# from keras.optimizers import SGD, Adam\n",
    "\n",
    "# gd = tf.keras.optimizers.SGD(lr=0.001, momentum=0.9, decay=0.001/10, nesterov=False)\n",
    "\n",
    "adam = tf.keras.optimizers.Adam(lr=0.0001)\n",
    "\n",
    "# model.compile(optimizer= gd, loss='categorical_crossentropy', metrics=['accuracy'])\n",
    "\n",
    "# compile the model (should be done *after* setting layers to non-trainable)\n",
    "model.compile(optimizer=adam, loss=\"binary_crossentropy\", metrics=['accuracy', 'binary_crossentropy'])"
   ]
  },
  {
   "cell_type": "code",
   "execution_count": 89,
   "metadata": {},
   "outputs": [],
   "source": [
    "'''Model fitting'''\n",
    "from keras.callbacks import EarlyStopping\n",
    "from keras.callbacks import ModelCheckpoint\n",
    "\n",
    "early_stopping_callback = tf.keras.callbacks.EarlyStopping(monitor='loss', patience=50)\n",
    "tensorboard_callback = tf.keras.callbacks.TensorBoard(log_dir=\"logs/testing\")"
   ]
  },
  {
   "cell_type": "code",
   "execution_count": 90,
   "metadata": {},
   "outputs": [],
   "source": [
    "epochs = 15  # Increase this value for better results (i.e., more training)\n",
    "\n",
    "batch_size = 16  # Increasing this value might speed up fitting"
   ]
  },
  {
   "cell_type": "code",
   "execution_count": 91,
   "metadata": {},
   "outputs": [
    {
     "name": "stdout",
     "output_type": "stream",
     "text": [
      "Train on 782 samples\n",
      "Epoch 1/30\n",
      "782/782 [==============================] - 12s 15ms/sample - loss: 1.0710 - acc: 0.5281 - binary_crossentropy: 1.0710\n",
      "Epoch 2/30\n",
      "782/782 [==============================] - 5s 7ms/sample - loss: 0.8849 - acc: 0.6036 - binary_crossentropy: 0.8848\n",
      "Epoch 3/30\n",
      "782/782 [==============================] - 5s 7ms/sample - loss: 0.6464 - acc: 0.7020 - binary_crossentropy: 0.6463\n",
      "Epoch 4/30\n",
      "782/782 [==============================] - 5s 7ms/sample - loss: 0.4304 - acc: 0.8363 - binary_crossentropy: 0.4303\n",
      "Epoch 5/30\n",
      "782/782 [==============================] - 5s 7ms/sample - loss: 0.3429 - acc: 0.8645 - binary_crossentropy: 0.3428\n",
      "Epoch 6/30\n",
      "782/782 [==============================] - 5s 7ms/sample - loss: 0.1800 - acc: 0.9425 - binary_crossentropy: 0.1800\n",
      "Epoch 7/30\n",
      "782/782 [==============================] - 5s 7ms/sample - loss: 0.2220 - acc: 0.9143 - binary_crossentropy: 0.2220\n",
      "Epoch 8/30\n",
      "782/782 [==============================] - 5s 7ms/sample - loss: 0.1616 - acc: 0.9540 - binary_crossentropy: 0.1614\n",
      "Epoch 9/30\n",
      "782/782 [==============================] - 5s 7ms/sample - loss: 0.1757 - acc: 0.9476 - binary_crossentropy: 0.1756\n",
      "Epoch 10/30\n",
      "782/782 [==============================] - 5s 7ms/sample - loss: 0.1623 - acc: 0.9591 - binary_crossentropy: 0.1622\n",
      "Epoch 11/30\n",
      "782/782 [==============================] - 5s 7ms/sample - loss: 0.1624 - acc: 0.9578 - binary_crossentropy: 0.1623\n",
      "Epoch 12/30\n",
      "782/782 [==============================] - 5s 7ms/sample - loss: 0.0627 - acc: 0.9898 - binary_crossentropy: 0.0626\n",
      "Epoch 13/30\n",
      "782/782 [==============================] - 5s 7ms/sample - loss: 0.0810 - acc: 0.9885 - binary_crossentropy: 0.0809\n",
      "Epoch 14/30\n",
      "782/782 [==============================] - 5s 7ms/sample - loss: 0.1086 - acc: 0.9655 - binary_crossentropy: 0.1086\n",
      "Epoch 15/30\n",
      "782/782 [==============================] - 5s 7ms/sample - loss: 0.1323 - acc: 0.9591 - binary_crossentropy: 0.1323\n",
      "Epoch 16/30\n",
      "782/782 [==============================] - 5s 7ms/sample - loss: 0.0868 - acc: 0.9808 - binary_crossentropy: 0.0868\n",
      "Epoch 17/30\n",
      "782/782 [==============================] - 5s 7ms/sample - loss: 0.0835 - acc: 0.9668 - binary_crossentropy: 0.0835\n",
      "Epoch 18/30\n",
      "782/782 [==============================] - 5s 7ms/sample - loss: 0.0390 - acc: 0.9872 - binary_crossentropy: 0.0390\n",
      "Epoch 19/30\n",
      "782/782 [==============================] - 5s 7ms/sample - loss: 0.0307 - acc: 0.9910 - binary_crossentropy: 0.0307\n",
      "Epoch 20/30\n",
      "782/782 [==============================] - 5s 7ms/sample - loss: 0.0241 - acc: 0.9949 - binary_crossentropy: 0.0241\n",
      "Epoch 21/30\n",
      "782/782 [==============================] - 5s 7ms/sample - loss: 0.0292 - acc: 0.9885 - binary_crossentropy: 0.0292\n",
      "Epoch 22/30\n",
      "782/782 [==============================] - 5s 7ms/sample - loss: 0.0518 - acc: 0.9872 - binary_crossentropy: 0.0518\n",
      "Epoch 23/30\n",
      "782/782 [==============================] - 5s 7ms/sample - loss: 0.0218 - acc: 0.9949 - binary_crossentropy: 0.0218\n",
      "Epoch 24/30\n",
      "782/782 [==============================] - 5s 7ms/sample - loss: 0.0492 - acc: 0.9885 - binary_crossentropy: 0.0492\n",
      "Epoch 25/30\n",
      "782/782 [==============================] - 5s 7ms/sample - loss: 0.0082 - acc: 0.9962 - binary_crossentropy: 0.0082\n",
      "Epoch 26/30\n",
      "782/782 [==============================] - 5s 7ms/sample - loss: 0.0089 - acc: 0.9962 - binary_crossentropy: 0.0089\n",
      "Epoch 27/30\n",
      "782/782 [==============================] - 5s 7ms/sample - loss: 0.0652 - acc: 0.9795 - binary_crossentropy: 0.0652\n",
      "Epoch 28/30\n",
      "782/782 [==============================] - 5s 7ms/sample - loss: 0.0452 - acc: 0.9872 - binary_crossentropy: 0.0452\n",
      "Epoch 29/30\n",
      "782/782 [==============================] - 5s 7ms/sample - loss: 0.0256 - acc: 0.9923 - binary_crossentropy: 0.0256\n",
      "Epoch 30/30\n",
      "782/782 [==============================] - 5s 7ms/sample - loss: 0.0626 - acc: 0.9783 - binary_crossentropy: 0.0626\n"
     ]
    }
   ],
   "source": [
    "import numpy as np\n",
    "\n",
    "# Fit\n",
    "fit = model.fit(\n",
    "        np.array(t1_train), y_train, \n",
    "        epochs=epochs,\n",
    "        # callbacks=[tensorboard_callback, early_stopping_callback],\n",
    "        # validation_data=(np.array(X_test_3d), categorical(y_test_3d)), \n",
    "        shuffle=True,\n",
    "        batch_size=batch_size)"
   ]
  },
  {
   "cell_type": "code",
   "execution_count": 92,
   "metadata": {},
   "outputs": [],
   "source": [
    "def uncategorical(values):\n",
    "    zeros = np.sum(np.round(values) == (0, 1))\n",
    "    ones = np.sum(np.round(values) == (1, 0))\n",
    "    if zeros > ones:\n",
    "        return 0\n",
    "    else:\n",
    "        return 1"
   ]
  },
  {
   "cell_type": "code",
   "execution_count": 93,
   "metadata": {},
   "outputs": [
    {
     "name": "stdout",
     "output_type": "stream",
     "text": [
      "MONACELLI_LAURA 0 0\n",
      "CARZEDDA_PAOLO 1 1\n",
      "TEMPORIN_PATRIZIA 0 0\n",
      "MARIANI_BERNARDO 0 1\n",
      "PROIETTI_GIOVANNI 0 0\n",
      "NERONE_GIANLUCA 1 0\n",
      "DI_CARLATONIO_MAURIZIO 0 1\n",
      "GIORDANO_STEFANIA 0 0\n",
      "TEOFILI_STEFANO 0 0\n",
      "FILIPPONI_QUINTINO 0 1\n",
      "BARONTINI_MARIA_GIOVANNA 0 1\n",
      "SALA_CLARA 0 1\n",
      "DOBRISAN_DORINA 0 1\n",
      "QUATTROCIOCCHI_EVELINA 1 1\n",
      "NERVEGNA_G 0 0\n",
      "CARULLI_L 0 0\n",
      "PODDA_ANTONINO 0 1\n",
      "BIAVATI_S 0 1\n",
      "IONTA_LUCIANA 0 1\n",
      "BOEZI_MARIO 0 0\n",
      "FIUCCI_A 0 1\n",
      "DARIDA 0 1\n",
      "MUSAT_DORINA 0 0\n",
      "ALESSANDRINI_GLAUCO 0 1\n",
      "ISONI_FRANCESCO 0 1\n",
      "FABIANI_ANNA 1 0\n",
      "11 / 26 42.30769230769231 %\n"
     ]
    }
   ],
   "source": [
    "equals = 0\n",
    "tot = 0\n",
    "\n",
    "for subject in np.array(subjects)[test_index]:\n",
    "    \n",
    "    testing_slices = dataset.slices[np.isin(dataset.subjects, [subject])]\n",
    "    \n",
    "    t1_testing = testing_slices[:,:,:,sequence_index]\n",
    "\n",
    "    prediction = model.predict([np.expand_dims(t1_testing, axis=3)])\n",
    "\n",
    "    label = categorical_labels[np.isin(dataset.subjects, [subject])]\n",
    "    \n",
    "    print(subject, uncategorical(prediction), uncategorical(label))\n",
    "    \n",
    "    if uncategorical(prediction) == uncategorical(label):\n",
    "        equals = equals + 1\n",
    "    \n",
    "    tot = tot + 1\n",
    "    \n",
    "print(equals, \"/\", tot, (equals / tot * 100.0), \"%\")"
   ]
  },
  {
   "cell_type": "code",
   "execution_count": 94,
   "metadata": {},
   "outputs": [
    {
     "name": "stdout",
     "output_type": "stream",
     "text": [
      "201/201 [==============================] - 2s 8ms/sample - loss: 3.3644 - acc: 0.4577 - binary_crossentropy: 3.3644\n"
     ]
    },
    {
     "data": {
      "text/plain": [
       "[3.364440954776842, 0.45771143, 3.364441]"
      ]
     },
     "execution_count": 94,
     "metadata": {},
     "output_type": "execute_result"
    }
   ],
   "source": [
    "test_subjects = np.array(subjects)[test_index]\n",
    "\n",
    "test_X = dataset.slices[np.isin(dataset.subjects, test_subjects)]\n",
    "\n",
    "sequence_testing = np.expand_dims(test_X[:,:,:,sequence_index], axis=3)\n",
    "\n",
    "test_y = categorical_labels[np.isin(dataset.subjects, test_subjects)]\n",
    "\n",
    "model.evaluate(sequence_testing, test_y)"
   ]
  },
  {
   "cell_type": "code",
   "execution_count": null,
   "metadata": {},
   "outputs": [],
   "source": []
  },
  {
   "cell_type": "code",
   "execution_count": null,
   "metadata": {},
   "outputs": [],
   "source": []
  },
  {
   "cell_type": "code",
   "execution_count": null,
   "metadata": {},
   "outputs": [],
   "source": []
  },
  {
   "cell_type": "code",
   "execution_count": null,
   "metadata": {},
   "outputs": [],
   "source": []
  },
  {
   "cell_type": "code",
   "execution_count": null,
   "metadata": {},
   "outputs": [],
   "source": []
  },
  {
   "cell_type": "code",
   "execution_count": null,
   "metadata": {},
   "outputs": [],
   "source": []
  },
  {
   "cell_type": "code",
   "execution_count": null,
   "metadata": {},
   "outputs": [],
   "source": []
  },
  {
   "cell_type": "code",
   "execution_count": null,
   "metadata": {},
   "outputs": [],
   "source": []
  },
  {
   "cell_type": "code",
   "execution_count": null,
   "metadata": {},
   "outputs": [],
   "source": []
  },
  {
   "cell_type": "code",
   "execution_count": null,
   "metadata": {},
   "outputs": [],
   "source": [
    "X_train = dataset.slices[np.isin(dataset.subjects, np.array(subjects)[train_index])]"
   ]
  },
  {
   "cell_type": "code",
   "execution_count": null,
   "metadata": {},
   "outputs": [],
   "source": [
    "X_test = dataset.slices[np.isin(dataset.subjects, np.array(subjects)[test_index])]"
   ]
  },
  {
   "cell_type": "code",
   "execution_count": null,
   "metadata": {},
   "outputs": [],
   "source": [
    "y_train = np.array(dataset.labels)[np.isin(dataset.subjects, np.array(subjects)[train_index])]"
   ]
  },
  {
   "cell_type": "code",
   "execution_count": null,
   "metadata": {},
   "outputs": [],
   "source": [
    "y_test = np.array(dataset.labels)[np.isin(dataset.subjects, np.array(subjects)[test_index])]"
   ]
  },
  {
   "cell_type": "code",
   "execution_count": null,
   "metadata": {},
   "outputs": [],
   "source": [
    "def triplicate(y):\n",
    "    return np.concatenate([y for i in range(3)], axis=0)\n",
    "\n",
    "def split(X):\n",
    "    return np.expand_dims(np.concatenate([X[:,:,:,i] for i in range(3)], axis=0), axis=3)\n",
    "    \n",
    "def split_and_triplicate(X):\n",
    "    X_splitted = np.concatenate([X[:,:,:,i] for i in range(3)], axis=0)\n",
    "    X_splitted_reshaped = X_splitted.reshape(X_splitted.shape[0], X_splitted.shape[1], X_splitted.shape[2], 1)\n",
    "    return np.repeat(X_splitted_reshaped, 3, axis=3)"
   ]
  },
  {
   "cell_type": "code",
   "execution_count": null,
   "metadata": {},
   "outputs": [],
   "source": [
    "X_train.shape, X_test.shape, y_train.shape, y_test.shape"
   ]
  },
  {
   "cell_type": "code",
   "execution_count": null,
   "metadata": {},
   "outputs": [],
   "source": [
    "X_train_3d, X_test_3d, y_train_3d, y_test_3d = split(X_train), split(X_test), triplicate(y_train), triplicate(y_test)"
   ]
  },
  {
   "cell_type": "code",
   "execution_count": null,
   "metadata": {},
   "outputs": [],
   "source": [
    "X_train_3d.shape, X_test_3d.shape, y_train_3d.shape, y_test_3d.shape"
   ]
  },
  {
   "cell_type": "code",
   "execution_count": null,
   "metadata": {},
   "outputs": [],
   "source": []
  },
  {
   "cell_type": "code",
   "execution_count": null,
   "metadata": {},
   "outputs": [],
   "source": []
  },
  {
   "cell_type": "code",
   "execution_count": null,
   "metadata": {},
   "outputs": [],
   "source": []
  },
  {
   "cell_type": "code",
   "execution_count": null,
   "metadata": {},
   "outputs": [],
   "source": []
  },
  {
   "cell_type": "code",
   "execution_count": null,
   "metadata": {},
   "outputs": [],
   "source": []
  },
  {
   "cell_type": "code",
   "execution_count": null,
   "metadata": {},
   "outputs": [],
   "source": []
  },
  {
   "cell_type": "code",
   "execution_count": null,
   "metadata": {},
   "outputs": [],
   "source": [
    "sequences_features = [base_model.predict([sequence_3d]) for sequence_3d in sequences_3d]"
   ]
  },
  {
   "cell_type": "code",
   "execution_count": null,
   "metadata": {},
   "outputs": [],
   "source": [
    "features = np.concatenate(sequences_features, axis=1)"
   ]
  },
  {
   "cell_type": "code",
   "execution_count": null,
   "metadata": {},
   "outputs": [],
   "source": [
    "import pandas as pd\n",
    "\n",
    "feature_df = pd.DataFrame(\n",
    "    np.concatenate([\n",
    "        np.expand_dims(dataset.subjects, axis=1), \n",
    "        np.expand_dims(dataset.labels, axis=1), \n",
    "        features\n",
    "    ], axis=1))"
   ]
  },
  {
   "cell_type": "code",
   "execution_count": null,
   "metadata": {},
   "outputs": [],
   "source": [
    "subjects = np.array(list(dataset.get_subjects()))"
   ]
  },
  {
   "cell_type": "code",
   "execution_count": null,
   "metadata": {},
   "outputs": [],
   "source": [
    "from sklearn.model_selection import train_test_split\n",
    "from sklearn import svm\n",
    "\n",
    "times = 10\n",
    "\n",
    "result = {}\n",
    "\n",
    "scores = []\n",
    "\n",
    "for random_state in range(times):\n",
    "\n",
    "    train_index, test_index = train_test_split(list(range(subjects.shape[0])), test_size=0.2, random_state=random_state)\n",
    "\n",
    "    subjects_train = subjects[train_index]\n",
    "    subjects_test = subjects[test_index]\n",
    "\n",
    "    X_features_train = feature_df[feature_df[0].isin(subjects_train)].iloc[:,2:]\n",
    "    y_train = feature_df[feature_df[0].isin(subjects_train)].iloc[:,1]\n",
    "\n",
    "    X_features_test = feature_df[feature_df[0].isin(subjects_test)].iloc[:,2:]\n",
    "    y_test = feature_df[feature_df[0].isin(subjects_test)].iloc[:,1]\n",
    "\n",
    "    clf = svm.SVC()\n",
    "\n",
    "    clf.fit(np.array(X_features_train), y_train)\n",
    "\n",
    "    score = clf.score(X_features_test, y_test)\n",
    "\n",
    "    print(random_state, \":\", score)\n",
    "\n",
    "    scores.append(score)\n",
    "\n",
    "scores = np.array(scores)\n",
    "print(\"----> Scores:\", np.average(scores * 100), \"% +-\", np.std(scores * 100), \"%\")"
   ]
  },
  {
   "cell_type": "code",
   "execution_count": null,
   "metadata": {},
   "outputs": [],
   "source": []
  },
  {
   "cell_type": "code",
   "execution_count": null,
   "metadata": {},
   "outputs": [],
   "source": [
    "train_index, test_index = train_test_split(list(range(subjects.shape[0])), test_size=0.2, random_state=0)"
   ]
  },
  {
   "cell_type": "code",
   "execution_count": null,
   "metadata": {},
   "outputs": [],
   "source": [
    "subjects_train = subjects[train_index]\n",
    "subjects_test = subjects[test_index]"
   ]
  },
  {
   "cell_type": "code",
   "execution_count": null,
   "metadata": {},
   "outputs": [],
   "source": [
    "subjects.shape, subjects_train.shape, subjects_test.shape"
   ]
  },
  {
   "cell_type": "code",
   "execution_count": null,
   "metadata": {},
   "outputs": [],
   "source": [
    "    X_features_train = feature_df[feature_df[0].isin(subjects_train)].iloc[:,2:]\n",
    "    y_train = feature_df[feature_df[0].isin(subjects_train)].iloc[:,1]\n",
    "\n",
    "    X_features_test = feature_df[feature_df[0].isin(subjects_test)].iloc[:,2:]\n",
    "    y_test = feature_df[feature_df[0].isin(subjects_test)].iloc[:,1]\n"
   ]
  },
  {
   "cell_type": "code",
   "execution_count": null,
   "metadata": {},
   "outputs": [],
   "source": []
  },
  {
   "cell_type": "code",
   "execution_count": null,
   "metadata": {},
   "outputs": [],
   "source": []
  },
  {
   "cell_type": "code",
   "execution_count": null,
   "metadata": {},
   "outputs": [],
   "source": []
  },
  {
   "cell_type": "code",
   "execution_count": null,
   "metadata": {},
   "outputs": [],
   "source": []
  },
  {
   "cell_type": "code",
   "execution_count": null,
   "metadata": {},
   "outputs": [],
   "source": []
  },
  {
   "cell_type": "code",
   "execution_count": null,
   "metadata": {},
   "outputs": [],
   "source": []
  },
  {
   "cell_type": "code",
   "execution_count": null,
   "metadata": {},
   "outputs": [],
   "source": []
  },
  {
   "cell_type": "code",
   "execution_count": null,
   "metadata": {},
   "outputs": [],
   "source": []
  }
 ],
 "metadata": {
  "kernelspec": {
   "display_name": "Python 3",
   "language": "python",
   "name": "python3"
  },
  "language_info": {
   "codemirror_mode": {
    "name": "ipython",
    "version": 3
   },
   "file_extension": ".py",
   "mimetype": "text/x-python",
   "name": "python",
   "nbconvert_exporter": "python",
   "pygments_lexer": "ipython3",
   "version": "3.6.9"
  }
 },
 "nbformat": 4,
 "nbformat_minor": 4
}
