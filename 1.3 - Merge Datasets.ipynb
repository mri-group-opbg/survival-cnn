{
 "cells": [
  {
   "cell_type": "markdown",
   "metadata": {},
   "source": [
    "# README\n",
    "\n",
    "This notebook will merge dataset of bratz and pasquini"
   ]
  },
  {
   "cell_type": "code",
   "execution_count": null,
   "metadata": {},
   "outputs": [],
   "source": [
    "# !pip install --user keras==2.2.4"
   ]
  },
  {
   "cell_type": "code",
   "execution_count": 1,
   "metadata": {},
   "outputs": [
    {
     "name": "stderr",
     "output_type": "stream",
     "text": [
      "Using TensorFlow backend.\n"
     ]
    }
   ],
   "source": [
    "from gliomi import *"
   ]
  },
  {
   "cell_type": "code",
   "execution_count": 48,
   "metadata": {},
   "outputs": [],
   "source": [
    "def merge_database(db1_path, db2_path, output):\n",
    "\n",
    "    with open(db1_path, \"rb\") as file:\n",
    "        db1 = pickle.load(file)\n",
    "\n",
    "    with open(db2_path, \"rb\") as file:\n",
    "        db2 = pickle.load(file)\n",
    "        \n",
    "    result = {}\n",
    "    for key in db1.keys():\n",
    "        result[key] = db1[key]\n",
    "\n",
    "    for key in db2.keys():\n",
    "        result[key] = db2[key]\n",
    "        \n",
    "    with open(output, \"wb\") as file:\n",
    "        pickle.dump(result, file)"
   ]
  },
  {
   "cell_type": "code",
   "execution_count": 53,
   "metadata": {},
   "outputs": [],
   "source": [
    "tumor_crop = \"/data/RMN/dataset-gliomi-cnn/datasets-tumor-crop\""
   ]
  },
  {
   "cell_type": "code",
   "execution_count": 54,
   "metadata": {},
   "outputs": [],
   "source": [
    "merge_database(f\"{tumor_crop}/T1-64-100.pickle\",\n",
    "               f\"{tumor_crop}/bratz-t1-64-100.pickle\",\n",
    "               f\"{tumor_crop}/bratz-pasquini-t1-64-100.pickle\")"
   ]
  },
  {
   "cell_type": "code",
   "execution_count": 55,
   "metadata": {},
   "outputs": [],
   "source": [
    "merge_database(f\"{tumor_crop}/T2-64-100.pickle\",\n",
    "               f\"{tumor_crop}/bratz-t2-64-100.pickle\",\n",
    "               f\"{tumor_crop}/bratz-pasquini-t2-64-100.pickle\")"
   ]
  },
  {
   "cell_type": "code",
   "execution_count": 56,
   "metadata": {},
   "outputs": [],
   "source": [
    "merge_database(f\"{tumor_crop}/MPRAGE-64-100.pickle\",\n",
    "               f\"{tumor_crop}/bratz-t1ce-64-100.pickle\",\n",
    "               f\"{tumor_crop}/bratz-pasquini-mprage-64-100.pickle\")"
   ]
  },
  {
   "cell_type": "code",
   "execution_count": 57,
   "metadata": {},
   "outputs": [],
   "source": [
    "merge_database(f\"{tumor_crop}/FLAIR-64-100.pickle\",\n",
    "               f\"{tumor_crop}/bratz-flair-64-100.pickle\",\n",
    "               f\"{tumor_crop}/bratz-pasquini-flair-64-100.pickle\")"
   ]
  },
  {
   "cell_type": "code",
   "execution_count": 60,
   "metadata": {},
   "outputs": [],
   "source": [
    "full_brain = \"/data/RMN/dataset-gliomi-cnn/datasets-full-brain\""
   ]
  },
  {
   "cell_type": "code",
   "execution_count": 61,
   "metadata": {},
   "outputs": [],
   "source": [
    "merge_database(f\"{full_brain}/T1-64-100.pickle\",\n",
    "               f\"{full_brain}/bratz-t1-64-100.pickle\",\n",
    "               f\"{full_brain}/bratz-pasquini-t1-64-100.pickle\")"
   ]
  },
  {
   "cell_type": "code",
   "execution_count": 62,
   "metadata": {},
   "outputs": [],
   "source": [
    "merge_database(f\"{full_brain}/T2-64-100.pickle\",\n",
    "               f\"{full_brain}/bratz-t2-64-100.pickle\",\n",
    "               f\"{full_brain}/bratz-pasquini-t2-64-100.pickle\")"
   ]
  },
  {
   "cell_type": "code",
   "execution_count": 63,
   "metadata": {},
   "outputs": [],
   "source": [
    "merge_database(f\"{full_brain}/MPRAGE-64-100.pickle\",\n",
    "               f\"{full_brain}/bratz-t1ce-64-100.pickle\",\n",
    "               f\"{full_brain}/bratz-pasquini-mprage-64-100.pickle\")"
   ]
  },
  {
   "cell_type": "code",
   "execution_count": 64,
   "metadata": {},
   "outputs": [],
   "source": [
    "merge_database(f\"{full_brain}/FLAIR-64-100.pickle\",\n",
    "               f\"{full_brain}/bratz-flair-64-100.pickle\",\n",
    "               f\"{full_brain}/bratz-pasquini-flair-64-100.pickle\")"
   ]
  },
  {
   "cell_type": "code",
   "execution_count": 65,
   "metadata": {},
   "outputs": [],
   "source": [
    "import pandas as pd"
   ]
  },
  {
   "cell_type": "code",
   "execution_count": 66,
   "metadata": {},
   "outputs": [
    {
     "data": {
      "text/html": [
       "<div>\n",
       "<style scoped>\n",
       "    .dataframe tbody tr th:only-of-type {\n",
       "        vertical-align: middle;\n",
       "    }\n",
       "\n",
       "    .dataframe tbody tr th {\n",
       "        vertical-align: top;\n",
       "    }\n",
       "\n",
       "    .dataframe thead th {\n",
       "        text-align: right;\n",
       "    }\n",
       "</style>\n",
       "<table border=\"1\" class=\"dataframe\">\n",
       "  <thead>\n",
       "    <tr style=\"text-align: right;\">\n",
       "      <th></th>\n",
       "      <th>Subject</th>\n",
       "      <th>Path</th>\n",
       "      <th>Survival</th>\n",
       "    </tr>\n",
       "  </thead>\n",
       "  <tbody>\n",
       "    <tr>\n",
       "      <th>0</th>\n",
       "      <td>Alessandrini</td>\n",
       "      <td>ALESSANDRINI_GLAUCO</td>\n",
       "      <td>0.0</td>\n",
       "    </tr>\n",
       "    <tr>\n",
       "      <th>1</th>\n",
       "      <td>Angeloni</td>\n",
       "      <td>ANGELONI_GIUSEPPINA</td>\n",
       "      <td>1.0</td>\n",
       "    </tr>\n",
       "    <tr>\n",
       "      <th>2</th>\n",
       "      <td>Assanto</td>\n",
       "      <td>ASSANTO_MARIA</td>\n",
       "      <td>0.0</td>\n",
       "    </tr>\n",
       "    <tr>\n",
       "      <th>3</th>\n",
       "      <td>Asta</td>\n",
       "      <td>ASTA_G</td>\n",
       "      <td>1.0</td>\n",
       "    </tr>\n",
       "    <tr>\n",
       "      <th>4</th>\n",
       "      <td>Bagnoli</td>\n",
       "      <td>BAGNOLI_VINCENZO</td>\n",
       "      <td>1.0</td>\n",
       "    </tr>\n",
       "    <tr>\n",
       "      <th>...</th>\n",
       "      <td>...</td>\n",
       "      <td>...</td>\n",
       "      <td>...</td>\n",
       "    </tr>\n",
       "    <tr>\n",
       "      <th>151</th>\n",
       "      <td>Vitulano</td>\n",
       "      <td>VITULANO_RITA</td>\n",
       "      <td>1.0</td>\n",
       "    </tr>\n",
       "    <tr>\n",
       "      <th>152</th>\n",
       "      <td>Zampella</td>\n",
       "      <td>ZAMPELLA_A</td>\n",
       "      <td>1.0</td>\n",
       "    </tr>\n",
       "    <tr>\n",
       "      <th>153</th>\n",
       "      <td>Zanatta</td>\n",
       "      <td>ZANATTA_CARLO</td>\n",
       "      <td>1.0</td>\n",
       "    </tr>\n",
       "    <tr>\n",
       "      <th>154</th>\n",
       "      <td>Zangari</td>\n",
       "      <td>ZANGARI_ALDO</td>\n",
       "      <td>0.0</td>\n",
       "    </tr>\n",
       "    <tr>\n",
       "      <th>155</th>\n",
       "      <td>Zeppa</td>\n",
       "      <td>ZEPPA_ONORIO</td>\n",
       "      <td>0.0</td>\n",
       "    </tr>\n",
       "  </tbody>\n",
       "</table>\n",
       "<p>156 rows × 3 columns</p>\n",
       "</div>"
      ],
      "text/plain": [
       "          Subject                 Path  Survival\n",
       "0    Alessandrini  ALESSANDRINI_GLAUCO       0.0\n",
       "1        Angeloni  ANGELONI_GIUSEPPINA       1.0\n",
       "2         Assanto        ASSANTO_MARIA       0.0\n",
       "3            Asta               ASTA_G       1.0\n",
       "4         Bagnoli     BAGNOLI_VINCENZO       1.0\n",
       "..            ...                  ...       ...\n",
       "151      Vitulano        VITULANO_RITA       1.0\n",
       "152      Zampella           ZAMPELLA_A       1.0\n",
       "153       Zanatta        ZANATTA_CARLO       1.0\n",
       "154       Zangari         ZANGARI_ALDO       0.0\n",
       "155         Zeppa         ZEPPA_ONORIO       0.0\n",
       "\n",
       "[156 rows x 3 columns]"
      ]
     },
     "execution_count": 66,
     "metadata": {},
     "output_type": "execute_result"
    }
   ],
   "source": [
    "pd.read_csv(\"/data/RMN/dataset-gliomi-cnn/dataset-survivor.csv\")"
   ]
  },
  {
   "cell_type": "code",
   "execution_count": 73,
   "metadata": {},
   "outputs": [],
   "source": [
    "df = pd.read_csv(\"/data/RMN/dataset-gliomi-cnn/dataset-survivor-brats19.csv\")\n",
    "df['Subject'] = df['BraTS19ID']\n",
    "df = pd.DataFrame(data={'Subject': df['BraTS19ID'], 'Path': df['BraTS19ID'], 'Survival': df['Survival']})\n",
    "df.to_csv(\"/data/RMN/dataset-gliomi-cnn/dataset-bratz-pasquini-survivor.csv\", index=None)"
   ]
  }
 ],
 "metadata": {
  "kernelspec": {
   "display_name": "Python 3",
   "language": "python",
   "name": "python3"
  },
  "language_info": {
   "codemirror_mode": {
    "name": "ipython",
    "version": 3
   },
   "file_extension": ".py",
   "mimetype": "text/x-python",
   "name": "python",
   "nbconvert_exporter": "python",
   "pygments_lexer": "ipython3",
   "version": "3.6.9"
  }
 },
 "nbformat": 4,
 "nbformat_minor": 4
}
