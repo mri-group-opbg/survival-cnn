{
 "cells": [
  {
   "cell_type": "code",
   "execution_count": 1,
   "metadata": {
    "colab": {},
    "colab_type": "code",
    "id": "Ht-UHC0h6SMC"
   },
   "outputs": [
    {
     "data": {
      "text/plain": [
       "'/data/RMN/LUCA_PASQUINI/DATI_SEGMENTATI_SCALATI_media'"
      ]
     },
     "execution_count": 1,
     "metadata": {},
     "output_type": "execute_result"
    }
   ],
   "source": [
    "# Local directory where the Drive is mounted\n",
    "rootDirectory = \"/data/RMN/LUCA_PASQUINI\"\n",
    "\n",
    "# Local subdirectory where dataset is mounted\n",
    "dataDir = \"DATI_SEGMENTATI_SCALATI_media\"\n",
    "\n",
    "# Dataset dir\n",
    "datasetDir = f\"{rootDirectory}/{dataDir}\"\n",
    "\n",
    "datasetDir"
   ]
  },
  {
   "cell_type": "code",
   "execution_count": 2,
   "metadata": {
    "scrolled": true
   },
   "outputs": [
    {
     "name": "stdout",
     "output_type": "stream",
     "text": [
      "\u001b[0m\u001b[01;34mALESSANDRINI_GLAUCO\u001b[0m/       \u001b[01;34mFEDERICO_FRANCESCO\u001b[0m/      \u001b[01;34mPASCARELLA_P\u001b[0m/\r\n",
      "\u001b[01;34mANGELONI_GIUSEPPINA\u001b[0m/       \u001b[01;34mFERRAZZA_RITA\u001b[0m/           \u001b[01;34mPASSARI\u001b[0m/\r\n",
      "\u001b[01;34mASSANTO_MARIA\u001b[0m/             \u001b[01;34mFERRI_M_B\u001b[0m/               \u001b[01;34mPELUSO_A\u001b[0m/\r\n",
      "\u001b[01;34mASTA_G\u001b[0m/                    \u001b[01;34mFILIPPONI_QUINTINO\u001b[0m/      \u001b[01;34mPENNICCHI_R\u001b[0m/\r\n",
      "\u001b[01;34mBAGNOLI_VINCENZO\u001b[0m/          \u001b[01;34mFIUCCI_A\u001b[0m/                \u001b[01;34mPIERI\u001b[0m/\r\n",
      "\u001b[01;34mBALZAMO_A\u001b[0m/                 \u001b[01;34mFLORIO_FRANCESCO_PAOLO\u001b[0m/  \u001b[01;34mPIERINI_CATERINA\u001b[0m/\r\n",
      "\u001b[01;34mBARONTINI_MARIA_GIOVANNA\u001b[0m/  \u001b[01;34mFRATINI_RITA\u001b[0m/            \u001b[01;34mPINEDA_MARIA_ASSUNTA\u001b[0m/\r\n",
      "\u001b[01;34mBATTISTA_DOMENICA\u001b[0m/         \u001b[01;34mGATTAMORTA_NATALINA\u001b[0m/     \u001b[01;34mPISTOIA_CARLO\u001b[0m/\r\n",
      "\u001b[01;34mBERGNACH_SILVANO\u001b[0m/          \u001b[01;34mGEGGI_GIULIO\u001b[0m/            \u001b[01;34mPODAGROSI_TERESA\u001b[0m/\r\n",
      "\u001b[01;34mBERNOLA_TERESA\u001b[0m/            \u001b[01;34mGENNARI_CRISTIANO\u001b[0m/       \u001b[01;34mPODDA_ANTONINO\u001b[0m/\r\n",
      "\u001b[01;34mBERTUZZI_LUISA\u001b[0m/            \u001b[01;34mGIACCHERINI_M\u001b[0m/           \u001b[01;34mPOMPEI_F\u001b[0m/\r\n",
      "\u001b[01;34mBEVILACQUA_RITA\u001b[0m/           \u001b[01;34mGIANFELICI_LUISA\u001b[0m/        \u001b[01;34mPRINCIPI_ANNA_MARIA\u001b[0m/\r\n",
      "\u001b[01;34mBIANCHI_GIOVANNI\u001b[0m/          \u001b[01;34mGIOIA_COSMO_DAMIANO\u001b[0m/     \u001b[01;34mPROIETTI_GIOVANNI\u001b[0m/\r\n",
      "\u001b[01;34mBIANCHI_ORAZIO\u001b[0m/            \u001b[01;34mGIORDANO_STEFANIA\u001b[0m/       \u001b[01;34mPROIETTI_MARIA\u001b[0m/\r\n",
      "\u001b[01;34mBIANCHI_S\u001b[0m/                 \u001b[01;34mINCITI_DONATA\u001b[0m/           \u001b[01;34mQUACQUARELLI_A\u001b[0m/\r\n",
      "\u001b[01;34mBIAVATI_S\u001b[0m/                 \u001b[01;34mIONTA_LUCIANA\u001b[0m/           \u001b[01;34mQUATTROCIOCCHI_EVELINA\u001b[0m/\r\n",
      "\u001b[01;34mBOEZI_MARIO\u001b[0m/               \u001b[01;34mISMAIL_A\u001b[0m/                \u001b[01;34mRE_ATTILIO\u001b[0m/\r\n",
      "\u001b[01;34mBOVE_A\u001b[0m/                    \u001b[01;34mISONI_FRANCESCO\u001b[0m/         \u001b[01;34mRICCI_ALESSANDRO\u001b[0m/\r\n",
      "\u001b[01;34mCACACE_PAOLO\u001b[0m/              \u001b[01;34mLABELLA_ADRIANA\u001b[0m/         \u001b[01;34mROMITO_ORAZIO\u001b[0m/\r\n",
      "\u001b[01;34mCALDARONI_ANNA\u001b[0m/            \u001b[01;34mLANDONE_ANNUNZIATA\u001b[0m/      \u001b[01;34mRONZO_F\u001b[0m/\r\n",
      "\u001b[01;34mCAMACCI_FILIBERTO\u001b[0m/         \u001b[01;34mLIBERATI_G_L\u001b[0m/            \u001b[01;34mROSARI_NANDO\u001b[0m/\r\n",
      "\u001b[01;34mCAMPLESE_CANDEROLA\u001b[0m/        \u001b[01;34mLIOCE_CARMELA\u001b[0m/           \u001b[01;34mRUFINI_A\u001b[0m/\r\n",
      "\u001b[01;34mCAPEZZONE\u001b[0m/                 \u001b[01;34mLONGO_ROSALIA\u001b[0m/           \u001b[01;34mRUSCITO_ELISABETTA\u001b[0m/\r\n",
      "\u001b[01;34mCARULLI_L\u001b[0m/                 \u001b[01;34mLO_BELLO_MARIO\u001b[0m/          \u001b[01;34mRUSNAC_NINA\u001b[0m/\r\n",
      "\u001b[01;34mCARZEDDA_PAOLO\u001b[0m/            \u001b[01;34mLUPI_GIANCARLO\u001b[0m/          \u001b[01;34mRUSSO_IDA\u001b[0m/\r\n",
      "\u001b[01;34mCATALANI_F\u001b[0m/                \u001b[01;34mLUPO_ASSUNTA\u001b[0m/            \u001b[01;34mSALA_CLARA\u001b[0m/\r\n",
      "\u001b[01;34mCELLINI_T\u001b[0m/                 \u001b[01;34mMAIOLINI_SANTA\u001b[0m/          \u001b[01;34mSALTARELLI_DOMENICO\u001b[0m/\r\n",
      "\u001b[01;34mCHERRI_M\u001b[0m/                  \u001b[01;34mMARAGNO_CLARA\u001b[0m/           \u001b[01;34mSANTINI_ERMANNO\u001b[0m/\r\n",
      "\u001b[01;34mCIMPUREANU_N\u001b[0m/              \u001b[01;34mMARCOLINI\u001b[0m/               \u001b[01;34mSCARAMUZZA_F\u001b[0m/\r\n",
      "\u001b[01;34mCOLAFRANCESCO_ROCCO\u001b[0m/       \u001b[01;34mMARCONI_E\u001b[0m/               \u001b[01;34mSOLOVIY_VOLODYMYR\u001b[0m/\r\n",
      "\u001b[01;34mCOLAMARTINI_GIUSEPPINA\u001b[0m/    \u001b[01;34mMARIANI_BERNARDO\u001b[0m/        \u001b[01;34mSTAN_FLORENTINA\u001b[0m/\r\n",
      "\u001b[01;34mCOLAZZO_LUIGI_GIUSEPPE\u001b[0m/    \u001b[01;34mMAROCCHI_CORRADO\u001b[0m/        \u001b[01;34mSTEFANINI_CLORINDA\u001b[0m/\r\n",
      "\u001b[01;34mCOLETTA_MARIA\u001b[0m/             \u001b[01;34mMARTELLA_COSIMO\u001b[0m/         \u001b[01;34mSTERPA_GIUSEPPE\u001b[0m/\r\n",
      "\u001b[01;34mCOSIMI_MASSIMO\u001b[0m/            \u001b[01;34mMARTINEZ\u001b[0m/                \u001b[01;34mSYKULA_GRAZYNA_BARBARA\u001b[0m/\r\n",
      "\u001b[01;34mCOSTANZI_P\u001b[0m/                \u001b[01;34mMASCI_ADA\u001b[0m/               \u001b[01;34mTAVERNESE_G\u001b[0m/\r\n",
      "\u001b[01;34mCRESCENZI_ARMANDO\u001b[0m/         \u001b[01;34mMEDICI_GIOVANNA\u001b[0m/         \u001b[01;34mTAVOLUCCI_MARIA_RITA\u001b[0m/\r\n",
      "\u001b[01;34mDARIDA\u001b[0m/                    \u001b[01;34mMICHELI_MICHELE\u001b[0m/         \u001b[01;34mTEMPESTINI_MARISA\u001b[0m/\r\n",
      "\u001b[01;34mDEL_BOVE_PIERINA\u001b[0m/          \u001b[01;34mMITCHELL_CHARLENE_ANN\u001b[0m/   \u001b[01;34mTEMPORIN_PATRIZIA\u001b[0m/\r\n",
      "\u001b[01;34mDE_PAOLI_R\u001b[0m/                \u001b[01;34mMONACELLI_LAURA\u001b[0m/         \u001b[01;34mTEOFILI_STEFANO\u001b[0m/\r\n",
      "\u001b[01;34mDE_SANTIS_GIORGO\u001b[0m/          \u001b[01;34mMONTI_E\u001b[0m/                 \u001b[01;34mTESTA_SERGIO\u001b[0m/\r\n",
      "\u001b[01;34mDIASPRO_G\u001b[0m/                 \u001b[01;34mMOSCARDINI_GIACINTO\u001b[0m/     \u001b[01;34mTIBERI_GIUSEPPE\u001b[0m/\r\n",
      "\u001b[01;34mDI_CARLATONIO_MAURIZIO\u001b[0m/    \u001b[01;34mMOVIA_A\u001b[0m/                 \u001b[01;34mTOMAO_ANGELO\u001b[0m/\r\n",
      "\u001b[01;34mDI_LORENZO_TOMMASO\u001b[0m/        \u001b[01;34mMUSAT_DORINA\u001b[0m/            \u001b[01;34mTOMEO_VINCENZO\u001b[0m/\r\n",
      "\u001b[01;34mDI_MARCO_L\u001b[0m/                \u001b[01;34mNERONE_GIANLUCA\u001b[0m/         \u001b[01;34mTROSCIA_M\u001b[0m/\r\n",
      "\u001b[01;34mDI_MASO_SIMONE\u001b[0m/            \u001b[01;34mNERVEGNA_G\u001b[0m/              \u001b[01;34mVERONESI_ROCCO\u001b[0m/\r\n",
      "\u001b[01;34mDI_MASSA_SERGIO\u001b[0m/           \u001b[01;34mORLANDI_PAOLO\u001b[0m/           \u001b[01;34mVESCIA_M_T\u001b[0m/\r\n",
      "\u001b[01;34mDOBRISAN_DORINA\u001b[0m/           \u001b[01;34mPAGANNONE_GIANNI\u001b[0m/        \u001b[01;34mVITULANO_RITA\u001b[0m/\r\n",
      "\u001b[01;34mDROGHEI_SANDRO\u001b[0m/            \u001b[01;34mPAGLIAROLI_LUCIA\u001b[0m/        \u001b[01;34mZAMPELLA_A\u001b[0m/\r\n",
      "\u001b[01;34mD_ANGELI_ANNUNZIATA\u001b[0m/       \u001b[01;34mPAGNOTTA\u001b[0m/                \u001b[01;34mZANATTA_CARLO\u001b[0m/\r\n",
      "\u001b[01;34mD_ANGELO_RENATO\u001b[0m/           \u001b[01;34mPALMA\u001b[0m/                   \u001b[01;34mZANGARI_ALDO\u001b[0m/\r\n",
      "\u001b[01;34mEMERY_R_C\u001b[0m/                 \u001b[01;34mPALMIERI\u001b[0m/                \u001b[01;34mZEPPA_ONORIO\u001b[0m/\r\n",
      "\u001b[01;34mFABIANI_ANNA\u001b[0m/              \u001b[01;34mPANETTI\u001b[0m/\r\n",
      "\u001b[01;34mFARELLA_PAOLO\u001b[0m/             \u001b[01;34mPASCAL\u001b[0m/\r\n"
     ]
    }
   ],
   "source": [
    "ls {datasetDir}/"
   ]
  },
  {
   "cell_type": "code",
   "execution_count": 3,
   "metadata": {},
   "outputs": [],
   "source": [
    "#-m ensurepip --default-pip"
   ]
  },
  {
   "cell_type": "code",
   "execution_count": 4,
   "metadata": {
    "colab": {
     "base_uri": "https://localhost:8080/",
     "height": 228
    },
    "colab_type": "code",
    "id": "QEA9wlJn4s9A",
    "outputId": "27e40092-7320-48db-ae57-c84c8793943a"
   },
   "outputs": [
    {
     "name": "stdout",
     "output_type": "stream",
     "text": [
      "\u001b[33mWARNING: Retrying (Retry(total=4, connect=None, read=None, redirect=None, status=None)) after connection broken by 'ConnectTimeoutError(<pip._vendor.urllib3.connection.VerifiedHTTPSConnection object at 0x7f6146934710>, 'Connection to pypi.org timed out. (connect timeout=15)')': /simple/nilearn/\u001b[0m\n",
      "\u001b[33mWARNING: Retrying (Retry(total=3, connect=None, read=None, redirect=None, status=None)) after connection broken by 'ConnectTimeoutError(<pip._vendor.urllib3.connection.VerifiedHTTPSConnection object at 0x7f61469349b0>, 'Connection to pypi.org timed out. (connect timeout=15)')': /simple/nilearn/\u001b[0m\n",
      "\u001b[33mWARNING: Retrying (Retry(total=2, connect=None, read=None, redirect=None, status=None)) after connection broken by 'ConnectTimeoutError(<pip._vendor.urllib3.connection.VerifiedHTTPSConnection object at 0x7f6146934898>, 'Connection to pypi.org timed out. (connect timeout=15)')': /simple/nilearn/\u001b[0m\n",
      "\u001b[33mWARNING: Retrying (Retry(total=1, connect=None, read=None, redirect=None, status=None)) after connection broken by 'ConnectTimeoutError(<pip._vendor.urllib3.connection.VerifiedHTTPSConnection object at 0x7f6146934080>, 'Connection to pypi.org timed out. (connect timeout=15)')': /simple/nilearn/\u001b[0m\n",
      "\u001b[33mWARNING: Retrying (Retry(total=0, connect=None, read=None, redirect=None, status=None)) after connection broken by 'ConnectTimeoutError(<pip._vendor.urllib3.connection.VerifiedHTTPSConnection object at 0x7f61469341d0>, 'Connection to pypi.org timed out. (connect timeout=15)')': /simple/nilearn/\u001b[0m\n",
      "\u001b[31mERROR: Could not find a version that satisfies the requirement nilearn (from versions: none)\u001b[0m\n",
      "\u001b[31mERROR: No matching distribution found for nilearn\u001b[0m\n"
     ]
    }
   ],
   "source": [
    "# Modules to import\n",
    "\n",
    "!pip install nilearn"
   ]
  },
  {
   "cell_type": "code",
   "execution_count": 28,
   "metadata": {
    "colab": {},
    "colab_type": "code",
    "id": "4pP4i32fGX69"
   },
   "outputs": [
    {
     "ename": "ModuleNotFoundError",
     "evalue": "No module named 'nilearn'",
     "output_type": "error",
     "traceback": [
      "\u001b[0;31m---------------------------------------------------------------------------\u001b[0m",
      "\u001b[0;31mModuleNotFoundError\u001b[0m                       Traceback (most recent call last)",
      "\u001b[0;32m<ipython-input-28-274633186ed2>\u001b[0m in \u001b[0;36m<module>\u001b[0;34m\u001b[0m\n\u001b[1;32m      1\u001b[0m \u001b[0;31m# Main Imports\u001b[0m\u001b[0;34m\u001b[0m\u001b[0;34m\u001b[0m\u001b[0;34m\u001b[0m\u001b[0m\n\u001b[1;32m      2\u001b[0m \u001b[0;34m\u001b[0m\u001b[0m\n\u001b[0;32m----> 3\u001b[0;31m \u001b[0;32mimport\u001b[0m \u001b[0mnilearn\u001b[0m\u001b[0;34m\u001b[0m\u001b[0;34m\u001b[0m\u001b[0m\n\u001b[0m\u001b[1;32m      4\u001b[0m \u001b[0;34m\u001b[0m\u001b[0m\n\u001b[1;32m      5\u001b[0m \u001b[0;32mfrom\u001b[0m \u001b[0mnilearn\u001b[0m\u001b[0;34m.\u001b[0m\u001b[0mimage\u001b[0m \u001b[0;32mimport\u001b[0m \u001b[0mresample_to_img\u001b[0m\u001b[0;34m\u001b[0m\u001b[0;34m\u001b[0m\u001b[0m\n",
      "\u001b[0;31mModuleNotFoundError\u001b[0m: No module named 'nilearn'"
     ]
    }
   ],
   "source": [
    "# Main Imports\n",
    "\n",
    "import nilearn \n",
    "\n",
    "from nilearn.image import resample_to_img\n",
    "\n",
    "import pylab as plt\n",
    "\n",
    "import numpy as np\n",
    "import nibabel as nb\n",
    "import os\n",
    "import seaborn as sns #added\n",
    "sns.set(style=\"darkgrid\") #added\n",
    "\n"
   ]
  },
  {
   "cell_type": "code",
   "execution_count": null,
   "metadata": {
    "colab": {},
    "colab_type": "code",
    "id": "A_Dvkvt1oLkC"
   },
   "outputs": [],
   "source": [
    "from nilearn.image import mean_img #added\n",
    "from nilearn.plotting import plot_anat #added"
   ]
  },
  {
   "cell_type": "code",
   "execution_count": null,
   "metadata": {
    "colab": {
     "base_uri": "https://localhost:8080/",
     "height": 35
    },
    "colab_type": "code",
    "id": "kIpohNHpGT0-",
    "outputId": "1d03bf7c-8ed6-4bb7-a4fb-08b23017b275"
   },
   "outputs": [],
   "source": [
    "ls {datasetDir}/ALESSANDRINI_GLAUCO/"
   ]
  },
  {
   "cell_type": "code",
   "execution_count": 12,
   "metadata": {
    "colab": {
     "base_uri": "https://localhost:8080/",
     "height": 141
    },
    "colab_type": "code",
    "id": "Vmg2HBeIGcRM",
    "outputId": "316bfc99-59a1-4b6a-b5ee-de7ac9908f97"
   },
   "outputs": [
    {
     "ename": "NameError",
     "evalue": "name 'nb' is not defined",
     "output_type": "error",
     "traceback": [
      "\u001b[0;31m---------------------------------------------------------------------------\u001b[0m",
      "\u001b[0;31mNameError\u001b[0m                                 Traceback (most recent call last)",
      "\u001b[0;32m<ipython-input-12-6c0025a12007>\u001b[0m in \u001b[0;36m<module>\u001b[0;34m\u001b[0m\n\u001b[1;32m      2\u001b[0m \u001b[0;31m#https://drive.google.com/open?id=1U1iE2QRsNMgbD6NNxDm75wtciPQ9rNUx\u001b[0m\u001b[0;34m\u001b[0m\u001b[0;34m\u001b[0m\u001b[0;34m\u001b[0m\u001b[0m\n\u001b[1;32m      3\u001b[0m \u001b[0;34m\u001b[0m\u001b[0m\n\u001b[0;32m----> 4\u001b[0;31m \u001b[0mIMG_reg_1\u001b[0m \u001b[0;34m=\u001b[0m \u001b[0mnb\u001b[0m\u001b[0;34m.\u001b[0m\u001b[0mload\u001b[0m\u001b[0;34m(\u001b[0m\u001b[0;34mf\"{datasetDir}/ALESSANDRINI_GLAUCO/T1_registered.nii.gz*\"\u001b[0m\u001b[0;34m)\u001b[0m\u001b[0;34m\u001b[0m\u001b[0;34m\u001b[0m\u001b[0m\n\u001b[0m\u001b[1;32m      5\u001b[0m \u001b[0mDATA_1\u001b[0m\u001b[0;34m=\u001b[0m\u001b[0mIMG_reg_1\u001b[0m\u001b[0;34m.\u001b[0m\u001b[0mget_data\u001b[0m\u001b[0;34m(\u001b[0m\u001b[0;34m)\u001b[0m\u001b[0;34m\u001b[0m\u001b[0;34m\u001b[0m\u001b[0m\n\u001b[1;32m      6\u001b[0m \u001b[0ma\u001b[0m\u001b[0;34m=\u001b[0m\u001b[0;34m[\u001b[0m\u001b[0mDATA_1\u001b[0m\u001b[0;34m.\u001b[0m\u001b[0mshape\u001b[0m\u001b[0;34m]\u001b[0m\u001b[0;34m\u001b[0m\u001b[0;34m\u001b[0m\u001b[0m\n",
      "\u001b[0;31mNameError\u001b[0m: name 'nb' is not defined"
     ]
    }
   ],
   "source": [
    "# Load functional image of subjects\n",
    "#https://drive.google.com/open?id=1U1iE2QRsNMgbD6NNxDm75wtciPQ9rNUx\n",
    "\n",
    "IMG_reg_1 = nb.load(f\"{datasetDir}/ALESSANDRINI_GLAUCO/T1_registered.nii.gz*\")\n",
    "DATA_1=IMG_reg_1.get_data()\n",
    "a=[DATA_1.shape]\n",
    "DATA_1.shape\n",
    "a\n",
    "\n"
   ]
  },
  {
   "cell_type": "code",
   "execution_count": 0,
   "metadata": {
    "colab": {},
    "colab_type": "code",
    "id": "5KKxBBbqoppp"
   },
   "outputs": [],
   "source": [
    "\n",
    "#plot_anat(mean_img(func), cmap='magma', colorbar=False, display_mode='x', vmax=2, annotate=False,\n",
    "         # cut_coords=range(0, 49, 12), title='Mean value of machine learning dataset');"
   ]
  },
  {
   "cell_type": "code",
   "execution_count": 0,
   "metadata": {
    "colab": {
     "base_uri": "https://localhost:8080/",
     "height": 141
    },
    "colab_type": "code",
    "id": "Dl3tvJPvHAPd",
    "outputId": "2a201b62-fa04-428a-e941-be0263ee8740"
   },
   "outputs": [
    {
     "name": "stderr",
     "output_type": "stream",
     "text": [
      "/usr/local/lib/python3.6/dist-packages/ipykernel_launcher.py:2: DeprecationWarning: get_data() is deprecated in favor of get_fdata(), which has a more predictable return type. To obtain get_data() behavior going forward, use numpy.asanyarray(img.dataobj).\n",
      "\n",
      "* deprecated from version: 3.0\n",
      "* Will raise <class 'nibabel.deprecator.ExpiredDeprecationError'> as of version: 5.0\n",
      "  \n"
     ]
    },
    {
     "data": {
      "text/plain": [
       "[(192, 256, 128)]"
      ]
     },
     "execution_count": 8,
     "metadata": {
      "tags": []
     },
     "output_type": "execute_result"
    }
   ],
   "source": [
    "IMG_roi_1 = nb.load(f\"{datasetDir}/ALESSANDRINI/SOLID.nii\")\n",
    "ROI_DATA_1=IMG_roi_1.get_data()\n",
    "b=[ROI_DATA_1.shape]\n",
    "ROI_DATA_1.shape\n",
    "b\n"
   ]
  },
  {
   "cell_type": "code",
   "execution_count": 0,
   "metadata": {
    "colab": {},
    "colab_type": "code",
    "id": "10SiyQty7HFq"
   },
   "outputs": [],
   "source": [
    "# Ho rivisto fino qui"
   ]
  },
  {
   "cell_type": "code",
   "execution_count": 0,
   "metadata": {
    "colab": {
     "base_uri": "https://localhost:8080/",
     "height": 141
    },
    "colab_type": "code",
    "id": "AIzp7ePXHpP7",
    "outputId": "3d737430-0771-4117-c267-562da54de6f5"
   },
   "outputs": [
    {
     "name": "stderr",
     "output_type": "stream",
     "text": [
      "/usr/local/lib/python3.6/dist-packages/ipykernel_launcher.py:2: DeprecationWarning: get_data() is deprecated in favor of get_fdata(), which has a more predictable return type. To obtain get_data() behavior going forward, use numpy.asanyarray(img.dataobj).\n",
      "\n",
      "* deprecated from version: 3.0\n",
      "* Will raise <class 'nibabel.deprecator.ExpiredDeprecationError'> as of version: 5.0\n",
      "  \n"
     ]
    },
    {
     "data": {
      "text/plain": [
       "[(224, 256, 72)]"
      ]
     },
     "execution_count": 9,
     "metadata": {
      "tags": []
     },
     "output_type": "execute_result"
    }
   ],
   "source": [
    "IMG_reg_2=nb.load(f\"{datasetDir}/ANGELONI/T1_registered.nii.gz\")\n",
    "DATA_2=IMG_reg_2.get_data()\n",
    "c=[DATA_2.shape]\n",
    "DATA_2.shape\n",
    "c"
   ]
  },
  {
   "cell_type": "code",
   "execution_count": 0,
   "metadata": {
    "colab": {
     "base_uri": "https://localhost:8080/",
     "height": 141
    },
    "colab_type": "code",
    "id": "f68kzIhTIljS",
    "outputId": "4a2ed4ce-6f3d-45f5-d642-70c89291d760"
   },
   "outputs": [
    {
     "name": "stderr",
     "output_type": "stream",
     "text": [
      "/usr/local/lib/python3.6/dist-packages/ipykernel_launcher.py:2: DeprecationWarning: get_data() is deprecated in favor of get_fdata(), which has a more predictable return type. To obtain get_data() behavior going forward, use numpy.asanyarray(img.dataobj).\n",
      "\n",
      "* deprecated from version: 3.0\n",
      "* Will raise <class 'nibabel.deprecator.ExpiredDeprecationError'> as of version: 5.0\n",
      "  \n"
     ]
    },
    {
     "data": {
      "text/plain": [
       "[(192, 192, 36)]"
      ]
     },
     "execution_count": 10,
     "metadata": {
      "tags": []
     },
     "output_type": "execute_result"
    }
   ],
   "source": [
    "IMG_roi_2=nb.load(f\"{datasetDir}/ANGELONI/SOLID.nii\")\n",
    "ROI_DATA_2=IMG_roi_2.get_data()\n",
    "d=[ROI_DATA_2.shape]\n",
    "ROI_DATA_2.shape\n",
    "d"
   ]
  },
  {
   "cell_type": "code",
   "execution_count": 0,
   "metadata": {
    "colab": {},
    "colab_type": "code",
    "id": "cvKT3-z8IrFe"
   },
   "outputs": [],
   "source": [
    "#%cd /content/drive/My\\ Drive/ANGELONI/\n",
    "#!ls"
   ]
  },
  {
   "cell_type": "code",
   "execution_count": 0,
   "metadata": {
    "colab": {
     "base_uri": "https://localhost:8080/",
     "height": 141
    },
    "colab_type": "code",
    "id": "muEhKIaqI6cy",
    "outputId": "4eb29c32-216f-43ac-8cab-bba4862c1cb5"
   },
   "outputs": [
    {
     "name": "stderr",
     "output_type": "stream",
     "text": [
      "/usr/local/lib/python3.6/dist-packages/ipykernel_launcher.py:2: DeprecationWarning: get_data() is deprecated in favor of get_fdata(), which has a more predictable return type. To obtain get_data() behavior going forward, use numpy.asanyarray(img.dataobj).\n",
      "\n",
      "* deprecated from version: 3.0\n",
      "* Will raise <class 'nibabel.deprecator.ExpiredDeprecationError'> as of version: 5.0\n",
      "  \n"
     ]
    },
    {
     "data": {
      "text/plain": [
       "[(192, 256, 144)]"
      ]
     },
     "execution_count": 11,
     "metadata": {
      "tags": []
     },
     "output_type": "execute_result"
    }
   ],
   "source": [
    "IMG_reg_3=nb.load(f\"{datasetDir}/ASSANTO/T1_registered.nii.gz\")\n",
    "DATA_3=IMG_reg_3.get_data()\n",
    "e=[DATA_3.shape]\n",
    "DATA_3.shape\n",
    "e"
   ]
  },
  {
   "cell_type": "code",
   "execution_count": 0,
   "metadata": {
    "colab": {
     "base_uri": "https://localhost:8080/",
     "height": 141
    },
    "colab_type": "code",
    "id": "mRqB-weDJEkq",
    "outputId": "64e28b17-2cda-44e8-e079-4ed19cd8805c"
   },
   "outputs": [
    {
     "name": "stderr",
     "output_type": "stream",
     "text": [
      "/usr/local/lib/python3.6/dist-packages/ipykernel_launcher.py:2: DeprecationWarning: get_data() is deprecated in favor of get_fdata(), which has a more predictable return type. To obtain get_data() behavior going forward, use numpy.asanyarray(img.dataobj).\n",
      "\n",
      "* deprecated from version: 3.0\n",
      "* Will raise <class 'nibabel.deprecator.ExpiredDeprecationError'> as of version: 5.0\n",
      "  \n"
     ]
    },
    {
     "data": {
      "text/plain": [
       "[(192, 256, 144)]"
      ]
     },
     "execution_count": 12,
     "metadata": {
      "tags": []
     },
     "output_type": "execute_result"
    }
   ],
   "source": [
    "IMG_roi_3=nb.load(f\"{datasetDir}/ASSANTO/SOLID.nii\")\n",
    "ROI_DATA_3=IMG_roi_3.get_data()\n",
    "f=[ROI_DATA_3.shape]\n",
    "ROI_DATA_3.shape\n",
    "f"
   ]
  },
  {
   "cell_type": "code",
   "execution_count": 0,
   "metadata": {
    "colab": {
     "base_uri": "https://localhost:8080/",
     "height": 52
    },
    "colab_type": "code",
    "id": "sUxu3GF4JS6y",
    "outputId": "2f8b7439-eef3-440a-8012-f38519d243e1"
   },
   "outputs": [
    {
     "name": "stdout",
     "output_type": "stream",
     "text": [
      "/content/drive/My Drive/BAGNOLI\n",
      "SOLID.nii  T1_registered.nii.gz\n"
     ]
    }
   ],
   "source": [
    "#%cd /content/drive/My\\ Drive/BAGNOLI/\n",
    "#!ls"
   ]
  },
  {
   "cell_type": "code",
   "execution_count": 0,
   "metadata": {
    "colab": {
     "base_uri": "https://localhost:8080/",
     "height": 141
    },
    "colab_type": "code",
    "id": "ySa1chSMJnpk",
    "outputId": "bb9b3421-3e25-4282-b7fb-777769f6e09f"
   },
   "outputs": [
    {
     "name": "stderr",
     "output_type": "stream",
     "text": [
      "/usr/local/lib/python3.6/dist-packages/ipykernel_launcher.py:2: DeprecationWarning: get_data() is deprecated in favor of get_fdata(), which has a more predictable return type. To obtain get_data() behavior going forward, use numpy.asanyarray(img.dataobj).\n",
      "\n",
      "* deprecated from version: 3.0\n",
      "* Will raise <class 'nibabel.deprecator.ExpiredDeprecationError'> as of version: 5.0\n",
      "  \n"
     ]
    },
    {
     "data": {
      "text/plain": [
       "[(192, 256, 144)]"
      ]
     },
     "execution_count": 13,
     "metadata": {
      "tags": []
     },
     "output_type": "execute_result"
    }
   ],
   "source": [
    "IMG_reg_4=nb.load(f\"{datasetDir}/BAGNOLI/T1_registered.nii.gz\")\n",
    "DATA_4=IMG_reg_4.get_data()\n",
    "g=[DATA_4.shape]\n",
    "DATA_4.shape\n",
    "g"
   ]
  },
  {
   "cell_type": "code",
   "execution_count": 0,
   "metadata": {
    "colab": {
     "base_uri": "https://localhost:8080/",
     "height": 141
    },
    "colab_type": "code",
    "id": "eAvgMmTNKl26",
    "outputId": "40f73788-c2ad-4c78-c8f6-02a77fdc0494"
   },
   "outputs": [
    {
     "name": "stderr",
     "output_type": "stream",
     "text": [
      "/usr/local/lib/python3.6/dist-packages/ipykernel_launcher.py:2: DeprecationWarning: get_data() is deprecated in favor of get_fdata(), which has a more predictable return type. To obtain get_data() behavior going forward, use numpy.asanyarray(img.dataobj).\n",
      "\n",
      "* deprecated from version: 3.0\n",
      "* Will raise <class 'nibabel.deprecator.ExpiredDeprecationError'> as of version: 5.0\n",
      "  \n"
     ]
    },
    {
     "data": {
      "text/plain": [
       "[(192, 256, 144)]"
      ]
     },
     "execution_count": 14,
     "metadata": {
      "tags": []
     },
     "output_type": "execute_result"
    }
   ],
   "source": [
    "IMG_roi_4=nb.load(f\"{datasetDir}/BAGNOLI/SOLID.nii\")\n",
    "ROI_DATA_4=IMG_roi_4.get_data()\n",
    "h=[ROI_DATA_4.shape]\n",
    "ROI_DATA_4.shape\n",
    "h"
   ]
  },
  {
   "cell_type": "code",
   "execution_count": 0,
   "metadata": {
    "colab": {
     "base_uri": "https://localhost:8080/",
     "height": 156
    },
    "colab_type": "code",
    "id": "K-gDYvg-Vo-G",
    "outputId": "9df39dd7-4504-4f76-d0dd-5160635170ac"
   },
   "outputs": [
    {
     "data": {
      "text/plain": [
       "array([[192, 256, 128],\n",
       "       [192, 256, 128],\n",
       "       [224, 256,  72],\n",
       "       [192, 192,  36],\n",
       "       [192, 256, 144],\n",
       "       [192, 256, 144],\n",
       "       [192, 256, 144],\n",
       "       [192, 256, 144]])"
      ]
     },
     "execution_count": 15,
     "metadata": {
      "tags": []
     },
     "output_type": "execute_result"
    }
   ],
   "source": [
    "#creo matrice Def che ha per righe le dimensioni delle immagini MRI caricate\n",
    "Def=np.concatenate([a, b,c,d,e,f,g,h])\n",
    "Def\n",
    "#Def.shape"
   ]
  },
  {
   "cell_type": "code",
   "execution_count": 0,
   "metadata": {
    "colab": {
     "base_uri": "https://localhost:8080/",
     "height": 35
    },
    "colab_type": "code",
    "id": "OPLIAbKFcbqU",
    "outputId": "e064400a-8866-43dd-a632-94bdb939945a"
   },
   "outputs": [
    {
     "data": {
      "text/plain": [
       "array([192, 192,  36])"
      ]
     },
     "execution_count": 16,
     "metadata": {
      "tags": []
     },
     "output_type": "execute_result"
    }
   ],
   "source": [
    "#cerco i valori minimi sulla base dei quali fare il resample\n",
    "Min_value=np.amin(Def, axis=0)\n",
    "Min_value"
   ]
  },
  {
   "cell_type": "code",
   "execution_count": 0,
   "metadata": {
    "colab": {
     "base_uri": "https://localhost:8080/",
     "height": 35
    },
    "colab_type": "code",
    "id": "vXKVDnGFmc9s",
    "outputId": "260ca60f-0821-4561-a8ce-6a2658b48376"
   },
   "outputs": [
    {
     "data": {
      "text/plain": [
       "3"
      ]
     },
     "execution_count": 17,
     "metadata": {
      "tags": []
     },
     "output_type": "execute_result"
    }
   ],
   "source": [
    "# numero di righe coincidente con numero di mri+roi\n",
    "w=len(Def[:,0])\n",
    "#dimensione delle mri\n",
    "k=len(Def[0,:])\n",
    "k"
   ]
  },
  {
   "cell_type": "code",
   "execution_count": 0,
   "metadata": {
    "colab": {
     "base_uri": "https://localhost:8080/",
     "height": 156
    },
    "colab_type": "code",
    "id": "qsEPTxF7udC-",
    "outputId": "8f4cf4a2-bd07-4574-ad4a-a2e3656c35f0"
   },
   "outputs": [
    {
     "data": {
      "text/plain": [
       "array([[192, 192,  36],\n",
       "       [192, 192,  36],\n",
       "       [192, 192,  36],\n",
       "       [192, 192,  36],\n",
       "       [192, 192,  36],\n",
       "       [192, 192,  36],\n",
       "       [192, 192,  36],\n",
       "       [192, 192,  36]])"
      ]
     },
     "execution_count": 18,
     "metadata": {
      "tags": []
     },
     "output_type": "execute_result"
    }
   ],
   "source": [
    "#result=(w,k)\n",
    "#result=np.zeros(result)\n",
    "#result.shape\n",
    "\n",
    "#creo una matrice con l'array dei valori minimi da poter confrontare con le\n",
    "#dimensioni delle altre img del dataset\n",
    "Min = np.array(Min_value)\n",
    "Ref=np.tile(Min,(w,1))\n",
    "Ref\n"
   ]
  },
  {
   "cell_type": "code",
   "execution_count": 0,
   "metadata": {
    "colab": {
     "base_uri": "https://localhost:8080/",
     "height": 156
    },
    "colab_type": "code",
    "id": "YoF9FO1lzk4Z",
    "outputId": "1dbab5a1-2c5f-4871-d22a-2f84ab95ce13"
   },
   "outputs": [
    {
     "data": {
      "text/plain": [
       "array([[  0,  64,  92],\n",
       "       [  0,  64,  92],\n",
       "       [ 32,  64,  36],\n",
       "       [  0,   0,   0],\n",
       "       [  0,  64, 108],\n",
       "       [  0,  64, 108],\n",
       "       [  0,  64, 108],\n",
       "       [  0,  64, 108]])"
      ]
     },
     "execution_count": 19,
     "metadata": {
      "tags": []
     },
     "output_type": "execute_result"
    }
   ],
   "source": [
    "#cofronto\n",
    "Res=Def-Ref\n",
    "\n",
    "Res\n",
    "\n"
   ]
  },
  {
   "cell_type": "code",
   "execution_count": 0,
   "metadata": {
    "colab": {
     "base_uri": "https://localhost:8080/",
     "height": 35
    },
    "colab_type": "code",
    "id": "lgiXCVchpffL",
    "outputId": "39ae7e35-7348-4b5f-844a-b077345a7881"
   },
   "outputs": [
    {
     "data": {
      "text/plain": [
       "array([3])"
      ]
     },
     "execution_count": 20,
     "metadata": {
      "tags": []
     },
     "output_type": "execute_result"
    }
   ],
   "source": [
    "Res=np.array(Res)\n",
    "#cerco la riga con tutti zeri che corrisponde all'immagine di riferimento su cui\n",
    "#fare il resample delle altre immagini\n",
    "Pos=np.where(~Res.any(axis=1))[0]\n",
    "Pos\n",
    "#patient=np.ndarray.tolist(Pos)\n",
    "#if (Pos % 2) == 0:\n",
    "    #IMG_Ref=np.array(f\"IMG_reg_{(Pos//2)+1}\")\n",
    "#else:\n",
    "    #IMG_Ref=np.array(f\"IMG_roi_{(Pos+1)//2}\")\n",
    "\n",
    "#if (Pos % 2) == 0:\n",
    "    #IMG_Ref=np.array(f\"IMG_reg_{(Pos//2)+1}\")\n",
    "#else:\n",
    "    #IMG_Ref=np.array(f\"IMG_roi_{(Pos+1)//2}\")\n",
    "\n",
    "#room = {\"IMG_Ref\":np.array(f\"IMG_reg_{(Pos//2)+1}\"),\"IMG_Ref_1\":np.array(f\"IMG_roi_{(Pos+1)//2}\")}\n",
    "#room[\"IMG_Ref_1\"]\n",
    "#room=dict(IMG_Ref=np.array(IMG_reg_(f\"{(Pos//2)+1}\")),IMG_Ref_1=np.array(IMG_roi_(f\"{(Pos+1)//2}\")))\n"
   ]
  },
  {
   "cell_type": "code",
   "execution_count": 0,
   "metadata": {
    "colab": {},
    "colab_type": "code",
    "id": "1KcDYzhr0Wcp"
   },
   "outputs": [],
   "source": [
    "#positions=np.flatnonzero(result)"
   ]
  },
  {
   "cell_type": "code",
   "execution_count": 0,
   "metadata": {
    "colab": {},
    "colab_type": "code",
    "id": "jLlung6K1735"
   },
   "outputs": [],
   "source": [
    "#Def_1=np.concatenate(Def)\n",
    "#for l in range(len(positions)):\n",
    "       #IMG[l,:]Def_1[]"
   ]
  },
  {
   "cell_type": "code",
   "execution_count": 0,
   "metadata": {
    "colab": {
     "base_uri": "https://localhost:8080/",
     "height": 35
    },
    "colab_type": "code",
    "id": "AP42hER7L8uR",
    "outputId": "de375bd2-3939-487a-8fd9-1aa9a3a3d3e8"
   },
   "outputs": [
    {
     "data": {
      "text/plain": [
       "array([192])"
      ]
     },
     "execution_count": 21,
     "metadata": {
      "tags": []
     },
     "output_type": "execute_result"
    }
   ],
   "source": [
    "a=np.asarray(a)\n",
    "a[:,0]\n",
    "b=np.asarray(b)\n",
    "\n",
    "c=np.asarray(c)\n",
    "d=np.asarray(d)\n",
    "e=np.asarray(e)\n",
    "f=np.asarray(f)\n",
    "g=np.asarray(g)\n",
    "h=np.asarray(h)\n",
    "b[:,0]\n",
    "d[:,0]\n",
    "d[:,1]"
   ]
  },
  {
   "cell_type": "code",
   "execution_count": 0,
   "metadata": {
    "colab": {
     "base_uri": "https://localhost:8080/",
     "height": 141
    },
    "colab_type": "code",
    "id": "jP-J1q1mcprf",
    "outputId": "a7edaead-5464-4aee-d303-c579708c636d"
   },
   "outputs": [
    {
     "name": "stderr",
     "output_type": "stream",
     "text": [
      "/usr/local/lib/python3.6/dist-packages/ipykernel_launcher.py:8: DeprecationWarning: get_data() is deprecated in favor of get_fdata(), which has a more predictable return type. To obtain get_data() behavior going forward, use numpy.asanyarray(img.dataobj).\n",
      "\n",
      "* deprecated from version: 3.0\n",
      "* Will raise <class 'nibabel.deprecator.ExpiredDeprecationError'> as of version: 5.0\n",
      "  \n"
     ]
    },
    {
     "data": {
      "text/plain": [
       "(192, 192, 36)"
      ]
     },
     "execution_count": 22,
     "metadata": {
      "tags": []
     },
     "output_type": "execute_result"
    }
   ],
   "source": [
    "#resampled_stat_img = resample_to_img(stat_img, template)\n",
    "\n",
    "#for j in range(0,len(Def[0,:])-1):\n",
    "if any(a[:,0]> Min_value[0]) or any(a[:,1]>Min_value[1]):\n",
    "      #resample module\n",
    "      #mean = nli.mean_img(IMG_1)\n",
    "      #print([mean.shape, IMG_1.shape])\n",
    "\n",
    "          resampled_IMG_1 = nilearn.image.resample_to_img(IMG_reg_1, IMG_roi_2)\n",
    "        \n",
    "Res_IMG_1=resampled_IMG_1.get_data()\n",
    "Res_IMG_1.shape\n",
    "    \n",
    "   # for i in range(0,len(Def[:,0])):\n",
    "    #  if Def[i,j]> Min_value[j]:\n",
    "      \n",
    "        #  result[i,j]=1\n",
    "          \n",
    "\n",
    "\n"
   ]
  },
  {
   "cell_type": "code",
   "execution_count": 0,
   "metadata": {
    "colab": {
     "base_uri": "https://localhost:8080/",
     "height": 176
    },
    "colab_type": "code",
    "id": "lp_mPptKy5kr",
    "outputId": "5009a5f6-6232-4cbe-d59b-81c24949ad47"
   },
   "outputs": [
    {
     "name": "stderr",
     "output_type": "stream",
     "text": [
      "/usr/local/lib/python3.6/dist-packages/nilearn/image/resampling.py:513: UserWarning: Casting data from int16 to float32\n",
      "  warnings.warn(\"Casting data from %s to %s\" % (data.dtype.name, aux))\n",
      "/usr/local/lib/python3.6/dist-packages/ipykernel_launcher.py:8: DeprecationWarning: get_data() is deprecated in favor of get_fdata(), which has a more predictable return type. To obtain get_data() behavior going forward, use numpy.asanyarray(img.dataobj).\n",
      "\n",
      "* deprecated from version: 3.0\n",
      "* Will raise <class 'nibabel.deprecator.ExpiredDeprecationError'> as of version: 5.0\n",
      "  \n"
     ]
    },
    {
     "data": {
      "text/plain": [
       "(192, 192, 36)"
      ]
     },
     "execution_count": 23,
     "metadata": {
      "tags": []
     },
     "output_type": "execute_result"
    }
   ],
   "source": [
    "if any(b[:,0]> Min_value[0]) or any(b[:,1]>Min_value[1]):\n",
    "      #resample module\n",
    "      #mean = nli.mean_img(IMG_1)\n",
    "      #print([mean.shape, IMG_1.shape])\n",
    "\n",
    "          resampled_IMG_2 = nilearn.image.resample_to_img(IMG_roi_1, IMG_roi_2)\n",
    "        \n",
    "Res_IMG_2=resampled_IMG_2.get_data()\n",
    "Res_IMG_2.shape"
   ]
  },
  {
   "cell_type": "code",
   "execution_count": 0,
   "metadata": {
    "colab": {
     "base_uri": "https://localhost:8080/",
     "height": 141
    },
    "colab_type": "code",
    "id": "Fk-hYMU67gXt",
    "outputId": "49b50ae3-1070-4919-8360-36a5a3f9f384"
   },
   "outputs": [
    {
     "name": "stderr",
     "output_type": "stream",
     "text": [
      "/usr/local/lib/python3.6/dist-packages/ipykernel_launcher.py:8: DeprecationWarning: get_data() is deprecated in favor of get_fdata(), which has a more predictable return type. To obtain get_data() behavior going forward, use numpy.asanyarray(img.dataobj).\n",
      "\n",
      "* deprecated from version: 3.0\n",
      "* Will raise <class 'nibabel.deprecator.ExpiredDeprecationError'> as of version: 5.0\n",
      "  \n"
     ]
    },
    {
     "data": {
      "text/plain": [
       "(192, 192, 36)"
      ]
     },
     "execution_count": 24,
     "metadata": {
      "tags": []
     },
     "output_type": "execute_result"
    }
   ],
   "source": [
    "if any(c[:,0]> Min_value[0]) or any(c[:,1]>Min_value[1]):\n",
    "      #resample module\n",
    "      #mean = nli.mean_img(IMG_1)\n",
    "      #print([mean.shape, IMG_1.shape])\n",
    "\n",
    "          resampled_IMG_3 = nilearn.image.resample_to_img(IMG_reg_2, IMG_roi_2)\n",
    "        \n",
    "Res_IMG_3=resampled_IMG_3.get_data()\n",
    "Res_IMG_3.shape"
   ]
  },
  {
   "cell_type": "code",
   "execution_count": 0,
   "metadata": {
    "colab": {
     "base_uri": "https://localhost:8080/",
     "height": 141
    },
    "colab_type": "code",
    "id": "shoVuYov7rAL",
    "outputId": "f174d4e2-f1a1-463b-a73e-c52cfdc8dc72"
   },
   "outputs": [
    {
     "name": "stderr",
     "output_type": "stream",
     "text": [
      "/usr/local/lib/python3.6/dist-packages/ipykernel_launcher.py:7: DeprecationWarning: get_data() is deprecated in favor of get_fdata(), which has a more predictable return type. To obtain get_data() behavior going forward, use numpy.asanyarray(img.dataobj).\n",
      "\n",
      "* deprecated from version: 3.0\n",
      "* Will raise <class 'nibabel.deprecator.ExpiredDeprecationError'> as of version: 5.0\n",
      "  import sys\n"
     ]
    },
    {
     "data": {
      "text/plain": [
       "(192, 192, 36)"
      ]
     },
     "execution_count": 25,
     "metadata": {
      "tags": []
     },
     "output_type": "execute_result"
    }
   ],
   "source": [
    "if any(e[:,0]> Min_value[0]) or any(e[:,1]>Min_value[1]):\n",
    "      #resample module\n",
    "      #mean = nli.mean_img(IMG_1)\n",
    "      #print([mean.shape, IMG_1.shape])\n",
    "      resampled_IMG_4 = nilearn.image.resample_to_img(IMG_reg_3, IMG_roi_2)\n",
    "        \n",
    "Res_IMG_4=resampled_IMG_4.get_data()\n",
    "Res_IMG_4.shape"
   ]
  },
  {
   "cell_type": "code",
   "execution_count": 0,
   "metadata": {
    "colab": {
     "base_uri": "https://localhost:8080/",
     "height": 176
    },
    "colab_type": "code",
    "id": "b2VZqgkA9fMl",
    "outputId": "08a52d66-6d0f-4ced-a725-e6155fc27548"
   },
   "outputs": [
    {
     "name": "stderr",
     "output_type": "stream",
     "text": [
      "/usr/local/lib/python3.6/dist-packages/nilearn/image/resampling.py:513: UserWarning: Casting data from int16 to float32\n",
      "  warnings.warn(\"Casting data from %s to %s\" % (data.dtype.name, aux))\n",
      "/usr/local/lib/python3.6/dist-packages/ipykernel_launcher.py:7: DeprecationWarning: get_data() is deprecated in favor of get_fdata(), which has a more predictable return type. To obtain get_data() behavior going forward, use numpy.asanyarray(img.dataobj).\n",
      "\n",
      "* deprecated from version: 3.0\n",
      "* Will raise <class 'nibabel.deprecator.ExpiredDeprecationError'> as of version: 5.0\n",
      "  import sys\n"
     ]
    },
    {
     "data": {
      "text/plain": [
       "(192, 192, 36)"
      ]
     },
     "execution_count": 26,
     "metadata": {
      "tags": []
     },
     "output_type": "execute_result"
    }
   ],
   "source": [
    "if any(f[:,0]> Min_value[0]) or any(f[:,1]>Min_value[1]):\n",
    "      #resample module\n",
    "      #mean = nli.mean_img(IMG_1)\n",
    "      #print([mean.shape, IMG_1.shape])\n",
    "      resampled_IMG_5 = nilearn.image.resample_to_img(IMG_roi_3, IMG_roi_2)\n",
    "        \n",
    "Res_IMG_5=resampled_IMG_5.get_data()\n",
    "Res_IMG_5.shape"
   ]
  },
  {
   "cell_type": "code",
   "execution_count": 0,
   "metadata": {
    "colab": {
     "base_uri": "https://localhost:8080/",
     "height": 141
    },
    "colab_type": "code",
    "id": "hvlt0Aom9oJX",
    "outputId": "5a45238f-a7c7-4664-eaea-cff3e4114dbb"
   },
   "outputs": [
    {
     "name": "stderr",
     "output_type": "stream",
     "text": [
      "/usr/local/lib/python3.6/dist-packages/ipykernel_launcher.py:7: DeprecationWarning: get_data() is deprecated in favor of get_fdata(), which has a more predictable return type. To obtain get_data() behavior going forward, use numpy.asanyarray(img.dataobj).\n",
      "\n",
      "* deprecated from version: 3.0\n",
      "* Will raise <class 'nibabel.deprecator.ExpiredDeprecationError'> as of version: 5.0\n",
      "  import sys\n"
     ]
    },
    {
     "data": {
      "text/plain": [
       "(192, 192, 36)"
      ]
     },
     "execution_count": 27,
     "metadata": {
      "tags": []
     },
     "output_type": "execute_result"
    }
   ],
   "source": [
    "if any(g[:,0]> Min_value[0]) or any(g[:,1]>Min_value[1]):\n",
    "      #resample module\n",
    "      #mean = nli.mean_img(IMG_1)\n",
    "      #print([mean.shape, IMG_1.shape])\n",
    "      resampled_IMG_6 = nilearn.image.resample_to_img(IMG_reg_4, IMG_roi_2)\n",
    "        \n",
    "Res_IMG_6=resampled_IMG_6.get_data()\n",
    "Res_IMG_6.shape"
   ]
  },
  {
   "cell_type": "code",
   "execution_count": 0,
   "metadata": {
    "colab": {
     "base_uri": "https://localhost:8080/",
     "height": 176
    },
    "colab_type": "code",
    "id": "Ol8sP0e99vYz",
    "outputId": "55881942-ee9b-4b39-b67a-37f1e57c380b"
   },
   "outputs": [
    {
     "name": "stderr",
     "output_type": "stream",
     "text": [
      "/usr/local/lib/python3.6/dist-packages/nilearn/image/resampling.py:513: UserWarning: Casting data from int16 to float32\n",
      "  warnings.warn(\"Casting data from %s to %s\" % (data.dtype.name, aux))\n",
      "/usr/local/lib/python3.6/dist-packages/ipykernel_launcher.py:7: DeprecationWarning: get_data() is deprecated in favor of get_fdata(), which has a more predictable return type. To obtain get_data() behavior going forward, use numpy.asanyarray(img.dataobj).\n",
      "\n",
      "* deprecated from version: 3.0\n",
      "* Will raise <class 'nibabel.deprecator.ExpiredDeprecationError'> as of version: 5.0\n",
      "  import sys\n"
     ]
    },
    {
     "data": {
      "text/plain": [
       "(192, 192, 36)"
      ]
     },
     "execution_count": 28,
     "metadata": {
      "tags": []
     },
     "output_type": "execute_result"
    }
   ],
   "source": [
    "if any(h[:,0]> Min_value[0]) or any(h[:,1]>Min_value[1]):\n",
    "      #resample module\n",
    "      #mean = nli.mean_img(IMG_1)\n",
    "      #print([mean.shape, IMG_1.shape])\n",
    "      resampled_IMG_7 = nilearn.image.resample_to_img(IMG_roi_4, IMG_roi_2)\n",
    "        \n",
    "Res_IMG_7=resampled_IMG_7.get_data()\n",
    "Res_IMG_7.shape"
   ]
  },
  {
   "cell_type": "code",
   "execution_count": 0,
   "metadata": {
    "colab": {
     "base_uri": "https://localhost:8080/",
     "height": 35
    },
    "colab_type": "code",
    "id": "VDkMnRGH94yM",
    "outputId": "51c1065c-e50a-4db7-c954-0a7372eb9394"
   },
   "outputs": [
    {
     "data": {
      "text/plain": [
       "(8, 192, 192, 36)"
      ]
     },
     "execution_count": 29,
     "metadata": {
      "tags": []
     },
     "output_type": "execute_result"
    }
   ],
   "source": [
    "Input_matrix=np.empty((w,Min_value[0],Min_value[1],Min_value[2]))\n",
    "\n",
    "\n",
    "Input_matrix[0,:,:,:]=np.array(Res_IMG_1)\n",
    "Input_matrix[1,:,:,:]=np.array(Res_IMG_2)\n",
    "Input_matrix[2,:,:,:]=np.array(Res_IMG_3)\n",
    "Input_matrix[3,:,:,:]=np.array(ROI_DATA_2)\n",
    "Input_matrix[4,:,:,:]=np.array(Res_IMG_4)\n",
    "Input_matrix[5,:,:,:]=np.array(Res_IMG_5)\n",
    "Input_matrix[6,:,:,:]=np.array(Res_IMG_6)\n",
    "Input_matrix[7,:,:,:]=np.array(Res_IMG_7)\n",
    "Input_matrix.shape\n"
   ]
  },
  {
   "cell_type": "code",
   "execution_count": 0,
   "metadata": {
    "colab": {},
    "colab_type": "code",
    "id": "bY3XmLCcwzLJ"
   },
   "outputs": [],
   "source": [
    "#added block\n",
    "## Create list of indices and shuffle them\n",
    "N = Input_matrix.shape[0]\n",
    "indices = np.arange(N)\n",
    "np.random.shuffle(indices)"
   ]
  },
  {
   "cell_type": "code",
   "execution_count": 0,
   "metadata": {
    "colab": {
     "base_uri": "https://localhost:8080/",
     "height": 52
    },
    "colab_type": "code",
    "id": "asxqHJSCyLv7",
    "outputId": "cf5a9991-9999-4560-f650-e540d34d60a1"
   },
   "outputs": [
    {
     "data": {
      "text/plain": [
       "array(['More1', 'More1', 'Less1', 'Less1', 'More1', 'More1', 'Less1',\n",
       "       'Less1'], dtype='<U5')"
      ]
     },
     "execution_count": 34,
     "metadata": {
      "tags": []
     },
     "output_type": "execute_result"
    }
   ],
   "source": [
    "#labels block added\n",
    "labels=np.ravel([[['More1']*2,['Less1']*2] for i in range(2)])\n",
    "labels"
   ]
  },
  {
   "cell_type": "code",
   "execution_count": 0,
   "metadata": {
    "colab": {},
    "colab_type": "code",
    "id": "fDRFNqXt2Fjj"
   },
   "outputs": [],
   "source": [
    "#added block\n",
    "#  Cut the dataset at 80% to create the training and test set\n",
    "N_80p = int(0.8 * N)\n",
    "indices_train = indices[:N_80p]\n",
    "indices_test = indices[N_80p:]"
   ]
  },
  {
   "cell_type": "code",
   "execution_count": 0,
   "metadata": {
    "colab": {
     "base_uri": "https://localhost:8080/",
     "height": 35
    },
    "colab_type": "code",
    "id": "GpslU81A2Xm5",
    "outputId": "7057859f-facf-44ff-8459-ad12774b6bba"
   },
   "outputs": [
    {
     "name": "stdout",
     "output_type": "stream",
     "text": [
      "(6, 192, 192, 36) (2, 192, 192, 36)\n"
     ]
    }
   ],
   "source": [
    "# Split the data into training and test sets\n",
    "X_train = Input_matrix[indices_train, ...]\n",
    "X_test = Input_matrix[indices_test, ...]\n",
    "\n",
    "print(X_train.shape, X_test.shape)"
   ]
  },
  {
   "cell_type": "code",
   "execution_count": 0,
   "metadata": {
    "colab": {},
    "colab_type": "code",
    "id": "uoVH0H0L2mLi"
   },
   "outputs": [],
   "source": [
    "#outcome variable block added\n",
    "y_train = labels[indices_train] == 'More1'\n",
    "y_test = labels[indices_test] == 'Less1'"
   ]
  },
  {
   "cell_type": "code",
   "execution_count": 0,
   "metadata": {
    "colab": {
     "base_uri": "https://localhost:8080/",
     "height": 121
    },
    "colab_type": "code",
    "id": "4Wo6WG3a3Bcb",
    "outputId": "76f6a8be-5a08-4214-9cc8-4a44244b25b5"
   },
   "outputs": [
    {
     "data": {
      "text/plain": [
       "array([[0., 1.],\n",
       "       [0., 1.],\n",
       "       [0., 1.],\n",
       "       [0., 1.],\n",
       "       [0., 1.],\n",
       "       [0., 1.]], dtype=float32)"
      ]
     },
     "execution_count": 51,
     "metadata": {
      "tags": []
     },
     "output_type": "execute_result"
    }
   ],
   "source": [
    "#added block\n",
    "from keras.utils import to_categorical\n",
    "y_train = to_categorical(y_train)\n",
    "y_test = to_categorical(y_test)\n",
    "\n",
    "y_train"
   ]
  },
  {
   "cell_type": "code",
   "execution_count": 0,
   "metadata": {
    "colab": {},
    "colab_type": "code",
    "id": "2ZyrKnNa6hA0"
   },
   "outputs": [],
   "source": [
    "#block added to create the model\n",
    "import tensorflow as tf\n",
    "from keras.models import Sequential\n",
    "\n",
    "from keras.layers import Dense, Flatten, Dropout\n",
    "from keras.layers import Conv2D, MaxPooling2D, BatchNormalization\n",
    "\n",
    "from keras.optimizers import Adam, SGD\n",
    "\n",
    "from keras import backend as K"
   ]
  },
  {
   "cell_type": "code",
   "execution_count": 0,
   "metadata": {
    "colab": {
     "base_uri": "https://localhost:8080/",
     "height": 35
    },
    "colab_type": "code",
    "id": "T1fNBc8I6kKz",
    "outputId": "1819255b-7496-4dfc-8632-5589c831d0d2"
   },
   "outputs": [
    {
     "data": {
      "text/plain": [
       "(192, 192, 36)"
      ]
     },
     "execution_count": 53,
     "metadata": {
      "tags": []
     },
     "output_type": "execute_result"
    }
   ],
   "source": [
    "# Get shape of input data\n",
    "data_shape = tuple(X_train.shape[1:])\n",
    "\n",
    "# Specify shape of convolution kernel\n",
    "kernel_size = (3, 3)\n",
    "\n",
    "# Specify number of output categories\n",
    "n_classes = 2\n",
    "\n",
    "# Specify number of filters per layer\n",
    "filters = 16\n",
    "\n",
    "data_shape"
   ]
  },
  {
   "cell_type": "code",
   "execution_count": 0,
   "metadata": {
    "colab": {
     "base_uri": "https://localhost:8080/",
     "height": 676
    },
    "colab_type": "code",
    "id": "9XWnJwve64vE",
    "outputId": "cd0d2aa4-da27-438c-cdb8-3da15ec8dff6"
   },
   "outputs": [
    {
     "name": "stdout",
     "output_type": "stream",
     "text": [
      "Model: \"sequential_1\"\n",
      "_________________________________________________________________\n",
      "Layer (type)                 Output Shape              Param #   \n",
      "=================================================================\n",
      "conv2d_1 (Conv2D)            (None, 190, 190, 16)      5200      \n",
      "_________________________________________________________________\n",
      "batch_normalization_1 (Batch (None, 190, 190, 16)      64        \n",
      "_________________________________________________________________\n",
      "max_pooling2d_1 (MaxPooling2 (None, 95, 95, 16)        0         \n",
      "_________________________________________________________________\n",
      "conv2d_2 (Conv2D)            (None, 93, 93, 32)        4640      \n",
      "_________________________________________________________________\n",
      "batch_normalization_2 (Batch (None, 93, 93, 32)        128       \n",
      "_________________________________________________________________\n",
      "max_pooling2d_2 (MaxPooling2 (None, 46, 46, 32)        0         \n",
      "_________________________________________________________________\n",
      "conv2d_3 (Conv2D)            (None, 44, 44, 64)        18496     \n",
      "_________________________________________________________________\n",
      "batch_normalization_3 (Batch (None, 44, 44, 64)        256       \n",
      "_________________________________________________________________\n",
      "max_pooling2d_3 (MaxPooling2 (None, 22, 22, 64)        0         \n",
      "_________________________________________________________________\n",
      "flatten_1 (Flatten)          (None, 30976)             0         \n",
      "_________________________________________________________________\n",
      "dense_1 (Dense)              (None, 256)               7930112   \n",
      "_________________________________________________________________\n",
      "dropout_1 (Dropout)          (None, 256)               0         \n",
      "_________________________________________________________________\n",
      "dense_2 (Dense)              (None, 512)               131584    \n",
      "_________________________________________________________________\n",
      "dropout_2 (Dropout)          (None, 512)               0         \n",
      "_________________________________________________________________\n",
      "dense_3 (Dense)              (None, 2)                 1026      \n",
      "=================================================================\n",
      "Total params: 8,091,506\n",
      "Trainable params: 8,091,282\n",
      "Non-trainable params: 224\n",
      "_________________________________________________________________\n"
     ]
    }
   ],
   "source": [
    "#model block added\n",
    "K.clear_session()\n",
    "model = Sequential()\n",
    "\n",
    "model.add(Conv2D(filters, kernel_size, activation='relu', input_shape=data_shape))\n",
    "model.add(BatchNormalization())\n",
    "model.add(MaxPooling2D())\n",
    "\n",
    "model.add(Conv2D(filters * 2, kernel_size, activation='relu'))\n",
    "model.add(BatchNormalization())\n",
    "model.add(MaxPooling2D())\n",
    "\n",
    "model.add(Conv2D(filters * 4, kernel_size, activation='relu'))\n",
    "model.add(BatchNormalization())\n",
    "model.add(MaxPooling2D())\n",
    "\n",
    "model.add(Flatten())\n",
    "\n",
    "model.add(Dense(256, activation='relu'))\n",
    "model.add(Dropout(0.5))\n",
    "\n",
    "model.add(Dense(512, activation='relu'))\n",
    "model.add(Dropout(0.5))\n",
    "\n",
    "model.add(Dense(n_classes, activation='softmax'))\n",
    "\n",
    "# optimizer\n",
    "learning_rate = 1e-5\n",
    "adam = Adam(lr=learning_rate)\n",
    "sgd = SGD(lr=learning_rate)\n",
    "\n",
    "model.compile(loss='categorical_crossentropy',\n",
    "              optimizer=adam, # swap out for sgd \n",
    "              metrics=['accuracy'])\n",
    "\n",
    "model.summary()"
   ]
  },
  {
   "cell_type": "code",
   "execution_count": 0,
   "metadata": {
    "colab": {},
    "colab_type": "code",
    "id": "3P4SBfIE7oB7"
   },
   "outputs": [],
   "source": [
    "#added block\n",
    "nEpochs = 100  # Increase this value for better results (i.e., more training)"
   ]
  },
  {
   "cell_type": "code",
   "execution_count": 0,
   "metadata": {
    "colab": {},
    "colab_type": "code",
    "id": "euoUfFI87tQx"
   },
   "outputs": [],
   "source": [
    "batch_size = 16   # Increasing this value might speed up fitting"
   ]
  },
  {
   "cell_type": "code",
   "execution_count": 0,
   "metadata": {
    "colab": {
     "base_uri": "https://localhost:8080/",
     "height": 1000
    },
    "colab_type": "code",
    "id": "acIp4UFS7vLO",
    "outputId": "03cb4be6-b276-4825-b001-8c4bacca82a9"
   },
   "outputs": [
    {
     "name": "stdout",
     "output_type": "stream",
     "text": [
      "WARNING:tensorflow:From /tensorflow-1.15.0/python3.6/tensorflow_core/python/ops/math_grad.py:1424: where (from tensorflow.python.ops.array_ops) is deprecated and will be removed in a future version.\n",
      "Instructions for updating:\n",
      "Use tf.where in 2.0, which has the same broadcast rule as np.where\n",
      "WARNING:tensorflow:From /usr/local/lib/python3.6/dist-packages/keras/backend/tensorflow_backend.py:1033: The name tf.assign_add is deprecated. Please use tf.compat.v1.assign_add instead.\n",
      "\n",
      "WARNING:tensorflow:From /usr/local/lib/python3.6/dist-packages/keras/backend/tensorflow_backend.py:1020: The name tf.assign is deprecated. Please use tf.compat.v1.assign instead.\n",
      "\n",
      "Epoch 1/100\n",
      "6/6 [==============================] - 2s 330ms/step - loss: 1.8523 - acc: 0.1667\n",
      "Epoch 2/100\n",
      "6/6 [==============================] - 1s 113ms/step - loss: 1.5920 - acc: 0.3333\n",
      "Epoch 3/100\n",
      "6/6 [==============================] - 1s 112ms/step - loss: 0.5194 - acc: 0.6667\n",
      "Epoch 4/100\n",
      "6/6 [==============================] - 1s 111ms/step - loss: 0.9004 - acc: 0.6667\n",
      "Epoch 5/100\n",
      "6/6 [==============================] - 1s 111ms/step - loss: 0.6188 - acc: 0.8333\n",
      "Epoch 6/100\n",
      "6/6 [==============================] - 1s 111ms/step - loss: 0.3794 - acc: 0.8333\n",
      "Epoch 7/100\n",
      "6/6 [==============================] - 1s 113ms/step - loss: 0.2867 - acc: 1.0000\n",
      "Epoch 8/100\n",
      "6/6 [==============================] - 1s 112ms/step - loss: 0.4496 - acc: 0.5000\n",
      "Epoch 9/100\n",
      "6/6 [==============================] - 1s 110ms/step - loss: 0.0701 - acc: 1.0000\n",
      "Epoch 10/100\n",
      "6/6 [==============================] - 1s 113ms/step - loss: 0.4472 - acc: 0.8333\n",
      "Epoch 11/100\n",
      "6/6 [==============================] - 1s 113ms/step - loss: 0.1916 - acc: 0.8333\n",
      "Epoch 12/100\n",
      "6/6 [==============================] - 1s 112ms/step - loss: 0.0855 - acc: 1.0000\n",
      "Epoch 13/100\n",
      "6/6 [==============================] - 1s 111ms/step - loss: 0.2182 - acc: 0.8333\n",
      "Epoch 14/100\n",
      "6/6 [==============================] - 1s 114ms/step - loss: 0.9177 - acc: 0.8333\n",
      "Epoch 15/100\n",
      "6/6 [==============================] - 1s 111ms/step - loss: 0.0877 - acc: 1.0000\n",
      "Epoch 16/100\n",
      "6/6 [==============================] - 1s 110ms/step - loss: 0.0319 - acc: 1.0000\n",
      "Epoch 17/100\n",
      "6/6 [==============================] - 1s 114ms/step - loss: 0.0746 - acc: 1.0000\n",
      "Epoch 18/100\n",
      "6/6 [==============================] - 1s 113ms/step - loss: 0.1045 - acc: 1.0000\n",
      "Epoch 19/100\n",
      "6/6 [==============================] - 1s 110ms/step - loss: 0.0489 - acc: 1.0000\n",
      "Epoch 20/100\n",
      "6/6 [==============================] - 1s 114ms/step - loss: 0.0162 - acc: 1.0000\n",
      "Epoch 21/100\n",
      "6/6 [==============================] - 1s 112ms/step - loss: 0.0293 - acc: 1.0000\n",
      "Epoch 22/100\n",
      "6/6 [==============================] - 1s 113ms/step - loss: 0.0485 - acc: 1.0000\n",
      "Epoch 23/100\n",
      "6/6 [==============================] - 1s 112ms/step - loss: 0.0155 - acc: 1.0000\n",
      "Epoch 24/100\n",
      "6/6 [==============================] - 1s 113ms/step - loss: 0.0262 - acc: 1.0000\n",
      "Epoch 25/100\n",
      "6/6 [==============================] - 1s 113ms/step - loss: 0.0571 - acc: 1.0000\n",
      "Epoch 26/100\n",
      "6/6 [==============================] - 1s 115ms/step - loss: 0.0068 - acc: 1.0000\n",
      "Epoch 27/100\n",
      "6/6 [==============================] - 1s 114ms/step - loss: 0.0137 - acc: 1.0000\n",
      "Epoch 28/100\n",
      "6/6 [==============================] - 1s 112ms/step - loss: 0.0235 - acc: 1.0000\n",
      "Epoch 29/100\n",
      "6/6 [==============================] - 1s 117ms/step - loss: 0.0467 - acc: 1.0000\n",
      "Epoch 30/100\n",
      "6/6 [==============================] - 1s 112ms/step - loss: 0.0190 - acc: 1.0000\n",
      "Epoch 31/100\n",
      "6/6 [==============================] - 1s 115ms/step - loss: 0.0164 - acc: 1.0000\n",
      "Epoch 32/100\n",
      "6/6 [==============================] - 1s 114ms/step - loss: 0.0261 - acc: 1.0000\n",
      "Epoch 33/100\n",
      "6/6 [==============================] - 1s 112ms/step - loss: 0.0298 - acc: 1.0000\n",
      "Epoch 34/100\n",
      "6/6 [==============================] - 1s 116ms/step - loss: 0.0036 - acc: 1.0000\n",
      "Epoch 35/100\n",
      "6/6 [==============================] - 1s 114ms/step - loss: 0.0418 - acc: 1.0000\n",
      "Epoch 36/100\n",
      "6/6 [==============================] - 1s 113ms/step - loss: 0.0259 - acc: 1.0000\n",
      "Epoch 37/100\n",
      "6/6 [==============================] - 1s 112ms/step - loss: 0.0057 - acc: 1.0000\n",
      "Epoch 38/100\n",
      "6/6 [==============================] - 1s 112ms/step - loss: 0.1219 - acc: 1.0000\n",
      "Epoch 39/100\n",
      "6/6 [==============================] - 1s 114ms/step - loss: 0.1023 - acc: 1.0000\n",
      "Epoch 40/100\n",
      "6/6 [==============================] - 1s 112ms/step - loss: 0.0170 - acc: 1.0000\n",
      "Epoch 41/100\n",
      "6/6 [==============================] - 1s 111ms/step - loss: 0.0076 - acc: 1.0000\n",
      "Epoch 42/100\n",
      "6/6 [==============================] - 1s 113ms/step - loss: 0.0096 - acc: 1.0000\n",
      "Epoch 43/100\n",
      "6/6 [==============================] - 1s 111ms/step - loss: 0.0202 - acc: 1.0000\n",
      "Epoch 44/100\n",
      "6/6 [==============================] - 1s 114ms/step - loss: 0.0157 - acc: 1.0000\n",
      "Epoch 45/100\n",
      "6/6 [==============================] - 1s 115ms/step - loss: 0.0122 - acc: 1.0000\n",
      "Epoch 46/100\n",
      "6/6 [==============================] - 1s 114ms/step - loss: 0.0068 - acc: 1.0000\n",
      "Epoch 47/100\n",
      "6/6 [==============================] - 1s 112ms/step - loss: 0.0614 - acc: 1.0000\n",
      "Epoch 48/100\n",
      "6/6 [==============================] - 1s 113ms/step - loss: 0.0068 - acc: 1.0000\n",
      "Epoch 49/100\n",
      "6/6 [==============================] - 1s 115ms/step - loss: 0.0043 - acc: 1.0000\n",
      "Epoch 50/100\n",
      "6/6 [==============================] - 1s 114ms/step - loss: 0.0107 - acc: 1.0000\n",
      "Epoch 51/100\n",
      "6/6 [==============================] - 1s 110ms/step - loss: 0.0424 - acc: 1.0000\n",
      "Epoch 52/100\n",
      "6/6 [==============================] - 1s 114ms/step - loss: 0.0200 - acc: 1.0000\n",
      "Epoch 53/100\n",
      "6/6 [==============================] - 1s 112ms/step - loss: 0.0064 - acc: 1.0000\n",
      "Epoch 54/100\n",
      "6/6 [==============================] - 1s 113ms/step - loss: 0.0012 - acc: 1.0000\n",
      "Epoch 55/100\n",
      "6/6 [==============================] - 1s 114ms/step - loss: 0.0071 - acc: 1.0000\n",
      "Epoch 56/100\n",
      "6/6 [==============================] - 1s 111ms/step - loss: 0.0038 - acc: 1.0000\n",
      "Epoch 57/100\n",
      "6/6 [==============================] - 1s 112ms/step - loss: 0.0223 - acc: 1.0000\n",
      "Epoch 58/100\n",
      "6/6 [==============================] - 1s 113ms/step - loss: 0.0122 - acc: 1.0000\n",
      "Epoch 59/100\n",
      "6/6 [==============================] - 1s 111ms/step - loss: 0.0019 - acc: 1.0000\n",
      "Epoch 60/100\n",
      "6/6 [==============================] - 1s 112ms/step - loss: 9.8105e-04 - acc: 1.0000\n",
      "Epoch 61/100\n",
      "6/6 [==============================] - 1s 115ms/step - loss: 0.0215 - acc: 1.0000\n",
      "Epoch 62/100\n",
      "6/6 [==============================] - 1s 112ms/step - loss: 0.0047 - acc: 1.0000\n",
      "Epoch 63/100\n",
      "6/6 [==============================] - 1s 112ms/step - loss: 0.0018 - acc: 1.0000\n",
      "Epoch 64/100\n",
      "6/6 [==============================] - 1s 112ms/step - loss: 7.6160e-04 - acc: 1.0000\n",
      "Epoch 65/100\n",
      "6/6 [==============================] - 1s 111ms/step - loss: 0.0149 - acc: 1.0000\n",
      "Epoch 66/100\n",
      "6/6 [==============================] - 1s 113ms/step - loss: 0.0028 - acc: 1.0000\n",
      "Epoch 67/100\n",
      "6/6 [==============================] - 1s 111ms/step - loss: 0.0176 - acc: 1.0000\n",
      "Epoch 68/100\n",
      "6/6 [==============================] - 1s 113ms/step - loss: 0.0035 - acc: 1.0000\n",
      "Epoch 69/100\n",
      "6/6 [==============================] - 1s 113ms/step - loss: 0.0020 - acc: 1.0000\n",
      "Epoch 70/100\n",
      "6/6 [==============================] - 1s 113ms/step - loss: 0.0065 - acc: 1.0000\n",
      "Epoch 71/100\n",
      "6/6 [==============================] - 1s 112ms/step - loss: 0.0340 - acc: 1.0000\n",
      "Epoch 72/100\n",
      "6/6 [==============================] - 1s 114ms/step - loss: 0.0281 - acc: 1.0000\n",
      "Epoch 73/100\n",
      "6/6 [==============================] - 1s 111ms/step - loss: 0.0514 - acc: 1.0000\n",
      "Epoch 74/100\n",
      "6/6 [==============================] - 1s 111ms/step - loss: 0.0037 - acc: 1.0000\n",
      "Epoch 75/100\n",
      "6/6 [==============================] - 1s 113ms/step - loss: 0.0070 - acc: 1.0000\n",
      "Epoch 76/100\n",
      "6/6 [==============================] - 1s 116ms/step - loss: 0.0667 - acc: 1.0000\n",
      "Epoch 77/100\n",
      "6/6 [==============================] - 1s 115ms/step - loss: 0.0078 - acc: 1.0000\n",
      "Epoch 78/100\n",
      "6/6 [==============================] - 1s 113ms/step - loss: 0.0101 - acc: 1.0000\n",
      "Epoch 79/100\n",
      "6/6 [==============================] - 1s 114ms/step - loss: 3.6045e-04 - acc: 1.0000\n",
      "Epoch 80/100\n",
      "6/6 [==============================] - 1s 113ms/step - loss: 0.0044 - acc: 1.0000\n",
      "Epoch 81/100\n",
      "6/6 [==============================] - 1s 113ms/step - loss: 0.0046 - acc: 1.0000\n",
      "Epoch 82/100\n",
      "6/6 [==============================] - 1s 113ms/step - loss: 0.0016 - acc: 1.0000\n",
      "Epoch 83/100\n",
      "6/6 [==============================] - 1s 111ms/step - loss: 0.0199 - acc: 1.0000\n",
      "Epoch 84/100\n",
      "6/6 [==============================] - 1s 114ms/step - loss: 0.7282 - acc: 0.8333\n",
      "Epoch 85/100\n",
      "6/6 [==============================] - 1s 112ms/step - loss: 0.0033 - acc: 1.0000\n",
      "Epoch 86/100\n",
      "6/6 [==============================] - 1s 110ms/step - loss: 0.0033 - acc: 1.0000\n",
      "Epoch 87/100\n",
      "6/6 [==============================] - 1s 112ms/step - loss: 0.0016 - acc: 1.0000\n",
      "Epoch 88/100\n",
      "6/6 [==============================] - 1s 113ms/step - loss: 0.0022 - acc: 1.0000\n",
      "Epoch 89/100\n",
      "6/6 [==============================] - 1s 111ms/step - loss: 0.0046 - acc: 1.0000\n",
      "Epoch 90/100\n",
      "6/6 [==============================] - 1s 113ms/step - loss: 0.0034 - acc: 1.0000\n",
      "Epoch 91/100\n",
      "6/6 [==============================] - 1s 112ms/step - loss: 0.0010 - acc: 1.0000\n",
      "Epoch 92/100\n",
      "6/6 [==============================] - 1s 115ms/step - loss: 0.0030 - acc: 1.0000\n",
      "Epoch 93/100\n",
      "6/6 [==============================] - 1s 116ms/step - loss: 9.7694e-04 - acc: 1.0000\n",
      "Epoch 94/100\n",
      "6/6 [==============================] - 1s 112ms/step - loss: 0.0059 - acc: 1.0000\n",
      "Epoch 95/100\n",
      "6/6 [==============================] - 1s 113ms/step - loss: 0.0038 - acc: 1.0000\n",
      "Epoch 96/100\n",
      "6/6 [==============================] - 1s 115ms/step - loss: 0.0113 - acc: 1.0000\n",
      "Epoch 97/100\n",
      "6/6 [==============================] - 1s 112ms/step - loss: 8.1762e-04 - acc: 1.0000\n",
      "Epoch 98/100\n",
      "6/6 [==============================] - 1s 114ms/step - loss: 0.0231 - acc: 1.0000\n",
      "Epoch 99/100\n",
      "6/6 [==============================] - 1s 111ms/step - loss: 0.0023 - acc: 1.0000\n",
      "Epoch 100/100\n",
      "6/6 [==============================] - 1s 112ms/step - loss: 0.0171 - acc: 1.0000\n",
      "CPU times: user 2min 3s, sys: 2.16 s, total: 2min 5s\n",
      "Wall time: 1min 9s\n"
     ]
    }
   ],
   "source": [
    "%time fit = model.fit(X_train, y_train, epochs=nEpochs, batch_size=batch_size)"
   ]
  },
  {
   "cell_type": "code",
   "execution_count": 0,
   "metadata": {
    "colab": {
     "base_uri": "https://localhost:8080/",
     "height": 292
    },
    "colab_type": "code",
    "id": "anF1eo5KBWL9",
    "outputId": "59966627-073f-49cb-8aa5-9559437be298"
   },
   "outputs": [
    {
     "data": {
      "image/png": "[encoded data removed]",
      "text/plain": [
       "<Figure size 720x288 with 1 Axes>"
      ]
     },
     "metadata": {
      "tags": []
     },
     "output_type": "display_data"
    }
   ],
   "source": [
    "fig = plt.figure(figsize=(10, 4))\n",
    "epoch = np.arange(nEpochs) + 1\n",
    "fontsize = 16\n",
    "plt.plot(epoch, fit.history['acc'], marker=\"o\", linewidth=2,\n",
    "         color=\"steelblue\", label=\"accuracy\")\n",
    "plt.plot(epoch, fit.history['loss'], marker=\"o\", linewidth=2,\n",
    "         color=\"orange\", label=\"loss\")\n",
    "plt.xlabel('epoch', fontsize=fontsize)\n",
    "plt.xticks(fontsize=fontsize)\n",
    "plt.yticks(fontsize=fontsize)\n",
    "plt.legend(frameon=False, fontsize=16);"
   ]
  }
 ],
 "metadata": {
  "colab": {
   "collapsed_sections": [],
   "name": "MRI_model.ipynb",
   "provenance": [],
   "toc_visible": true
  },
  "kernelspec": {
   "display_name": "Python 3",
   "language": "python",
   "name": "python3"
  },
  "language_info": {
   "codemirror_mode": {
    "name": "ipython",
    "version": 3
   },
   "file_extension": ".py",
   "mimetype": "text/x-python",
   "name": "python",
   "nbconvert_exporter": "python",
   "pygments_lexer": "ipython3",
   "version": "3.6.9"
  }
 },
 "nbformat": 4,
 "nbformat_minor": 1
}
