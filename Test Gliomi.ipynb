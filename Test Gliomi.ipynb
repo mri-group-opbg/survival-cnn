{
 "cells": [
  {
   "cell_type": "code",
   "execution_count": 5,
   "metadata": {},
   "outputs": [],
   "source": [
    "from gliomi import *"
   ]
  },
  {
   "cell_type": "code",
   "execution_count": 6,
   "metadata": {},
   "outputs": [],
   "source": [
    "d = DatasetLoader(\"/data/RMN/dataset-gliomi-cnn/datasets/dataset-mgmt-t2-224-70-perc.pickle\")"
   ]
  },
  {
   "cell_type": "code",
   "execution_count": null,
   "metadata": {},
   "outputs": [],
   "source": [
    "X_train, y_train, X_test, y_test = d.get_split()"
   ]
  },
  {
   "cell_type": "code",
   "execution_count": null,
   "metadata": {},
   "outputs": [],
   "source": [
    "X_train.shape, y_train.shape, X_test.shape, y_test.shape"
   ]
  },
  {
   "cell_type": "code",
   "execution_count": null,
   "metadata": {},
   "outputs": [],
   "source": [
    "y_train"
   ]
  },
  {
   "cell_type": "code",
   "execution_count": 7,
   "metadata": {},
   "outputs": [],
   "source": [
    "X_train, y_train, X_test, y_test = d.get_split_categorical()"
   ]
  },
  {
   "cell_type": "code",
   "execution_count": 8,
   "metadata": {},
   "outputs": [
    {
     "data": {
      "text/plain": [
       "array([[0., 1.],\n",
       "       [0., 1.],\n",
       "       [0., 1.],\n",
       "       ...,\n",
       "       [1., 0.],\n",
       "       [1., 0.],\n",
       "       [1., 0.]], dtype=float32)"
      ]
     },
     "execution_count": 8,
     "metadata": {},
     "output_type": "execute_result"
    }
   ],
   "source": [
    "y_train"
   ]
  },
  {
   "cell_type": "code",
   "execution_count": null,
   "metadata": {},
   "outputs": [],
   "source": [
    "from sklearn.model_selection import train_test_split\n",
    "import tensorflow as tf\n",
    "import pickle\n",
    "import numpy as np\n",
    "import pandas as pd\n",
    "\n",
    "class DatasetLoader():\n",
    "    \n",
    "    def __init__(self, dataset_path):\n",
    "        \n",
    "        with open(dataset_path, \"rb\") as file:\n",
    "            self.X, self.y = pickle.load(file)\n",
    "            \n",
    "        subjects = np.array(list(self.X.keys()))\n",
    "        \n",
    "        self.slices = np.concatenate([self.X[subject] for subject in subjects])\n",
    "        self.labels = np.concatenate([np.repeat((self.y)[subject], (self.X)[subject].shape[0]) for subject in subjects])\n",
    "        self.subjects = np.concatenate([np.repeat(subject, (self.X)[subject].shape[0]) for subject in subjects])\n",
    "\n",
    "        # Categorical\n",
    "        dictionary = np.array([[0, 1], [1, 0]])\n",
    "        int_labels = self.labels.astype(int)\n",
    "        self.categorical_labels = tf.keras.utils.to_categorical(self.labels)\n",
    "\n",
    "    def get_subjects(self):\n",
    "        return list(self.X.keys())\n",
    "\n",
    "    def get_split(self, test_size=0.2, random_state=42):\n",
    "\n",
    "        subjects = np.array(self.get_subjects())\n",
    "\n",
    "        train_index, test_index = train_test_split(list(range(len(subjects))), test_size=test_size, random_state=random_state)\n",
    "        \n",
    "        train_subjects = subjects[train_index]\n",
    "        \n",
    "        test_subjects = subjects[test_index]\n",
    "        \n",
    "        X_train = self.slices[np.isin(self.subjects, train_subjects)]\n",
    "        X_test = self.slices[np.isin(self.subjects, test_subjects)]\n",
    "        y_train = self.labels[np.isin(self.subjects, train_subjects)]\n",
    "        y_test = self.labels[np.isin(self.subjects, test_subjects)]\n",
    "        \n",
    "        return X_train, y_train, X_test, y_test\n",
    "    \n",
    "    def get_split_categorical(self, test_size=0.2, random_state=42):\n",
    "\n",
    "        subjects = np.array(self.get_subjects())\n",
    "\n",
    "        train_index, test_index = train_test_split(list(range(len(subjects))), test_size=test_size, random_state=random_state)\n",
    "        \n",
    "        train_subjects = subjects[train_index]\n",
    "        \n",
    "        test_subjects = subjects[test_index]\n",
    "        \n",
    "        X_train = self.slices[np.isin(self.subjects, train_subjects)]\n",
    "        X_test = self.slices[np.isin(self.subjects, test_subjects)]\n",
    "        y_train = self.categorical_labels[np.isin(self.subjects, train_subjects)]\n",
    "        y_test = self.categorical_labels[np.isin(self.subjects, test_subjects)]\n",
    "        \n",
    "        return X_train, y_train, X_test, y_test\n"
   ]
  },
  {
   "cell_type": "code",
   "execution_count": 11,
   "metadata": {},
   "outputs": [],
   "source": [
    "import numpy as np\n",
    "\n",
    "dictionary = np.array([[0, 1], [1, 0]])"
   ]
  },
  {
   "cell_type": "code",
   "execution_count": 12,
   "metadata": {},
   "outputs": [],
   "source": [
    "y = np.array([1, 0, 1, 0, 1, 0, 1, 0, 0, 1])"
   ]
  },
  {
   "cell_type": "code",
   "execution_count": 13,
   "metadata": {},
   "outputs": [
    {
     "data": {
      "text/plain": [
       "array([[1, 0],\n",
       "       [0, 1],\n",
       "       [1, 0],\n",
       "       [0, 1],\n",
       "       [1, 0],\n",
       "       [0, 1],\n",
       "       [1, 0],\n",
       "       [0, 1],\n",
       "       [0, 1],\n",
       "       [1, 0]])"
      ]
     },
     "execution_count": 13,
     "metadata": {},
     "output_type": "execute_result"
    }
   ],
   "source": [
    "dictionary[y]"
   ]
  },
  {
   "cell_type": "code",
   "execution_count": null,
   "metadata": {},
   "outputs": [],
   "source": []
  }
 ],
 "metadata": {
  "kernelspec": {
   "display_name": "Python 3",
   "language": "python",
   "name": "python3"
  },
  "language_info": {
   "codemirror_mode": {
    "name": "ipython",
    "version": 3
   },
   "file_extension": ".py",
   "mimetype": "text/x-python",
   "name": "python",
   "nbconvert_exporter": "python",
   "pygments_lexer": "ipython3",
   "version": "3.6.9"
  }
 },
 "nbformat": 4,
 "nbformat_minor": 4
}
