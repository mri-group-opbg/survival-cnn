{
 "cells": [
  {
   "cell_type": "code",
   "execution_count": 10,
   "metadata": {},
   "outputs": [],
   "source": [
    "from gliomi import *"
   ]
  },
  {
   "cell_type": "code",
   "execution_count": 11,
   "metadata": {},
   "outputs": [],
   "source": [
    "def compute(dataset):\n",
    "    zeros = 0\n",
    "    ones = 0\n",
    "    for subject, label in dataset.y.items():\n",
    "        if label == 0.0:\n",
    "            zeros = zeros + 1\n",
    "        else:\n",
    "            ones = ones + 1\n",
    "    return zeros, ones"
   ]
  },
  {
   "cell_type": "code",
   "execution_count": 14,
   "metadata": {},
   "outputs": [
    {
     "name": "stdout",
     "output_type": "stream",
     "text": [
      "survivor\n",
      "adc 47 53\n",
      "flair 48 52\n",
      "rcbv 47 53\n",
      "t1 48 52\n",
      "t2 47 53\n",
      "mgmt\n",
      "adc 37 63\n",
      "flair 37 63\n",
      "rcbv 40 60\n",
      "t1 40 60\n",
      "t2 37 63\n",
      "idh\n",
      "adc 81 19 *\n",
      "flair 82 18 *\n",
      "rcbv 85 15 *\n",
      "t1 80 20 *\n",
      "t2 82 18 *\n",
      "ki67\n",
      "adc 18 82 *\n",
      "flair 20 80 *\n",
      "rcbv 21 79 *\n",
      "t1 17 83 *\n",
      "t2 18 82 *\n",
      "egfr\n",
      "adc 32 68\n",
      "flair 33 67\n",
      "rcbv 31 69\n",
      "t1 34 66\n",
      "t2 32 68\n"
     ]
    }
   ],
   "source": [
    "import glob\n",
    "\n",
    "sequences = [\n",
    "    \"adc\",\n",
    "    \"flair\", \n",
    "    # \"mprage\",\n",
    "    \"rcbv\",\n",
    "    \"t1\", \n",
    "    \"t2\", \n",
    "]\n",
    "\n",
    "datasets = [\n",
    "    \"survivor\", \n",
    "    \"mgmt\",\n",
    "    \"idh\", \n",
    "    \"ki67\", \n",
    "    \"egfr\", \n",
    "]\n",
    "\n",
    "for dataset in datasets:\n",
    "    print(dataset)\n",
    "    for sequence in sequences:\n",
    "        zeros, ones = compute(DatasetLoader(f\"/data/RMN/dataset-gliomi-cnn/datasets-full-brain/dataset-{dataset}-{sequence}-224-100-perc.pickle\"))\n",
    "        tot = zeros + ones\n",
    "        zeros = int(zeros / tot * 100)\n",
    "        ones = 100 - zeros\n",
    "        if zeros > 70 or ones > 70:\n",
    "            print(sequence, zeros, ones, \"*\")\n",
    "        else:\n",
    "            print(sequence, zeros, ones)\n"
   ]
  },
  {
   "cell_type": "code",
   "execution_count": null,
   "metadata": {},
   "outputs": [],
   "source": []
  }
 ],
 "metadata": {
  "kernelspec": {
   "display_name": "Python 3",
   "language": "python",
   "name": "python3"
  },
  "language_info": {
   "codemirror_mode": {
    "name": "ipython",
    "version": 3
   },
   "file_extension": ".py",
   "mimetype": "text/x-python",
   "name": "python",
   "nbconvert_exporter": "python",
   "pygments_lexer": "ipython3",
   "version": "3.6.9"
  }
 },
 "nbformat": 4,
 "nbformat_minor": 4
}
