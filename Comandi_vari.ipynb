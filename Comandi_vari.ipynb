{
 "cells": [
  {
   "cell_type": "code",
   "execution_count": null,
   "metadata": {},
   "outputs": [],
   "source": [
    "# Main Imports\n",
    "\n",
    "import nilearn\n",
    "\n",
    "from nilearn.image import resample_to_img\n",
    "\n",
    "import pylab as plt\n",
    "\n",
    "import numpy as np\n",
    "import nibabel as nb\n",
    "import os\n",
    "import glob\n",
    "import random\n",
    "import pandas as pd\n",
    "import re\n",
    "\n",
    "import seaborn as sns #added\n",
    "sns.set(style=\"darkgrid\") #added\n",
    "\n",
    "from nilearn.image import mean_img #added\n",
    "from nilearn.plotting import plot_anat #added\n",
    "# MLP for Pima Indians Dataset Serialize to JSON and HDF5\n",
    "from keras.models import Sequential\n",
    "from keras.layers import Dense\n",
    "from keras.models import model_from_json\n",
    "import numpy\n",
    "import os\n"
   ]
  },
  {
   "cell_type": "code",
   "execution_count": 1,
   "metadata": {},
   "outputs": [],
   "source": [
    "# Local directory where the Data are mounted\n",
    "rootDirectory = \"/data/RMN/LUCA_PASQUINI\"\n",
    "\n",
    "# Local subdirectory where dataset is mounted\n",
    "dataDir = \"DATI_SEGMENTATI_SCALATI_media\"\n",
    "\n",
    "# Dataset dir\n",
    "datasetDir = f\"{rootDirectory}/{dataDir}\"\n",
    "\n",
    "#CSV fileroot \n",
    "fileName = f\"{rootDirectory}/{dataDir}/Array_Labels_Def.csv\""
   ]
  },
  {
   "cell_type": "code",
   "execution_count": 12,
   "metadata": {},
   "outputs": [
    {
     "name": "stdout",
     "output_type": "stream",
     "text": [
      "\u001b[0m\u001b[01;32mNECROSI.nii\u001b[0m*      \u001b[01;32mSOLID.nii\u001b[0m*  \u001b[01;32mT2ROI-label.nii\u001b[0m*\r\n",
      "\u001b[01;32mSOLID-label.nii\u001b[0m*  \u001b[01;32mT1ROI.nii\u001b[0m*  \u001b[01;32mT2ROI.nii\u001b[0m*\r\n"
     ]
    }
   ],
   "source": [
    "ls /data/RMN/dataset-gliomi/registered/ALESSANDRINI_GLAUCO/ROI/T2ROI-label.nii*\n"
   ]
  },
  {
   "cell_type": "code",
   "execution_count": 6,
   "metadata": {},
   "outputs": [
    {
     "name": "stdout",
     "output_type": "stream",
     "text": [
      "\u001b[0m\u001b[01;34mHGG_Training_data_Brats_2019\u001b[0m/\r\n"
     ]
    }
   ],
   "source": [
    "ls /data/RMN2/datasets/BRATS2019/HGG_Training_data_Brats_2019/HGG_Training_data_Brats_2019/"
   ]
  },
  {
   "cell_type": "code",
   "execution_count": null,
   "metadata": {
    "scrolled": true
   },
   "outputs": [],
   "source": [
    "import os, sys\n",
    "os.mkdir(f\"/{datasetDir}/CSV_DATA/ALL_FEATURES/\")"
   ]
  },
  {
   "cell_type": "code",
   "execution_count": 6,
   "metadata": {},
   "outputs": [],
   "source": [
    "SEQUENCE=\"FLAIR\"\n",
    "#ADC\n",
    "#FLAIR\n",
    "\n",
    "ROI=\"NET\"\n",
    "#T1\n",
    "#NET\n",
    "#NECROSI\n",
    "\n",
    "PREDICTOR=\"IDH\"\n",
    "#SOPR12\n",
    "#SOPR11\n",
    "#KI67\n",
    "#EGFR\n",
    "#MGMT\n",
    "#IDH"
   ]
  },
  {
   "cell_type": "code",
   "execution_count": 7,
   "metadata": {},
   "outputs": [
    {
     "data": {
      "text/plain": [
       "'//data/RMN/LUCA_PASQUINI/DATI_SEGMENTATI_SCALATI_media/CSV_DATA/NET_ROI/boruta_FLAIR_NET_IDH_all_feature.xlsx'"
      ]
     },
     "execution_count": 7,
     "metadata": {},
     "output_type": "execute_result"
    }
   ],
   "source": [
    "import shutil \n",
    "\n",
    "source=f\"/{datasetDir}/boruta_{SEQUENCE}_{ROI}_{PREDICTOR}_all_feature.xlsx\"\n",
    "destination=f\"/{datasetDir}/CSV_DATA/{ROI}_ROI/\"\n",
    "\n",
    "\n",
    "shutil.move(source, destination)"
   ]
  },
  {
   "cell_type": "code",
   "execution_count": null,
   "metadata": {},
   "outputs": [],
   "source": [
    "ls {datasetDir}/CSV_DATA/NET_ROI"
   ]
  },
  {
   "cell_type": "code",
   "execution_count": 70,
   "metadata": {},
   "outputs": [],
   "source": [
    "os.rename(f\"/{datasetDir}/ROMITO_ORAZIO/rCBVregistered_.nii\",f\"/{datasetDir}/ROMITO_ORAZIO/rCBV_registered_.nii\")"
   ]
  },
  {
   "cell_type": "code",
   "execution_count": null,
   "metadata": {},
   "outputs": [],
   "source": [
    "#rm {datasetDir}/PANETTI/"
   ]
  },
  {
   "cell_type": "code",
   "execution_count": null,
   "metadata": {},
   "outputs": [],
   "source": [
    "import os, sys\n",
    "os.mkdir(f\"/{datasetDir}/PANETTI/plus/\")"
   ]
  }
 ],
 "metadata": {
  "kernelspec": {
   "display_name": "Python 3",
   "language": "python",
   "name": "python3"
  },
  "language_info": {
   "codemirror_mode": {
    "name": "ipython",
    "version": 3
   },
   "file_extension": ".py",
   "mimetype": "text/x-python",
   "name": "python",
   "nbconvert_exporter": "python",
   "pygments_lexer": "ipython3",
   "version": "3.6.9"
  }
 },
 "nbformat": 4,
 "nbformat_minor": 4
}
