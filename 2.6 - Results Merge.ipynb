{
 "cells": [
  {
   "cell_type": "code",
   "execution_count": 4,
   "metadata": {},
   "outputs": [],
   "source": [
    "import pandas as pd\n",
    "import numpy as np"
   ]
  },
  {
   "cell_type": "code",
   "execution_count": 5,
   "metadata": {},
   "outputs": [],
   "source": [
    "def get(file_name, balanced):\n",
    "    df = pd.read_csv(file_name)\n",
    "    df['balanced'] = balanced\n",
    "    df = df.drop(columns=[\"Unnamed: 0\"])\n",
    "    print(df.columns)\n",
    "    print(np.unique(df['dataset']))\n",
    "    return df"
   ]
  },
  {
   "cell_type": "code",
   "execution_count": 6,
   "metadata": {},
   "outputs": [
    {
     "name": "stdout",
     "output_type": "stream",
     "text": [
      "Index(['slice-dataset', 'dataset', 'optimizer', 'sequence', 'percentile',\n",
      "       'Train_acc', 'Train_loss', 'Val_acc', 'Val_loss', 'balanced'],\n",
      "      dtype='object')\n",
      "['egfr' 'ki67' 'mgmt']\n"
     ]
    }
   ],
   "source": [
    "a = get(\"results-2.6_balanced.csv\", True)"
   ]
  },
  {
   "cell_type": "code",
   "execution_count": 7,
   "metadata": {},
   "outputs": [
    {
     "name": "stdout",
     "output_type": "stream",
     "text": [
      "Index(['slice-dataset', 'dataset', 'optimizer', 'sequence', 'percentile',\n",
      "       'Train_acc', 'Train_loss', 'Val_acc', 'Val_loss', 'balanced'],\n",
      "      dtype='object')\n",
      "['egfr' 'idh' 'ki67' 'mgmt' 'survivor']\n"
     ]
    }
   ],
   "source": [
    "b = get(\"results-2.6-completed-no-balance.csv\", False)"
   ]
  },
  {
   "cell_type": "code",
   "execution_count": 8,
   "metadata": {},
   "outputs": [
    {
     "name": "stdout",
     "output_type": "stream",
     "text": [
      "Index(['slice-dataset', 'dataset', 'optimizer', 'sequence', 'percentile',\n",
      "       'Train_acc', 'Train_loss', 'Val_acc', 'Val_loss', 'balanced'],\n",
      "      dtype='object')\n",
      "['idh']\n"
     ]
    }
   ],
   "source": [
    "c = get(\"results-2.6_balanced_idh.csv\", True)"
   ]
  },
  {
   "cell_type": "code",
   "execution_count": null,
   "metadata": {},
   "outputs": [],
   "source": [
    "pd.concat([a, b, c]).to_csv(\"/data/RMN/dataset-gliomi-cnn/results/2.6/2.6-results.csv\")"
   ]
  }
 ],
 "metadata": {
  "kernelspec": {
   "display_name": "Python 3",
   "language": "python",
   "name": "python3"
  },
  "language_info": {
   "codemirror_mode": {
    "name": "ipython",
    "version": 3
   },
   "file_extension": ".py",
   "mimetype": "text/x-python",
   "name": "python",
   "nbconvert_exporter": "python",
   "pygments_lexer": "ipython3",
   "version": "3.6.9"
  }
 },
 "nbformat": 4,
 "nbformat_minor": 4
}
