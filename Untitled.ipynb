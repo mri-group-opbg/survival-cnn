{
 "cells": [
  {
   "cell_type": "code",
   "execution_count": 1,
   "metadata": {},
   "outputs": [
    {
     "name": "stderr",
     "output_type": "stream",
     "text": [
      "Using TensorFlow backend.\n"
     ]
    }
   ],
   "source": [
    "# Main Imports\n",
    "\n",
    "import nilearn\n",
    "\n",
    "from nilearn.image import resample_to_img\n",
    "\n",
    "import pylab as plt\n",
    "\n",
    "import numpy as np\n",
    "import nibabel as nb\n",
    "import os\n",
    "import glob\n",
    "import random\n",
    "import pandas as pd\n",
    "import re\n",
    "\n",
    "import seaborn as sns #added\n",
    "sns.set(style=\"darkgrid\") #added\n",
    "\n",
    "from nilearn.image import mean_img #added\n",
    "from nilearn.plotting import plot_anat #added\n",
    "# MLP for Pima Indians Dataset Serialize to JSON and HDF5\n",
    "from keras.models import Sequential\n",
    "from keras.layers import Dense\n",
    "from keras.models import model_from_json\n",
    "import numpy\n",
    "import os\n"
   ]
  },
  {
   "cell_type": "code",
   "execution_count": 2,
   "metadata": {},
   "outputs": [],
   "source": [
    "# Local directory where the Data are mounted\n",
    "rootDirectory = \"/data/RMN/LUCA_PASQUINI\"\n",
    "\n",
    "# Local subdirectory where dataset is mounted\n",
    "dataDir = \"DATI_SEGMENTATI_SCALATI_media\"\n",
    "\n",
    "# Dataset dir\n",
    "datasetDir = f\"{rootDirectory}/{dataDir}\"\n",
    "\n",
    "#CSV fileroot \n",
    "fileName = f\"{rootDirectory}/{dataDir}/Array_Labels_Def.csv\""
   ]
  },
  {
   "cell_type": "code",
   "execution_count": 3,
   "metadata": {},
   "outputs": [
    {
     "name": "stdout",
     "output_type": "stream",
     "text": [
      "\u001b[0m\u001b[01;34mALESSANDRINI_GLAUCO\u001b[0m/       \u001b[01;34mMUSAT_DORINA\u001b[0m/\r\n",
      "\u001b[01;34mANGELONI_GIUSEPPINA\u001b[0m/       \u001b[01;34mNERONE_GIANLUCA\u001b[0m/\r\n",
      "\u001b[01;34mASSANTO_MARIA\u001b[0m/             \u001b[01;34mNERVEGNA_G\u001b[0m/\r\n",
      "\u001b[01;34mASTA_G\u001b[0m/                    \u001b[01;34mORLANDI_PAOLO\u001b[0m/\r\n",
      "\u001b[01;32mArray_Labels_Def.csv\u001b[0m*      \u001b[01;34mPAGANNONE_GIANNI\u001b[0m/\r\n",
      "\u001b[01;34mBAGNOLI_VINCENZO\u001b[0m/          \u001b[01;34mPAGLIAROLI_LUCIA\u001b[0m/\r\n",
      "\u001b[01;34mBALZAMO_A\u001b[0m/                 \u001b[01;34mPAGNOTTA\u001b[0m/\r\n",
      "\u001b[01;34mBARONTINI_MARIA_GIOVANNA\u001b[0m/  \u001b[01;34mPALMA\u001b[0m/\r\n",
      "\u001b[01;34mBATTISTA_DOMENICA\u001b[0m/         \u001b[01;34mPALMIERI\u001b[0m/\r\n",
      "\u001b[01;34mBERGNACH_SILVANO\u001b[0m/          \u001b[01;34mPANETTI\u001b[0m/\r\n",
      "\u001b[01;34mBERNOLA_TERESA\u001b[0m/            \u001b[01;34mPASCAL\u001b[0m/\r\n",
      "\u001b[01;34mBERTUZZI_LUISA\u001b[0m/            \u001b[01;34mPASCARELLA_P\u001b[0m/\r\n",
      "\u001b[01;34mBEVILACQUA_RITA\u001b[0m/           \u001b[01;34mPASSARI\u001b[0m/\r\n",
      "\u001b[01;34mBIANCHI_GIOVANNI\u001b[0m/          \u001b[01;34mPELUSO_A\u001b[0m/\r\n",
      "\u001b[01;34mBIANCHI_ORAZIO\u001b[0m/            \u001b[01;34mPENNICCHI_R\u001b[0m/\r\n",
      "\u001b[01;34mBIANCHI_S\u001b[0m/                 \u001b[01;34mPIERI\u001b[0m/\r\n",
      "\u001b[01;34mBIAVATI_S\u001b[0m/                 \u001b[01;34mPIERINI_CATERINA\u001b[0m/\r\n",
      "\u001b[01;34mBOEZI_MARIO\u001b[0m/               \u001b[01;34mPINEDA_MARIA_ASSUNTA\u001b[0m/\r\n",
      "\u001b[01;34mBOVE_A\u001b[0m/                    \u001b[01;34mPISTOIA_CARLO\u001b[0m/\r\n",
      "\u001b[01;34mCACACE_PAOLO\u001b[0m/              \u001b[01;34mPODAGROSI_TERESA\u001b[0m/\r\n",
      "\u001b[01;34mCALDARONI_ANNA\u001b[0m/            \u001b[01;34mPODDA_ANTONINO\u001b[0m/\r\n",
      "\u001b[01;34mCAMACCI_FILIBERTO\u001b[0m/         \u001b[01;34mPOMPEI_F\u001b[0m/\r\n",
      "\u001b[01;34mCAMPLESE_CANDEROLA\u001b[0m/        \u001b[01;34mPRINCIPI_ANNA_MARIA\u001b[0m/\r\n",
      "\u001b[01;34mCAPEZZONE\u001b[0m/                 \u001b[01;34mPROIETTI_GIOVANNI\u001b[0m/\r\n",
      "\u001b[01;34mCARULLI_L\u001b[0m/                 \u001b[01;34mPROIETTI_MARIA\u001b[0m/\r\n",
      "\u001b[01;34mCARZEDDA_PAOLO\u001b[0m/            \u001b[01;34mQUACQUARELLI_A\u001b[0m/\r\n",
      "\u001b[01;34mCATALANI_F\u001b[0m/                \u001b[01;34mQUATTROCIOCCHI_EVELINA\u001b[0m/\r\n",
      "\u001b[01;34mCELLINI_T\u001b[0m/                 \u001b[01;34mRE_ATTILIO\u001b[0m/\r\n",
      "\u001b[01;34mCHERRI_M\u001b[0m/                  \u001b[01;34mRICCI_ALESSANDRO\u001b[0m/\r\n",
      "\u001b[01;34mCIMPUREANU_N\u001b[0m/              \u001b[01;34mROMITO_ORAZIO\u001b[0m/\r\n",
      "\u001b[01;34mCOLAFRANCESCO_ROCCO\u001b[0m/       \u001b[01;34mRONZO_F\u001b[0m/\r\n",
      "\u001b[01;34mCOLAMARTINI_GIUSEPPINA\u001b[0m/    \u001b[01;34mROSARI_NANDO\u001b[0m/\r\n",
      "\u001b[01;34mCOLAZZO_LUIGI_GIUSEPPE\u001b[0m/    \u001b[01;34mRUFINI_A\u001b[0m/\r\n",
      "\u001b[01;34mCOLETTA_MARIA\u001b[0m/             \u001b[01;34mRUSCITO_ELISABETTA\u001b[0m/\r\n",
      "\u001b[01;34mCOSIMI_MASSIMO\u001b[0m/            \u001b[01;34mRUSNAC_NINA\u001b[0m/\r\n",
      "\u001b[01;34mCOSTANZI_P\u001b[0m/                \u001b[01;34mRUSSO_IDA\u001b[0m/\r\n",
      "\u001b[01;34mCRESCENZI_ARMANDO\u001b[0m/         \u001b[01;34mSALA_CLARA\u001b[0m/\r\n",
      "\u001b[01;34mDARIDA\u001b[0m/                    \u001b[01;34mSALTARELLI_DOMENICO\u001b[0m/\r\n",
      "\u001b[01;34mDEL_BOVE_PIERINA\u001b[0m/          \u001b[01;34mSANTINI_ERMANNO\u001b[0m/\r\n",
      "\u001b[01;34mDE_PAOLI_R\u001b[0m/                \u001b[01;34mSCARAMUZZA_F\u001b[0m/\r\n",
      "\u001b[01;34mDE_SANTIS_GIORGO\u001b[0m/          \u001b[01;34mSOLOVIY_VOLODYMYR\u001b[0m/\r\n",
      "\u001b[01;34mDIASPRO_G\u001b[0m/                 \u001b[01;34mSTAN_FLORENTINA\u001b[0m/\r\n",
      "\u001b[01;34mDI_CARLATONIO_MAURIZIO\u001b[0m/    \u001b[01;34mSTEFANINI_CLORINDA\u001b[0m/\r\n",
      "\u001b[01;34mDI_LORENZO_TOMMASO\u001b[0m/        \u001b[01;34mSTERPA_GIUSEPPE\u001b[0m/\r\n",
      "\u001b[01;34mDI_MARCO_L\u001b[0m/                \u001b[01;34mSYKULA_GRAZYNA_BARBARA\u001b[0m/\r\n",
      "\u001b[01;34mDI_MASO_SIMONE\u001b[0m/            \u001b[01;34mTAVERNESE_G\u001b[0m/\r\n",
      "\u001b[01;34mDI_MASSA_SERGIO\u001b[0m/           \u001b[01;34mTAVOLUCCI_MARIA_RITA\u001b[0m/\r\n",
      "\u001b[01;34mDOBRISAN_DORINA\u001b[0m/           \u001b[01;34mTEMPESTINI_MARISA\u001b[0m/\r\n",
      "\u001b[01;34mDROGHEI_SANDRO\u001b[0m/            \u001b[01;34mTEMPORIN_PATRIZIA\u001b[0m/\r\n",
      "\u001b[01;34mD_ANGELI_ANNUNZIATA\u001b[0m/       \u001b[01;34mTEOFILI_STEFANO\u001b[0m/\r\n",
      "\u001b[01;34mD_ANGELO_RENATO\u001b[0m/           \u001b[01;34mTESTA_SERGIO\u001b[0m/\r\n",
      "\u001b[01;32mEGFR_Labels.csv\u001b[0m*           \u001b[01;34mTIBERI_GIUSEPPE\u001b[0m/\r\n",
      "\u001b[01;34mEMERY_R_C\u001b[0m/                 \u001b[01;34mTOMAO_ANGELO\u001b[0m/\r\n",
      "\u001b[01;34mFABIANI_ANNA\u001b[0m/              \u001b[01;34mTOMEO_VINCENZO\u001b[0m/\r\n",
      "\u001b[01;34mFARELLA_PAOLO\u001b[0m/             \u001b[01;34mTROSCIA_M\u001b[0m/\r\n",
      "\u001b[01;34mFEDERICO_FRANCESCO\u001b[0m/        \u001b[01;34mVERONESI_ROCCO\u001b[0m/\r\n",
      "\u001b[01;34mFERRAZZA_RITA\u001b[0m/             \u001b[01;34mVESCIA_M_T\u001b[0m/\r\n",
      "\u001b[01;34mFERRI_M_B\u001b[0m/                 \u001b[01;34mVITULANO_RITA\u001b[0m/\r\n",
      "\u001b[01;34mFILIPPONI_QUINTINO\u001b[0m/        \u001b[01;34mZAMPELLA_A\u001b[0m/\r\n",
      "\u001b[01;34mFIUCCI_A\u001b[0m/                  \u001b[01;34mZANATTA_CARLO\u001b[0m/\r\n",
      "\u001b[01;34mFLORIO_FRANCESCO_PAOLO\u001b[0m/    \u001b[01;34mZANGARI_ALDO\u001b[0m/\r\n",
      "\u001b[01;34mFRATINI_RITA\u001b[0m/              \u001b[01;34mZEPPA_ONORIO\u001b[0m/\r\n",
      "\u001b[01;34mGATTAMORTA_NATALINA\u001b[0m/       \u001b[01;32mboruta_ADC_NECROSI_EGFR_all_feature.xlsx\u001b[0m*\r\n",
      "\u001b[01;34mGEGGI_GIULIO\u001b[0m/              \u001b[01;32mboruta_ADC_NECROSI_IDH_all_feature.xlsx\u001b[0m*\r\n",
      "\u001b[01;34mGENNARI_CRISTIANO\u001b[0m/         \u001b[01;32mboruta_ADC_NECROSI_KI67_all_feature.xlsx\u001b[0m*\r\n",
      "\u001b[01;34mGIACCHERINI_M\u001b[0m/             \u001b[01;32mboruta_ADC_NECROSI_MGMT_all_feature.xlsx\u001b[0m*\r\n",
      "\u001b[01;34mGIANFELICI_LUISA\u001b[0m/          \u001b[01;32mboruta_ADC_NECROSI_SOPR11_all_feature.xlsx\u001b[0m*\r\n",
      "\u001b[01;34mGIOIA_COSMO_DAMIANO\u001b[0m/       \u001b[01;32mboruta_ADC_NECROSI_SOPR12_all_feature.xlsx\u001b[0m*\r\n",
      "\u001b[01;34mGIORDANO_STEFANIA\u001b[0m/         \u001b[01;32mboruta_ADC_NET_EGFR_all_feature.xlsx\u001b[0m*\r\n",
      "\u001b[01;32mIDH_Labels.csv\u001b[0m*            \u001b[01;32mboruta_ADC_NET_IDH_all_feature.xlsx\u001b[0m*\r\n",
      "\u001b[01;34mINCITI_DONATA\u001b[0m/             \u001b[01;32mboruta_ADC_NET_KI67_all_feature.xlsx\u001b[0m*\r\n",
      "\u001b[01;34mIONTA_LUCIANA\u001b[0m/             \u001b[01;32mboruta_ADC_NET_MGMT_all_feature.xlsx\u001b[0m*\r\n",
      "\u001b[01;34mISMAIL_A\u001b[0m/                  \u001b[01;32mboruta_ADC_NET_SOPR11_all_feature.xlsx\u001b[0m*\r\n",
      "\u001b[01;34mISONI_FRANCESCO\u001b[0m/           \u001b[01;32mboruta_ADC_NET_SOPR12_all_feature.xlsx\u001b[0m*\r\n",
      "\u001b[01;32mKI67_Labels.csv\u001b[0m*           \u001b[01;32mboruta_ADC_T1_EGFR_all_feature.xlsx\u001b[0m*\r\n",
      "\u001b[01;34mLABELLA_ADRIANA\u001b[0m/           \u001b[01;32mboruta_ADC_T1_IDH_all_feature.xlsx\u001b[0m*\r\n",
      "\u001b[01;34mLANDONE_ANNUNZIATA\u001b[0m/        \u001b[01;32mboruta_ADC_T1_KI67_all_feature.xlsx\u001b[0m*\r\n",
      "\u001b[01;34mLIBERATI_G_L\u001b[0m/              \u001b[01;32mboruta_ADC_T1_MGMT_all_feature.xlsx\u001b[0m*\r\n",
      "\u001b[01;34mLIOCE_CARMELA\u001b[0m/             \u001b[01;32mboruta_ADC_T1_SOPR11_all_feature.xlsx\u001b[0m*\r\n",
      "\u001b[01;34mLONGO_ROSALIA\u001b[0m/             \u001b[01;32mboruta_ADC_T1_SOPR12_all_feature.xlsx\u001b[0m*\r\n",
      "\u001b[01;34mLO_BELLO_MARIO\u001b[0m/            \u001b[01;32mboruta_FLAIR_NECROSI_EGFR_all_feature.xlsx\u001b[0m*\r\n",
      "\u001b[01;34mLUPI_GIANCARLO\u001b[0m/            \u001b[01;32mboruta_FLAIR_NECROSI_IDH_all_feature.xlsx\u001b[0m*\r\n",
      "\u001b[01;34mLUPO_ASSUNTA\u001b[0m/              \u001b[01;32mboruta_FLAIR_NECROSI_KI67_all_feature.xlsx\u001b[0m*\r\n",
      "\u001b[01;34mMAIOLINI_SANTA\u001b[0m/            \u001b[01;32mboruta_FLAIR_NECROSI_MGMT_all_feature.xlsx\u001b[0m*\r\n",
      "\u001b[01;34mMARAGNO_CLARA\u001b[0m/             \u001b[01;32mboruta_FLAIR_NECROSI_SOPR11_all_feature.xlsx\u001b[0m*\r\n",
      "\u001b[01;34mMARCOLINI\u001b[0m/                 \u001b[01;32mboruta_FLAIR_NECROSI_SOPR12_all_feature.xlsx\u001b[0m*\r\n",
      "\u001b[01;34mMARCONI_E\u001b[0m/                 \u001b[01;32mboruta_FLAIR_NET_EGFR_all_feature.xlsx\u001b[0m*\r\n",
      "\u001b[01;34mMARIANI_BERNARDO\u001b[0m/          \u001b[01;32mboruta_FLAIR_NET_KI67_all_feature.xlsx\u001b[0m*\r\n",
      "\u001b[01;34mMAROCCHI_CORRADO\u001b[0m/          \u001b[01;32mboruta_FLAIR_NET_MGMT_all_feature.xlsx\u001b[0m*\r\n",
      "\u001b[01;34mMARTELLA_COSIMO\u001b[0m/           \u001b[01;32mboruta_FLAIR_NET_SOPR11_all_feature.xlsx\u001b[0m*\r\n",
      "\u001b[01;34mMARTINEZ\u001b[0m/                  \u001b[01;32mboruta_FLAIR_NET_SOPR12_all_feature.xlsx\u001b[0m*\r\n",
      "\u001b[01;34mMASCI_ADA\u001b[0m/                 \u001b[01;32mboruta_FLAIR_T1_EGFR_all_feature.xlsx\u001b[0m*\r\n",
      "\u001b[01;34mMEDICI_GIOVANNA\u001b[0m/           \u001b[01;32mboruta_FLAIR_T1_IDH_all_feature.xlsx\u001b[0m*\r\n",
      "\u001b[01;32mMGMT_Labels.csv\u001b[0m*           \u001b[01;32mboruta_FLAIR_T1_KI67_all_feature.xlsx\u001b[0m*\r\n",
      "\u001b[01;34mMICHELI_MICHELE\u001b[0m/           \u001b[01;32mboruta_FLAIR_T1_MGMT_all_feature.xlsx\u001b[0m*\r\n",
      "\u001b[01;34mMITCHELL_CHARLENE_ANN\u001b[0m/     \u001b[01;32mboruta_FLAIR_T1_SOPR11_all_feature.xlsx\u001b[0m*\r\n",
      "\u001b[01;34mMONACELLI_LAURA\u001b[0m/           \u001b[01;32mboruta_FLAIR_T1_SOPR12_all_feature.xlsx\u001b[0m*\r\n",
      "\u001b[01;34mMONTI_E\u001b[0m/                   \u001b[01;32mresult-scalati.txt\u001b[0m*\r\n",
      "\u001b[01;34mMOSCARDINI_GIACINTO\u001b[0m/       \u001b[01;32mresult.txt\u001b[0m*\r\n",
      "\u001b[01;34mMOVIA_A\u001b[0m/\r\n"
     ]
    }
   ],
   "source": [
    "ls {datasetDir}/"
   ]
  },
  {
   "cell_type": "code",
   "execution_count": 11,
   "metadata": {},
   "outputs": [
    {
     "name": "stdout",
     "output_type": "stream",
     "text": [
      "\u001b[0m\u001b[01;34mNECROSI_ROI\u001b[0m/  \u001b[01;34mNET_ROI\u001b[0m/  \u001b[01;34mT1_ROI\u001b[0m/\r\n"
     ]
    }
   ],
   "source": [
    "ls {datasetDir}/CSV_DATA"
   ]
  },
  {
   "cell_type": "code",
   "execution_count": 10,
   "metadata": {
    "scrolled": true
   },
   "outputs": [],
   "source": [
    "import os, sys\n",
    "os.mkdir(f\"/{datasetDir}/CSV_DATA/NECROSI_ROI/\")"
   ]
  },
  {
   "cell_type": "code",
   "execution_count": 122,
   "metadata": {},
   "outputs": [],
   "source": [
    "SEQUENCE=\"ADC\"\n",
    "#ADC\n",
    "#FLAIR\n",
    "\n",
    "ROI=\"NECROSI\"\n",
    "#T1\n",
    "#NET\n",
    "#NECROSI\n",
    "\n",
    "PREDICTOR=\"IDH\"\n",
    "#SOPR12\n",
    "#SOPR11\n",
    "#KI67\n",
    "#EGFR\n",
    "#MGMT\n",
    "#IDH"
   ]
  },
  {
   "cell_type": "code",
   "execution_count": 123,
   "metadata": {},
   "outputs": [
    {
     "data": {
      "text/plain": [
       "'//data/RMN/LUCA_PASQUINI/DATI_SEGMENTATI_SCALATI_media/CSV_DATA/NECROSI_ROI/boruta_ADC_NECROSI_IDH_all_feature.xlsx'"
      ]
     },
     "execution_count": 123,
     "metadata": {},
     "output_type": "execute_result"
    }
   ],
   "source": [
    "import shutil \n",
    "\n",
    "source=f\"/{datasetDir}/boruta_{SEQUENCE}_{ROI}_{PREDICTOR}_all_feature.xlsx\"\n",
    "destination=f\"/{datasetDir}/CSV_DATA/{ROI}_ROI/\"\n",
    "\n",
    "\n",
    "shutil.move(source, destination)"
   ]
  },
  {
   "cell_type": "code",
   "execution_count": 127,
   "metadata": {},
   "outputs": [
    {
     "name": "stdout",
     "output_type": "stream",
     "text": [
      "\u001b[0m\u001b[01;32mboruta_ADC_NET_EGFR_all_feature.xlsx\u001b[0m*\r\n",
      "\u001b[01;32mboruta_ADC_NET_IDH_all_feature.xlsx\u001b[0m*\r\n",
      "\u001b[01;32mboruta_ADC_NET_KI67_all_feature.xlsx\u001b[0m*\r\n",
      "\u001b[01;32mboruta_ADC_NET_MGMT_all_feature.xlsx\u001b[0m*\r\n",
      "\u001b[01;32mboruta_ADC_NET_SOPR11_all_feature.xlsx\u001b[0m*\r\n",
      "\u001b[01;32mboruta_ADC_NET_SOPR12_all_feature.xlsx\u001b[0m*\r\n",
      "\u001b[01;32mboruta_FLAIR_NET_EGFR_all_feature.xlsx\u001b[0m*\r\n",
      "\u001b[01;32mboruta_FLAIR_NET_KI67_all_feature.xlsx\u001b[0m*\r\n",
      "\u001b[01;32mboruta_FLAIR_NET_MGMT_all_feature.xlsx\u001b[0m*\r\n",
      "\u001b[01;32mboruta_FLAIR_NET_SOPR11_all_feature.xlsx\u001b[0m*\r\n",
      "\u001b[01;32mboruta_FLAIR_NET_SOPR12_all_feature.xlsx\u001b[0m*\r\n"
     ]
    }
   ],
   "source": [
    "ls {datasetDir}/CSV_DATA/NET_ROI"
   ]
  },
  {
   "cell_type": "code",
   "execution_count": 70,
   "metadata": {},
   "outputs": [],
   "source": [
    "os.rename(f\"/{datasetDir}/ROMITO_ORAZIO/rCBVregistered_.nii\",f\"/{datasetDir}/ROMITO_ORAZIO/rCBV_registered_.nii\")"
   ]
  },
  {
   "cell_type": "code",
   "execution_count": null,
   "metadata": {},
   "outputs": [],
   "source": [
    "#rm {datasetDir}/PANETTI/"
   ]
  },
  {
   "cell_type": "code",
   "execution_count": null,
   "metadata": {},
   "outputs": [],
   "source": [
    "import os, sys\n",
    "os.mkdir(f\"/{datasetDir}/PANETTI/plus/\")"
   ]
  }
 ],
 "metadata": {
  "kernelspec": {
   "display_name": "Python 3",
   "language": "python",
   "name": "python3"
  },
  "language_info": {
   "codemirror_mode": {
    "name": "ipython",
    "version": 3
   },
   "file_extension": ".py",
   "mimetype": "text/x-python",
   "name": "python",
   "nbconvert_exporter": "python",
   "pygments_lexer": "ipython3",
   "version": "3.6.9"
  }
 },
 "nbformat": 4,
 "nbformat_minor": 4
}
