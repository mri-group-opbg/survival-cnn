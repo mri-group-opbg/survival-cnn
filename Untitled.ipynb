{
 "cells": [
  {
   "cell_type": "code",
   "execution_count": 39,
   "metadata": {},
   "outputs": [],
   "source": [
    "# Main Imports\n",
    "\n",
    "import nilearn\n",
    "\n",
    "from nilearn.image import resample_to_img\n",
    "\n",
    "import pylab as plt\n",
    "\n",
    "import numpy as np\n",
    "import nibabel as nb\n",
    "import os\n",
    "import glob\n",
    "import random\n",
    "import pandas as pd\n",
    "import re\n",
    "\n",
    "import seaborn as sns #added\n",
    "sns.set(style=\"darkgrid\") #added\n",
    "\n",
    "from nilearn.image import mean_img #added\n",
    "from nilearn.plotting import plot_anat #added\n",
    "# MLP for Pima Indians Dataset Serialize to JSON and HDF5\n",
    "from keras.models import Sequential\n",
    "from keras.layers import Dense\n",
    "from keras.models import model_from_json\n",
    "import numpy\n",
    "import os\n"
   ]
  },
  {
   "cell_type": "code",
   "execution_count": 2,
   "metadata": {},
   "outputs": [],
   "source": [
    "# Local directory where the Data are mounted\n",
    "rootDirectory = \"/data/RMN/LUCA_PASQUINI\"\n",
    "\n",
    "# Local subdirectory where dataset is mounted\n",
    "dataDir = \"DATI_SEGMENTATI_SCALATI_media\"\n",
    "\n",
    "# Dataset dir\n",
    "datasetDir = f\"{rootDirectory}/{dataDir}\"\n",
    "\n",
    "#CSV fileroot \n",
    "fileName = f\"{rootDirectory}/{dataDir}/Array_Labels_Def.csv\""
   ]
  },
  {
   "cell_type": "code",
   "execution_count": 3,
   "metadata": {},
   "outputs": [
    {
     "name": "stdout",
     "output_type": "stream",
     "text": [
      "\u001b[0m\u001b[01;34mALESSANDRINI_GLAUCO\u001b[0m/       \u001b[01;34mFEDERICO_FRANCESCO\u001b[0m/      \u001b[01;34mPASCARELLA_P\u001b[0m/\r\n",
      "\u001b[01;34mANGELONI_GIUSEPPINA\u001b[0m/       \u001b[01;34mFERRAZZA_RITA\u001b[0m/           \u001b[01;34mPASSARI\u001b[0m/\r\n",
      "\u001b[01;34mASSANTO_MARIA\u001b[0m/             \u001b[01;34mFERRI_M_B\u001b[0m/               \u001b[01;34mPELUSO_A\u001b[0m/\r\n",
      "\u001b[01;34mASTA_G\u001b[0m/                    \u001b[01;34mFILIPPONI_QUINTINO\u001b[0m/      \u001b[01;34mPENNICCHI_R\u001b[0m/\r\n",
      "\u001b[01;32mArray_Labels_Def.csv\u001b[0m*      \u001b[01;34mFIUCCI_A\u001b[0m/                \u001b[01;34mPIERI\u001b[0m/\r\n",
      "\u001b[01;34mBAGNOLI_VINCENZO\u001b[0m/          \u001b[01;34mFLORIO_FRANCESCO_PAOLO\u001b[0m/  \u001b[01;34mPIERINI_CATERINA\u001b[0m/\r\n",
      "\u001b[01;34mBALZAMO_A\u001b[0m/                 \u001b[01;34mFRATINI_RITA\u001b[0m/            \u001b[01;34mPINEDA_MARIA_ASSUNTA\u001b[0m/\r\n",
      "\u001b[01;34mBARONTINI_MARIA_GIOVANNA\u001b[0m/  \u001b[01;34mGATTAMORTA_NATALINA\u001b[0m/     \u001b[01;34mPISTOIA_CARLO\u001b[0m/\r\n",
      "\u001b[01;34mBATTISTA_DOMENICA\u001b[0m/         \u001b[01;34mGEGGI_GIULIO\u001b[0m/            \u001b[01;34mPODAGROSI_TERESA\u001b[0m/\r\n",
      "\u001b[01;34mBERGNACH_SILVANO\u001b[0m/          \u001b[01;34mGENNARI_CRISTIANO\u001b[0m/       \u001b[01;34mPODDA_ANTONINO\u001b[0m/\r\n",
      "\u001b[01;34mBERNOLA_TERESA\u001b[0m/            \u001b[01;34mGIACCHERINI_M\u001b[0m/           \u001b[01;34mPOMPEI_F\u001b[0m/\r\n",
      "\u001b[01;34mBERTUZZI_LUISA\u001b[0m/            \u001b[01;34mGIANFELICI_LUISA\u001b[0m/        \u001b[01;34mPRINCIPI_ANNA_MARIA\u001b[0m/\r\n",
      "\u001b[01;34mBEVILACQUA_RITA\u001b[0m/           \u001b[01;34mGIOIA_COSMO_DAMIANO\u001b[0m/     \u001b[01;34mPROIETTI_GIOVANNI\u001b[0m/\r\n",
      "\u001b[01;34mBIANCHI_GIOVANNI\u001b[0m/          \u001b[01;34mGIORDANO_STEFANIA\u001b[0m/       \u001b[01;34mPROIETTI_MARIA\u001b[0m/\r\n",
      "\u001b[01;34mBIANCHI_ORAZIO\u001b[0m/            \u001b[01;34mINCITI_DONATA\u001b[0m/           \u001b[01;34mQUACQUARELLI_A\u001b[0m/\r\n",
      "\u001b[01;34mBIANCHI_S\u001b[0m/                 \u001b[01;34mIONTA_LUCIANA\u001b[0m/           \u001b[01;34mQUATTROCIOCCHI_EVELINA\u001b[0m/\r\n",
      "\u001b[01;34mBIAVATI_S\u001b[0m/                 \u001b[01;34mISMAIL_A\u001b[0m/                \u001b[01;34mRE_ATTILIO\u001b[0m/\r\n",
      "\u001b[01;34mBOEZI_MARIO\u001b[0m/               \u001b[01;34mISONI_FRANCESCO\u001b[0m/         \u001b[01;34mRICCI_ALESSANDRO\u001b[0m/\r\n",
      "\u001b[01;34mBOVE_A\u001b[0m/                    \u001b[01;34mLABELLA_ADRIANA\u001b[0m/         \u001b[01;34mROMITO_ORAZIO\u001b[0m/\r\n",
      "\u001b[01;34mCACACE_PAOLO\u001b[0m/              \u001b[01;34mLANDONE_ANNUNZIATA\u001b[0m/      \u001b[01;34mRONZO_F\u001b[0m/\r\n",
      "\u001b[01;34mCALDARONI_ANNA\u001b[0m/            \u001b[01;34mLIBERATI_G_L\u001b[0m/            \u001b[01;34mROSARI_NANDO\u001b[0m/\r\n",
      "\u001b[01;34mCAMACCI_FILIBERTO\u001b[0m/         \u001b[01;34mLIOCE_CARMELA\u001b[0m/           \u001b[01;34mRUFINI_A\u001b[0m/\r\n",
      "\u001b[01;34mCAMPLESE_CANDEROLA\u001b[0m/        \u001b[01;34mLONGO_ROSALIA\u001b[0m/           \u001b[01;34mRUSCITO_ELISABETTA\u001b[0m/\r\n",
      "\u001b[01;34mCAPEZZONE\u001b[0m/                 \u001b[01;34mLO_BELLO_MARIO\u001b[0m/          \u001b[01;34mRUSNAC_NINA\u001b[0m/\r\n",
      "\u001b[01;34mCARULLI_L\u001b[0m/                 \u001b[01;34mLUPI_GIANCARLO\u001b[0m/          \u001b[01;34mRUSSO_IDA\u001b[0m/\r\n",
      "\u001b[01;34mCARZEDDA_PAOLO\u001b[0m/            \u001b[01;34mLUPO_ASSUNTA\u001b[0m/            \u001b[01;34mSALA_CLARA\u001b[0m/\r\n",
      "\u001b[01;34mCATALANI_F\u001b[0m/                \u001b[01;34mMAIOLINI_SANTA\u001b[0m/          \u001b[01;34mSALTARELLI_DOMENICO\u001b[0m/\r\n",
      "\u001b[01;34mCELLINI_T\u001b[0m/                 \u001b[01;34mMARAGNO_CLARA\u001b[0m/           \u001b[01;34mSANTINI_ERMANNO\u001b[0m/\r\n",
      "\u001b[01;34mCHERRI_M\u001b[0m/                  \u001b[01;34mMARCOLINI\u001b[0m/               \u001b[01;34mSCARAMUZZA_F\u001b[0m/\r\n",
      "\u001b[01;34mCIMPUREANU_N\u001b[0m/              \u001b[01;34mMARCONI_E\u001b[0m/               \u001b[01;34mSOLOVIY_VOLODYMYR\u001b[0m/\r\n",
      "\u001b[01;34mCOLAFRANCESCO_ROCCO\u001b[0m/       \u001b[01;34mMARIANI_BERNARDO\u001b[0m/        \u001b[01;34mSTAN_FLORENTINA\u001b[0m/\r\n",
      "\u001b[01;34mCOLAMARTINI_GIUSEPPINA\u001b[0m/    \u001b[01;34mMAROCCHI_CORRADO\u001b[0m/        \u001b[01;34mSTEFANINI_CLORINDA\u001b[0m/\r\n",
      "\u001b[01;34mCOLAZZO_LUIGI_GIUSEPPE\u001b[0m/    \u001b[01;34mMARTELLA_COSIMO\u001b[0m/         \u001b[01;34mSTERPA_GIUSEPPE\u001b[0m/\r\n",
      "\u001b[01;34mCOLETTA_MARIA\u001b[0m/             \u001b[01;34mMARTINEZ\u001b[0m/                \u001b[01;34mSYKULA_GRAZYNA_BARBARA\u001b[0m/\r\n",
      "\u001b[01;34mCOSIMI_MASSIMO\u001b[0m/            \u001b[01;34mMASCI_ADA\u001b[0m/               \u001b[01;34mTAVERNESE_G\u001b[0m/\r\n",
      "\u001b[01;34mCOSTANZI_P\u001b[0m/                \u001b[01;34mMEDICI_GIOVANNA\u001b[0m/         \u001b[01;34mTAVOLUCCI_MARIA_RITA\u001b[0m/\r\n",
      "\u001b[01;34mCRESCENZI_ARMANDO\u001b[0m/         \u001b[01;32mMGMT_Labels.csv\u001b[0m*         \u001b[01;34mTEMPESTINI_MARISA\u001b[0m/\r\n",
      "\u001b[01;34mDARIDA\u001b[0m/                    \u001b[01;34mMICHELI_MICHELE\u001b[0m/         \u001b[01;34mTEMPORIN_PATRIZIA\u001b[0m/\r\n",
      "\u001b[01;34mDEL_BOVE_PIERINA\u001b[0m/          \u001b[01;34mMITCHELL_CHARLENE_ANN\u001b[0m/   \u001b[01;34mTEOFILI_STEFANO\u001b[0m/\r\n",
      "\u001b[01;34mDE_PAOLI_R\u001b[0m/                \u001b[01;34mMONACELLI_LAURA\u001b[0m/         \u001b[01;34mTESTA_SERGIO\u001b[0m/\r\n",
      "\u001b[01;34mDE_SANTIS_GIORGO\u001b[0m/          \u001b[01;34mMONTI_E\u001b[0m/                 \u001b[01;34mTIBERI_GIUSEPPE\u001b[0m/\r\n",
      "\u001b[01;34mDIASPRO_G\u001b[0m/                 \u001b[01;34mMOSCARDINI_GIACINTO\u001b[0m/     \u001b[01;34mTOMAO_ANGELO\u001b[0m/\r\n",
      "\u001b[01;34mDI_CARLATONIO_MAURIZIO\u001b[0m/    \u001b[01;34mMOVIA_A\u001b[0m/                 \u001b[01;34mTOMEO_VINCENZO\u001b[0m/\r\n",
      "\u001b[01;34mDI_LORENZO_TOMMASO\u001b[0m/        \u001b[01;34mMUSAT_DORINA\u001b[0m/            \u001b[01;34mTROSCIA_M\u001b[0m/\r\n",
      "\u001b[01;34mDI_MARCO_L\u001b[0m/                \u001b[01;34mNERONE_GIANLUCA\u001b[0m/         \u001b[01;34mVERONESI_ROCCO\u001b[0m/\r\n",
      "\u001b[01;34mDI_MASO_SIMONE\u001b[0m/            \u001b[01;34mNERVEGNA_G\u001b[0m/              \u001b[01;34mVESCIA_M_T\u001b[0m/\r\n",
      "\u001b[01;34mDI_MASSA_SERGIO\u001b[0m/           \u001b[01;34mORLANDI_PAOLO\u001b[0m/           \u001b[01;34mVITULANO_RITA\u001b[0m/\r\n",
      "\u001b[01;34mDOBRISAN_DORINA\u001b[0m/           \u001b[01;34mPAGANNONE_GIANNI\u001b[0m/        \u001b[01;34mZAMPELLA_A\u001b[0m/\r\n",
      "\u001b[01;34mDROGHEI_SANDRO\u001b[0m/            \u001b[01;34mPAGLIAROLI_LUCIA\u001b[0m/        \u001b[01;34mZANATTA_CARLO\u001b[0m/\r\n",
      "\u001b[01;34mD_ANGELI_ANNUNZIATA\u001b[0m/       \u001b[01;34mPAGNOTTA\u001b[0m/                \u001b[01;34mZANGARI_ALDO\u001b[0m/\r\n",
      "\u001b[01;34mD_ANGELO_RENATO\u001b[0m/           \u001b[01;34mPALMA\u001b[0m/                   \u001b[01;34mZEPPA_ONORIO\u001b[0m/\r\n",
      "\u001b[01;34mEMERY_R_C\u001b[0m/                 \u001b[01;34mPALMIERI\u001b[0m/                \u001b[01;32mresult-scalati.txt\u001b[0m*\r\n",
      "\u001b[01;34mFABIANI_ANNA\u001b[0m/              \u001b[01;34mPANETTI\u001b[0m/                 \u001b[01;32mresult.txt\u001b[0m*\r\n",
      "\u001b[01;34mFARELLA_PAOLO\u001b[0m/             \u001b[01;34mPASCAL\u001b[0m/\r\n"
     ]
    }
   ],
   "source": [
    "ls {datasetDir}/"
   ]
  },
  {
   "cell_type": "code",
   "execution_count": 74,
   "metadata": {},
   "outputs": [
    {
     "name": "stdout",
     "output_type": "stream",
     "text": [
      "\u001b[0m\u001b[01;32mADC_registered.nii\u001b[0m*       \u001b[01;34mROI\u001b[0m/                   \u001b[01;32mfile-list.txt\u001b[0m*\r\n",
      "\u001b[01;32mADC_registered.nii.gz\u001b[0m*    \u001b[01;32mT1_registered.nii\u001b[0m*     \u001b[01;32mrCBV_registered.nii.gz\u001b[0m*\r\n",
      "\u001b[01;32mFLAIR_registered.nii\u001b[0m*     \u001b[01;32mT1_registered.nii.gz\u001b[0m*  \u001b[01;32mrCBV_registered_.nii\u001b[0m*\r\n",
      "\u001b[01;32mFLAIR_registered.nii.gz\u001b[0m*  \u001b[01;32mT2_registered.nii\u001b[0m*     \u001b[01;34mscaled\u001b[0m/\r\n",
      "\u001b[01;32mMPRAGEMDC.nii\u001b[0m*            \u001b[01;32mT2_registered.nii.gz\u001b[0m*\r\n"
     ]
    }
   ],
   "source": [
    "ls {datasetDir}/PIERI"
   ]
  },
  {
   "cell_type": "code",
   "execution_count": 14,
   "metadata": {},
   "outputs": [],
   "source": [
    "IMG_reg = nb.load(f\"{datasetDir}/MAIOLINI_SANTA/FLAIR_registered.nii\")"
   ]
  },
  {
   "cell_type": "code",
   "execution_count": 23,
   "metadata": {},
   "outputs": [],
   "source": [
    "IMG_roi = nb.load(f\"{datasetDir}/MAIOLINI_SANTA/ROI/T2ROI.nii\")"
   ]
  },
  {
   "cell_type": "code",
   "execution_count": 18,
   "metadata": {},
   "outputs": [
    {
     "data": {
      "text/plain": [
       "dtype('<f4')"
      ]
     },
     "execution_count": 18,
     "metadata": {},
     "output_type": "execute_result"
    }
   ],
   "source": [
    "IMG_reg.get_data_dtype()"
   ]
  },
  {
   "cell_type": "code",
   "execution_count": 24,
   "metadata": {},
   "outputs": [
    {
     "data": {
      "text/plain": [
       "dtype('<f4')"
      ]
     },
     "execution_count": 24,
     "metadata": {},
     "output_type": "execute_result"
    }
   ],
   "source": [
    "IMG_roi.get_data_dtype()"
   ]
  },
  {
   "cell_type": "code",
   "execution_count": 19,
   "metadata": {},
   "outputs": [],
   "source": [
    "DATA= np.asarray(IMG_reg.dataobj)"
   ]
  },
  {
   "cell_type": "code",
   "execution_count": 25,
   "metadata": {},
   "outputs": [],
   "source": [
    "ROI_DATA=np.asarray(IMG_roi.dataobj)"
   ]
  },
  {
   "cell_type": "code",
   "execution_count": 27,
   "metadata": {},
   "outputs": [
    {
     "data": {
      "text/plain": [
       "1.0"
      ]
     },
     "execution_count": 27,
     "metadata": {},
     "output_type": "execute_result"
    }
   ],
   "source": [
    "np.amax(ROI_DATA)"
   ]
  },
  {
   "cell_type": "code",
   "execution_count": 21,
   "metadata": {},
   "outputs": [
    {
     "data": {
      "text/plain": [
       "0.7683977"
      ]
     },
     "execution_count": 21,
     "metadata": {},
     "output_type": "execute_result"
    }
   ],
   "source": [
    "np.amin(DATA)"
   ]
  },
  {
   "cell_type": "code",
   "execution_count": 10,
   "metadata": {},
   "outputs": [
    {
     "data": {
      "text/plain": [
       "(192, 256, 160)"
      ]
     },
     "execution_count": 10,
     "metadata": {},
     "output_type": "execute_result"
    }
   ],
   "source": [
    "IMG_reg.shape"
   ]
  },
  {
   "cell_type": "code",
   "execution_count": 28,
   "metadata": {},
   "outputs": [
    {
     "data": {
      "text/plain": [
       "(192, 256, 144)"
      ]
     },
     "execution_count": 28,
     "metadata": {},
     "output_type": "execute_result"
    }
   ],
   "source": [
    "IMG_roi.shape"
   ]
  },
  {
   "cell_type": "code",
   "execution_count": 40,
   "metadata": {},
   "outputs": [
    {
     "ename": "TypeError",
     "evalue": "only integer scalar arrays can be converted to a scalar index",
     "output_type": "error",
     "traceback": [
      "\u001b[0;31m---------------------------------------------------------------------------\u001b[0m",
      "\u001b[0;31mTypeError\u001b[0m                                 Traceback (most recent call last)",
      "\u001b[0;32m<ipython-input-40-bc9e553b21ec>\u001b[0m in \u001b[0;36m<module>\u001b[0;34m\u001b[0m\n\u001b[0;32m----> 1\u001b[0;31m \u001b[0mnp\u001b[0m\u001b[0;34m.\u001b[0m\u001b[0mprod\u001b[0m\u001b[0;34m(\u001b[0m\u001b[0mDATA\u001b[0m\u001b[0;34m,\u001b[0m\u001b[0mROI_DATA\u001b[0m\u001b[0;34m)\u001b[0m\u001b[0;34m\u001b[0m\u001b[0;34m\u001b[0m\u001b[0m\n\u001b[0m",
      "\u001b[0;32m<__array_function__ internals>\u001b[0m in \u001b[0;36mprod\u001b[0;34m(*args, **kwargs)\u001b[0m\n",
      "\u001b[0;32m~usr/local/lib/python3.6/dist-packages/numpy/core/fromnumeric.py\u001b[0m in \u001b[0;36mprod\u001b[0;34m(a, axis, dtype, out, keepdims, initial, where)\u001b[0m\n\u001b[1;32m   2960\u001b[0m     \"\"\"\n\u001b[1;32m   2961\u001b[0m     return _wrapreduction(a, np.multiply, 'prod', axis, dtype, out,\n\u001b[0;32m-> 2962\u001b[0;31m                           keepdims=keepdims, initial=initial, where=where)\n\u001b[0m\u001b[1;32m   2963\u001b[0m \u001b[0;34m\u001b[0m\u001b[0m\n\u001b[1;32m   2964\u001b[0m \u001b[0;34m\u001b[0m\u001b[0m\n",
      "\u001b[0;32m~usr/local/lib/python3.6/dist-packages/numpy/core/fromnumeric.py\u001b[0m in \u001b[0;36m_wrapreduction\u001b[0;34m(obj, ufunc, method, axis, dtype, out, **kwargs)\u001b[0m\n\u001b[1;32m     88\u001b[0m                 \u001b[0;32mreturn\u001b[0m \u001b[0mreduction\u001b[0m\u001b[0;34m(\u001b[0m\u001b[0maxis\u001b[0m\u001b[0;34m=\u001b[0m\u001b[0maxis\u001b[0m\u001b[0;34m,\u001b[0m \u001b[0mout\u001b[0m\u001b[0;34m=\u001b[0m\u001b[0mout\u001b[0m\u001b[0;34m,\u001b[0m \u001b[0;34m**\u001b[0m\u001b[0mpasskwargs\u001b[0m\u001b[0;34m)\u001b[0m\u001b[0;34m\u001b[0m\u001b[0;34m\u001b[0m\u001b[0m\n\u001b[1;32m     89\u001b[0m \u001b[0;34m\u001b[0m\u001b[0m\n\u001b[0;32m---> 90\u001b[0;31m     \u001b[0;32mreturn\u001b[0m \u001b[0mufunc\u001b[0m\u001b[0;34m.\u001b[0m\u001b[0mreduce\u001b[0m\u001b[0;34m(\u001b[0m\u001b[0mobj\u001b[0m\u001b[0;34m,\u001b[0m \u001b[0maxis\u001b[0m\u001b[0;34m,\u001b[0m \u001b[0mdtype\u001b[0m\u001b[0;34m,\u001b[0m \u001b[0mout\u001b[0m\u001b[0;34m,\u001b[0m \u001b[0;34m**\u001b[0m\u001b[0mpasskwargs\u001b[0m\u001b[0;34m)\u001b[0m\u001b[0;34m\u001b[0m\u001b[0;34m\u001b[0m\u001b[0m\n\u001b[0m\u001b[1;32m     91\u001b[0m \u001b[0;34m\u001b[0m\u001b[0m\n\u001b[1;32m     92\u001b[0m \u001b[0;34m\u001b[0m\u001b[0m\n",
      "\u001b[0;31mTypeError\u001b[0m: only integer scalar arrays can be converted to a scalar index"
     ]
    }
   ],
   "source": [
    "np.prod(DATA,ROI_DATA)"
   ]
  },
  {
   "cell_type": "code",
   "execution_count": null,
   "metadata": {
    "scrolled": true
   },
   "outputs": [],
   "source": [
    "import os, sys\n",
    "os.mkdir(f\"/{datasetDir}/ROMITO_ORAZIO/scaled/\")"
   ]
  },
  {
   "cell_type": "code",
   "execution_count": null,
   "metadata": {},
   "outputs": [],
   "source": [
    "import shutil \n",
    "\n",
    "source=f\"/{datasetDir}/ROMITO_ORAZIO/rCBVscalatamedia.nii\"\n",
    "destination=f\"/{datasetDir}/ROMITO_ORAZIO/scaled/\"\n",
    "\n",
    "\n",
    "shutil.move(source, destination)"
   ]
  },
  {
   "cell_type": "code",
   "execution_count": null,
   "metadata": {},
   "outputs": [],
   "source": [
    "ls {datasetDir}/TROSCIA_M"
   ]
  },
  {
   "cell_type": "code",
   "execution_count": 70,
   "metadata": {},
   "outputs": [],
   "source": [
    "os.rename(f\"/{datasetDir}/ROMITO_ORAZIO/rCBVregistered_.nii\",f\"/{datasetDir}/ROMITO_ORAZIO/rCBV_registered_.nii\")"
   ]
  },
  {
   "cell_type": "code",
   "execution_count": null,
   "metadata": {},
   "outputs": [],
   "source": [
    "#rm {datasetDir}/PANETTI/"
   ]
  },
  {
   "cell_type": "code",
   "execution_count": null,
   "metadata": {},
   "outputs": [],
   "source": [
    "import os, sys\n",
    "os.mkdir(f\"/{datasetDir}/PANETTI/plus/\")"
   ]
  }
 ],
 "metadata": {
  "kernelspec": {
   "display_name": "Python 3",
   "language": "python",
   "name": "python3"
  },
  "language_info": {
   "codemirror_mode": {
    "name": "ipython",
    "version": 3
   },
   "file_extension": ".py",
   "mimetype": "text/x-python",
   "name": "python",
   "nbconvert_exporter": "python",
   "pygments_lexer": "ipython3",
   "version": "3.6.9"
  }
 },
 "nbformat": 4,
 "nbformat_minor": 4
}
