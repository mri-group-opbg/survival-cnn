{
 "cells": [
  {
   "cell_type": "code",
   "execution_count": 1,
   "metadata": {},
   "outputs": [
    {
     "name": "stdout",
     "output_type": "stream",
     "text": [
      "\u001b[33mWARNING: The directory '/.cache/pip/http' or its parent directory is not owned by the current user and the cache has been disabled. Please check the permissions and owner of that directory. If executing pip with sudo, you may want sudo's -H flag.\u001b[0m\n",
      "\u001b[33mWARNING: The directory '/.cache/pip' or its parent directory is not owned by the current user and caching wheels has been disabled. check the permissions and owner of that directory. If executing pip with sudo, you may want sudo's -H flag.\u001b[0m\n",
      "Requirement already satisfied: nipy in /.local/lib/python3.6/site-packages (0.4.2)\n",
      "Requirement already satisfied: sympy>=0.7.0 in /.local/lib/python3.6/site-packages (from nipy) (1.5.1)\n",
      "Requirement already satisfied: nibabel>=1.2 in /.local/lib/python3.6/site-packages (from nipy) (3.0.2)\n",
      "Requirement already satisfied: mpmath>=0.19 in /.local/lib/python3.6/site-packages (from sympy>=0.7.0->nipy) (1.1.0)\n",
      "Requirement already satisfied: numpy>=1.12 in /usr/local/lib/python3.6/dist-packages (from nibabel>=1.2->nipy) (1.18.1)\n",
      "\u001b[33mWARNING: You are using pip version 19.3.1; however, version 20.0.2 is available.\n",
      "You should consider upgrading via the 'pip install --upgrade pip' command.\u001b[0m\n"
     ]
    }
   ],
   "source": [
    "# Modules to import\n",
    "\n",
    "!pip install --user nipy"
   ]
  },
  {
   "cell_type": "code",
   "execution_count": 2,
   "metadata": {},
   "outputs": [
    {
     "name": "stdout",
     "output_type": "stream",
     "text": [
      "\u001b[33mWARNING: The directory '/.cache/pip/http' or its parent directory is not owned by the current user and the cache has been disabled. Please check the permissions and owner of that directory. If executing pip with sudo, you may want sudo's -H flag.\u001b[0m\n",
      "\u001b[33mWARNING: The directory '/.cache/pip' or its parent directory is not owned by the current user and caching wheels has been disabled. check the permissions and owner of that directory. If executing pip with sudo, you may want sudo's -H flag.\u001b[0m\n",
      "Requirement already satisfied: nilearn in /.local/lib/python3.6/site-packages (0.6.2)\n",
      "Requirement already satisfied: numpy>=1.11 in /usr/local/lib/python3.6/dist-packages (from nilearn) (1.18.1)\n",
      "Requirement already satisfied: scipy>=0.19 in /.local/lib/python3.6/site-packages (from nilearn) (1.4.1)\n",
      "Requirement already satisfied: nibabel>=2.0.2 in /.local/lib/python3.6/site-packages (from nilearn) (3.0.2)\n",
      "Requirement already satisfied: scikit-learn>=0.19 in /.local/lib/python3.6/site-packages (from nilearn) (0.22.2.post1)\n",
      "Requirement already satisfied: joblib>=0.11 in /.local/lib/python3.6/site-packages (from nilearn) (0.14.1)\n",
      "Requirement already satisfied: sklearn in /.local/lib/python3.6/site-packages (from nilearn) (0.0)\n",
      "\u001b[33mWARNING: You are using pip version 19.3.1; however, version 20.0.2 is available.\n",
      "You should consider upgrading via the 'pip install --upgrade pip' command.\u001b[0m\n"
     ]
    }
   ],
   "source": [
    "!pip install --user nilearn"
   ]
  },
  {
   "cell_type": "code",
   "execution_count": 3,
   "metadata": {},
   "outputs": [
    {
     "name": "stdout",
     "output_type": "stream",
     "text": [
      "\u001b[33mWARNING: The directory '/.cache/pip/http' or its parent directory is not owned by the current user and the cache has been disabled. Please check the permissions and owner of that directory. If executing pip with sudo, you may want sudo's -H flag.\u001b[0m\n",
      "\u001b[33mWARNING: The directory '/.cache/pip' or its parent directory is not owned by the current user and caching wheels has been disabled. check the permissions and owner of that directory. If executing pip with sudo, you may want sudo's -H flag.\u001b[0m\n",
      "Requirement already satisfied: seaborn in /.local/lib/python3.6/site-packages (0.10.0)\n",
      "Requirement already satisfied: matplotlib>=2.1.2 in /usr/local/lib/python3.6/dist-packages (from seaborn) (3.1.2)\n",
      "Requirement already satisfied: pandas>=0.22.0 in /.local/lib/python3.6/site-packages (from seaborn) (1.0.3)\n",
      "Requirement already satisfied: numpy>=1.13.3 in /usr/local/lib/python3.6/dist-packages (from seaborn) (1.18.1)\n",
      "Requirement already satisfied: scipy>=1.0.1 in /.local/lib/python3.6/site-packages (from seaborn) (1.4.1)\n",
      "Requirement already satisfied: pyparsing!=2.0.4,!=2.1.2,!=2.1.6,>=2.0.1 in /usr/local/lib/python3.6/dist-packages (from matplotlib>=2.1.2->seaborn) (2.4.6)\n",
      "Requirement already satisfied: cycler>=0.10 in /usr/local/lib/python3.6/dist-packages (from matplotlib>=2.1.2->seaborn) (0.10.0)\n",
      "Requirement already satisfied: kiwisolver>=1.0.1 in /usr/local/lib/python3.6/dist-packages (from matplotlib>=2.1.2->seaborn) (1.1.0)\n",
      "Requirement already satisfied: python-dateutil>=2.1 in /usr/local/lib/python3.6/dist-packages (from matplotlib>=2.1.2->seaborn) (2.8.1)\n",
      "Requirement already satisfied: pytz>=2017.2 in /.local/lib/python3.6/site-packages (from pandas>=0.22.0->seaborn) (2019.3)\n",
      "Requirement already satisfied: six in /usr/lib/python3/dist-packages (from cycler>=0.10->matplotlib>=2.1.2->seaborn) (1.11.0)\n",
      "Requirement already satisfied: setuptools in /usr/local/lib/python3.6/dist-packages (from kiwisolver>=1.0.1->matplotlib>=2.1.2->seaborn) (42.0.2)\n",
      "\u001b[33mWARNING: You are using pip version 19.3.1; however, version 20.0.2 is available.\n",
      "You should consider upgrading via the 'pip install --upgrade pip' command.\u001b[0m\n"
     ]
    }
   ],
   "source": [
    "!pip install --user seaborn"
   ]
  },
  {
   "cell_type": "code",
   "execution_count": 4,
   "metadata": {},
   "outputs": [],
   "source": [
    "# Main Imports\n",
    "\n",
    "import nilearn\n",
    "\n",
    "from nilearn.image import resample_to_img\n",
    "\n",
    "import pylab as plt\n",
    "\n",
    "import numpy as np\n",
    "import nibabel as nb\n",
    "import os\n",
    "import glob\n",
    "import random\n",
    "import seaborn as sns #added\n",
    "sns.set(style=\"darkgrid\") #added\n",
    "\n"
   ]
  },
  {
   "cell_type": "code",
   "execution_count": 5,
   "metadata": {},
   "outputs": [
    {
     "data": {
      "text/plain": [
       "'/data/RMN/LUCA_PASQUINI/DATI_SEGMENTATI_SCALATI_media'"
      ]
     },
     "execution_count": 5,
     "metadata": {},
     "output_type": "execute_result"
    }
   ],
   "source": [
    "# Local directory where the Drive is mounted\n",
    "rootDirectory = \"/data/RMN/LUCA_PASQUINI\"\n",
    "\n",
    "# Local subdirectory where dataset is mounted\n",
    "dataDir = \"DATI_SEGMENTATI_SCALATI_media\"\n",
    "\n",
    "# Dataset dir\n",
    "datasetDir = f\"{rootDirectory}/{dataDir}\"\n",
    "\n",
    "datasetDir"
   ]
  },
  {
   "cell_type": "code",
   "execution_count": 6,
   "metadata": {},
   "outputs": [],
   "source": [
    "from nilearn.image import mean_img #added\n",
    "from nilearn.plotting import plot_anat #added"
   ]
  },
  {
   "cell_type": "code",
   "execution_count": 7,
   "metadata": {},
   "outputs": [
    {
     "name": "stderr",
     "output_type": "stream",
     "text": [
      "/usr/local/lib/python3.6/dist-packages/ipykernel_launcher.py:12: DeprecationWarning: get_data() is deprecated in favor of get_fdata(), which has a more predictable return type. To obtain get_data() behavior going forward, use numpy.asanyarray(img.dataobj).\n",
      "\n",
      "* deprecated from version: 3.0\n",
      "* Will raise <class 'nibabel.deprecator.ExpiredDeprecationError'> as of version: 5.0\n",
      "  if sys.path[0] == '':\n",
      "/usr/local/lib/python3.6/dist-packages/ipykernel_launcher.py:20: DeprecationWarning: get_data() is deprecated in favor of get_fdata(), which has a more predictable return type. To obtain get_data() behavior going forward, use numpy.asanyarray(img.dataobj).\n",
      "\n",
      "* deprecated from version: 3.0\n",
      "* Will raise <class 'nibabel.deprecator.ExpiredDeprecationError'> as of version: 5.0\n"
     ]
    }
   ],
   "source": [
    "S=[]\n",
    "results = []\n",
    "Data = []\n",
    "IMG=[]\n",
    "for name in glob.glob(\"/data/RMN/LUCA_PASQUINI/DATI_SEGMENTATI_SCALATI_media/*\"):\n",
    "    subject = os.path.basename(name)\n",
    "    #print(subject)\n",
    "    if os.path.isfile(f\"{datasetDir}/{subject}/T1_registered.nii.gz\"):\n",
    "    # qui lavori con il soggetto: esempio\n",
    "        IMG_reg = nb.load(f\"{datasetDir}/{subject}/T1_registered.nii.gz\")\n",
    "        S.append(subject)\n",
    "        DATA= IMG_reg.get_data()\n",
    "        a = [DATA.shape]\n",
    "        results.append(a)\n",
    "        Data.append(DATA)\n",
    "        IMG.append(IMG_reg)\n",
    "\n",
    "    \n",
    "    IMG_roi = nb.load(f\"{datasetDir}/{subject}/ROI/SOLID.nii\")\n",
    "    ROI_DATA=IMG_roi.get_data()\n",
    "    b=[ROI_DATA.shape]\n",
    "    Data.append(ROI_DATA)\n",
    "    IMG.append(IMG_roi)\n",
    "  \n",
    "    results.append(b)\n",
    "\n",
    "results=np.asarray(results)   \n",
    "# Data=np.asmatrix(Data)\n",
    "# IMG=np.asarray(IMG)\n"
   ]
  },
  {
   "cell_type": "code",
   "execution_count": 8,
   "metadata": {},
   "outputs": [
    {
     "name": "stdout",
     "output_type": "stream",
     "text": [
      "['ALESSANDRINI_GLAUCO', 'ANGELONI_GIUSEPPINA', 'ASSANTO_MARIA', 'BAGNOLI_VINCENZO', 'BARONTINI_MARIA_GIOVANNA', 'BATTISTA_DOMENICA', 'BERGNACH_SILVANO', 'BERNOLA_TERESA', 'BERTUZZI_LUISA', 'BEVILACQUA_RITA', 'BIANCHI_GIOVANNI', 'BIANCHI_ORAZIO', 'BOEZI_MARIO', 'CACACE_PAOLO', 'CALDARONI_ANNA', 'CAMACCI_FILIBERTO', 'CAMPLESE_CANDEROLA', 'CAPEZZONE', 'CARZEDDA_PAOLO', 'COLAFRANCESCO_ROCCO', 'COLAZZO_LUIGI_GIUSEPPE', 'CRESCENZI_ARMANDO', 'DARIDA', 'DEL_BOVE_PIERINA', 'DE_SANTIS_GIORGO', 'DI_CARLATONIO_MAURIZIO', 'DI_LORENZO_TOMMASO', 'DI_MASO_SIMONE', 'DI_MASSA_SERGIO', 'DOBRISAN_DORINA', 'D_ANGELI_ANNUNZIATA', 'D_ANGELO_RENATO', 'FABIANI_ANNA', 'FARELLA_PAOLO', 'FEDERICO_FRANCESCO', 'FERRAZZA_RITA', 'FILIPPONI_QUINTINO', 'FLORIO_FRANCESCO_PAOLO', 'FRATINI_RITA', 'GATTAMORTA_NATALINA', 'GEGGI_GIULIO', 'GENNARI_CRISTIANO', 'GIANFELICI_LUISA', 'GIOIA_COSMO_DAMIANO', 'GIORDANO_STEFANIA', 'INCITI_DONATA', 'IONTA_LUCIANA', 'ISONI_FRANCESCO', 'LABELLA_ADRIANA', 'LANDONE_ANNUNZIATA', 'LIOCE_CARMELA', 'LONGO_ROSALIA', 'LO_BELLO_MARIO', 'LUPI_GIANCARLO', 'MAIOLINI_SANTA', 'MARAGNO_CLARA', 'MARCOLINI', 'MARIANI_BERNARDO', 'MAROCCHI_CORRADO', 'MARTINEZ', 'MASCI_ADA', 'MEDICI_GIOVANNA', 'MICHELI_MICHELE', 'MITCHELL_CHARLENE_ANN', 'MONACELLI_LAURA', 'MOSCARDINI_GIACINTO', 'MUSAT_DORINA', 'NERONE_GIANLUCA', 'ORLANDI_PAOLO', 'PAGANNONE_GIANNI', 'PAGLIAROLI_LUCIA', 'PAGNOTTA', 'PALMA', 'PALMIERI', 'PANETTI', 'PASCAL', 'PASSARI', 'PIERI', 'PIERINI_CATERINA', 'PINEDA_MARIA_ASSUNTA', 'PISTOIA_CARLO', 'PODAGROSI_TERESA', 'PODDA_ANTONINO', 'PRINCIPI_ANNA_MARIA', 'PROIETTI_GIOVANNI', 'PROIETTI_MARIA', 'QUATTROCIOCCHI_EVELINA', 'RICCI_ALESSANDRO', 'ROMITO_ORAZIO', 'ROSARI_NANDO', 'RUSCITO_ELISABETTA', 'RUSNAC_NINA', 'RUSSO_IDA', 'SALA_CLARA', 'SALTARELLI_DOMENICO', 'SANTINI_ERMANNO', 'SOLOVIY_VOLODYMYR', 'STAN_FLORENTINA', 'STEFANINI_CLORINDA', 'STERPA_GIUSEPPE', 'SYKULA_GRAZYNA_BARBARA', 'TAVOLUCCI_MARIA_RITA', 'TEMPESTINI_MARISA', 'TEMPORIN_PATRIZIA', 'TEOFILI_STEFANO', 'TIBERI_GIUSEPPE', 'TOMAO_ANGELO', 'TOMEO_VINCENZO', 'VERONESI_ROCCO', 'VITULANO_RITA', 'ZANATTA_CARLO', 'ZANGARI_ALDO', 'ZEPPA_ONORIO']\n"
     ]
    }
   ],
   "source": [
    "print(S)"
   ]
  },
  {
   "cell_type": "code",
   "execution_count": 10,
   "metadata": {},
   "outputs": [
    {
     "name": "stdout",
     "output_type": "stream",
     "text": [
      "\u001b[0m\u001b[01;34mALESSANDRINI_GLAUCO\u001b[0m/       \u001b[01;34mFEDERICO_FRANCESCO\u001b[0m/      \u001b[01;34mPASCAL\u001b[0m/\r\n",
      "\u001b[01;34mANGELONI_GIUSEPPINA\u001b[0m/       \u001b[01;34mFERRAZZA_RITA\u001b[0m/           \u001b[01;34mPASCARELLA_P\u001b[0m/\r\n",
      "\u001b[01;34mASSANTO_MARIA\u001b[0m/             \u001b[01;34mFERRI_M_B\u001b[0m/               \u001b[01;34mPASSARI\u001b[0m/\r\n",
      "\u001b[01;34mASTA_G\u001b[0m/                    \u001b[01;34mFILIPPONI_QUINTINO\u001b[0m/      \u001b[01;34mPELUSO_A\u001b[0m/\r\n",
      "\u001b[01;34mBAGNOLI_VINCENZO\u001b[0m/          \u001b[01;34mFIUCCI_A\u001b[0m/                \u001b[01;34mPENNICCHI_R\u001b[0m/\r\n",
      "\u001b[01;34mBALZAMO_A\u001b[0m/                 \u001b[01;34mFLORIO_FRANCESCO_PAOLO\u001b[0m/  \u001b[01;34mPIERI\u001b[0m/\r\n",
      "\u001b[01;34mBARONTINI_MARIA_GIOVANNA\u001b[0m/  \u001b[01;34mFRATINI_RITA\u001b[0m/            \u001b[01;34mPIERINI_CATERINA\u001b[0m/\r\n",
      "\u001b[01;34mBATTISTA_DOMENICA\u001b[0m/         \u001b[01;34mGATTAMORTA_NATALINA\u001b[0m/     \u001b[01;34mPINEDA_MARIA_ASSUNTA\u001b[0m/\r\n",
      "\u001b[01;34mBERGNACH_SILVANO\u001b[0m/          \u001b[01;34mGEGGI_GIULIO\u001b[0m/            \u001b[01;34mPISTOIA_CARLO\u001b[0m/\r\n",
      "\u001b[01;34mBERNOLA_TERESA\u001b[0m/            \u001b[01;34mGENNARI_CRISTIANO\u001b[0m/       \u001b[01;34mPODAGROSI_TERESA\u001b[0m/\r\n",
      "\u001b[01;34mBERTUZZI_LUISA\u001b[0m/            \u001b[01;34mGIACCHERINI_M\u001b[0m/           \u001b[01;34mPODDA_ANTONINO\u001b[0m/\r\n",
      "\u001b[01;34mBEVILACQUA_RITA\u001b[0m/           \u001b[01;34mGIANFELICI_LUISA\u001b[0m/        \u001b[01;34mPOMPEI_F\u001b[0m/\r\n",
      "\u001b[01;34mBIANCHI_GIOVANNI\u001b[0m/          \u001b[01;34mGIOIA_COSMO_DAMIANO\u001b[0m/     \u001b[01;34mPRINCIPI_ANNA_MARIA\u001b[0m/\r\n",
      "\u001b[01;34mBIANCHI_ORAZIO\u001b[0m/            \u001b[01;34mGIORDANO_STEFANIA\u001b[0m/       \u001b[01;34mPROIETTI_GIOVANNI\u001b[0m/\r\n",
      "\u001b[01;34mBIANCHI_S\u001b[0m/                 \u001b[01;34mINCITI_DONATA\u001b[0m/           \u001b[01;34mPROIETTI_MARIA\u001b[0m/\r\n",
      "\u001b[01;34mBIAVATI_S\u001b[0m/                 \u001b[01;34mIONTA_LUCIANA\u001b[0m/           \u001b[01;34mQUACQUARELLI_A\u001b[0m/\r\n",
      "\u001b[01;34mBOEZI_MARIO\u001b[0m/               \u001b[01;34mISMAIL_A\u001b[0m/                \u001b[01;34mQUATTROCIOCCHI_EVELINA\u001b[0m/\r\n",
      "\u001b[01;34mBOVE_A\u001b[0m/                    \u001b[01;34mISONI_FRANCESCO\u001b[0m/         \u001b[01;34mRE_ATTILIO\u001b[0m/\r\n",
      "\u001b[01;34mCACACE_PAOLO\u001b[0m/              \u001b[01;34mLABELLA_ADRIANA\u001b[0m/         \u001b[01;34mRICCI_ALESSANDRO\u001b[0m/\r\n",
      "\u001b[01;34mCALDARONI_ANNA\u001b[0m/            \u001b[01;34mLANDONE_ANNUNZIATA\u001b[0m/      \u001b[01;34mROMITO_ORAZIO\u001b[0m/\r\n",
      "\u001b[01;34mCAMACCI_FILIBERTO\u001b[0m/         \u001b[01;34mLIBERATI_G_L\u001b[0m/            \u001b[01;34mRONZO_F\u001b[0m/\r\n",
      "\u001b[01;34mCAMPLESE_CANDEROLA\u001b[0m/        \u001b[01;34mLIOCE_CARMELA\u001b[0m/           \u001b[01;34mROSARI_NANDO\u001b[0m/\r\n",
      "\u001b[01;34mCAPEZZONE\u001b[0m/                 \u001b[01;34mLONGO_ROSALIA\u001b[0m/           \u001b[01;34mRUFINI_A\u001b[0m/\r\n",
      "\u001b[01;34mCARULLI_L\u001b[0m/                 \u001b[01;34mLO_BELLO_MARIO\u001b[0m/          \u001b[01;34mRUSCITO_ELISABETTA\u001b[0m/\r\n",
      "\u001b[01;34mCARZEDDA_PAOLO\u001b[0m/            \u001b[01;34mLUPI_GIANCARLO\u001b[0m/          \u001b[01;34mRUSNAC_NINA\u001b[0m/\r\n",
      "\u001b[01;34mCATALANI_F\u001b[0m/                \u001b[01;34mLUPO_ASSUNTA\u001b[0m/            \u001b[01;34mRUSSO_IDA\u001b[0m/\r\n",
      "\u001b[01;34mCELLINI_T\u001b[0m/                 \u001b[01;32mLabels_array.csv\u001b[0m*        \u001b[01;34mSALA_CLARA\u001b[0m/\r\n",
      "\u001b[01;34mCHERRI_M\u001b[0m/                  \u001b[01;34mMAIOLINI_SANTA\u001b[0m/          \u001b[01;34mSALTARELLI_DOMENICO\u001b[0m/\r\n",
      "\u001b[01;34mCIMPUREANU_N\u001b[0m/              \u001b[01;34mMARAGNO_CLARA\u001b[0m/           \u001b[01;34mSANTINI_ERMANNO\u001b[0m/\r\n",
      "\u001b[01;34mCOLAFRANCESCO_ROCCO\u001b[0m/       \u001b[01;34mMARCOLINI\u001b[0m/               \u001b[01;34mSCARAMUZZA_F\u001b[0m/\r\n",
      "\u001b[01;34mCOLAMARTINI_GIUSEPPINA\u001b[0m/    \u001b[01;34mMARCONI_E\u001b[0m/               \u001b[01;34mSOLOVIY_VOLODYMYR\u001b[0m/\r\n",
      "\u001b[01;34mCOLAZZO_LUIGI_GIUSEPPE\u001b[0m/    \u001b[01;34mMARIANI_BERNARDO\u001b[0m/        \u001b[01;34mSTAN_FLORENTINA\u001b[0m/\r\n",
      "\u001b[01;34mCOLETTA_MARIA\u001b[0m/             \u001b[01;34mMAROCCHI_CORRADO\u001b[0m/        \u001b[01;34mSTEFANINI_CLORINDA\u001b[0m/\r\n",
      "\u001b[01;34mCOSIMI_MASSIMO\u001b[0m/            \u001b[01;34mMARTELLA_COSIMO\u001b[0m/         \u001b[01;34mSTERPA_GIUSEPPE\u001b[0m/\r\n",
      "\u001b[01;34mCOSTANZI_P\u001b[0m/                \u001b[01;34mMARTINEZ\u001b[0m/                \u001b[01;34mSYKULA_GRAZYNA_BARBARA\u001b[0m/\r\n",
      "\u001b[01;34mCRESCENZI_ARMANDO\u001b[0m/         \u001b[01;34mMASCI_ADA\u001b[0m/               \u001b[01;34mTAVERNESE_G\u001b[0m/\r\n",
      "\u001b[01;34mDARIDA\u001b[0m/                    \u001b[01;34mMEDICI_GIOVANNA\u001b[0m/         \u001b[01;34mTAVOLUCCI_MARIA_RITA\u001b[0m/\r\n",
      "\u001b[01;34mDEL_BOVE_PIERINA\u001b[0m/          \u001b[01;34mMICHELI_MICHELE\u001b[0m/         \u001b[01;34mTEMPESTINI_MARISA\u001b[0m/\r\n",
      "\u001b[01;34mDE_PAOLI_R\u001b[0m/                \u001b[01;34mMITCHELL_CHARLENE_ANN\u001b[0m/   \u001b[01;34mTEMPORIN_PATRIZIA\u001b[0m/\r\n",
      "\u001b[01;34mDE_SANTIS_GIORGO\u001b[0m/          \u001b[01;34mMONACELLI_LAURA\u001b[0m/         \u001b[01;34mTEOFILI_STEFANO\u001b[0m/\r\n",
      "\u001b[01;34mDIASPRO_G\u001b[0m/                 \u001b[01;34mMONTI_E\u001b[0m/                 \u001b[01;34mTESTA_SERGIO\u001b[0m/\r\n",
      "\u001b[01;34mDI_CARLATONIO_MAURIZIO\u001b[0m/    \u001b[01;34mMOSCARDINI_GIACINTO\u001b[0m/     \u001b[01;34mTIBERI_GIUSEPPE\u001b[0m/\r\n",
      "\u001b[01;34mDI_LORENZO_TOMMASO\u001b[0m/        \u001b[01;34mMOVIA_A\u001b[0m/                 \u001b[01;34mTOMAO_ANGELO\u001b[0m/\r\n",
      "\u001b[01;34mDI_MARCO_L\u001b[0m/                \u001b[01;34mMUSAT_DORINA\u001b[0m/            \u001b[01;34mTOMEO_VINCENZO\u001b[0m/\r\n",
      "\u001b[01;34mDI_MASO_SIMONE\u001b[0m/            \u001b[01;34mNERONE_GIANLUCA\u001b[0m/         \u001b[01;34mTROSCIA_M\u001b[0m/\r\n",
      "\u001b[01;34mDI_MASSA_SERGIO\u001b[0m/           \u001b[01;34mNERVEGNA_G\u001b[0m/              \u001b[01;34mVERONESI_ROCCO\u001b[0m/\r\n",
      "\u001b[01;34mDOBRISAN_DORINA\u001b[0m/           \u001b[01;34mORLANDI_PAOLO\u001b[0m/           \u001b[01;34mVESCIA_M_T\u001b[0m/\r\n",
      "\u001b[01;34mDROGHEI_SANDRO\u001b[0m/            \u001b[01;34mPAGANNONE_GIANNI\u001b[0m/        \u001b[01;34mVITULANO_RITA\u001b[0m/\r\n",
      "\u001b[01;34mD_ANGELI_ANNUNZIATA\u001b[0m/       \u001b[01;34mPAGLIAROLI_LUCIA\u001b[0m/        \u001b[01;34mZAMPELLA_A\u001b[0m/\r\n",
      "\u001b[01;34mD_ANGELO_RENATO\u001b[0m/           \u001b[01;34mPAGNOTTA\u001b[0m/                \u001b[01;34mZANATTA_CARLO\u001b[0m/\r\n",
      "\u001b[01;34mEMERY_R_C\u001b[0m/                 \u001b[01;34mPALMA\u001b[0m/                   \u001b[01;34mZANGARI_ALDO\u001b[0m/\r\n",
      "\u001b[01;34mFABIANI_ANNA\u001b[0m/              \u001b[01;34mPALMIERI\u001b[0m/                \u001b[01;34mZEPPA_ONORIO\u001b[0m/\r\n",
      "\u001b[01;34mFARELLA_PAOLO\u001b[0m/             \u001b[01;34mPANETTI\u001b[0m/\r\n"
     ]
    }
   ],
   "source": [
    "ls {datasetDir}/"
   ]
  },
  {
   "cell_type": "code",
   "execution_count": null,
   "metadata": {},
   "outputs": [],
   "source": []
  }
 ],
 "metadata": {
  "kernelspec": {
   "display_name": "Python 3",
   "language": "python",
   "name": "python3"
  },
  "language_info": {
   "codemirror_mode": {
    "name": "ipython",
    "version": 3
   },
   "file_extension": ".py",
   "mimetype": "text/x-python",
   "name": "python",
   "nbconvert_exporter": "python",
   "pygments_lexer": "ipython3",
   "version": "3.6.9"
  }
 },
 "nbformat": 4,
 "nbformat_minor": 4
}
