{
 "cells": [
  {
   "cell_type": "code",
   "execution_count": 1,
   "metadata": {},
   "outputs": [],
   "source": [
    "import numpy as np"
   ]
  },
  {
   "cell_type": "code",
   "execution_count": 2,
   "metadata": {},
   "outputs": [],
   "source": [
    "# alt-invio esegue la cella e ne crea un'altra"
   ]
  },
  {
   "cell_type": "code",
   "execution_count": 3,
   "metadata": {},
   "outputs": [],
   "source": [
    "# shift-invio esegue la cella e va alla prossima"
   ]
  },
  {
   "cell_type": "code",
   "execution_count": 4,
   "metadata": {},
   "outputs": [],
   "source": [
    "a = np.array([1, 2, 3, 4])"
   ]
  },
  {
   "cell_type": "code",
   "execution_count": 5,
   "metadata": {},
   "outputs": [
    {
     "name": "stdout",
     "output_type": "stream",
     "text": [
      "[1 2 3 4]\n"
     ]
    }
   ],
   "source": [
    "print(a)"
   ]
  },
  {
   "cell_type": "code",
   "execution_count": 6,
   "metadata": {},
   "outputs": [
    {
     "data": {
      "text/plain": [
       "array([ 4,  8, 12, 16])"
      ]
     },
     "execution_count": 6,
     "metadata": {},
     "output_type": "execute_result"
    }
   ],
   "source": [
    "a * 4"
   ]
  },
  {
   "cell_type": "code",
   "execution_count": 7,
   "metadata": {},
   "outputs": [],
   "source": [
    "# ok ?"
   ]
  },
  {
   "cell_type": "code",
   "execution_count": 2,
   "metadata": {},
   "outputs": [
    {
     "name": "stdout",
     "output_type": "stream",
     "text": [
      "'Studio Stupendo su Pazienti.ipynb'\r\n"
     ]
    }
   ],
   "source": [
    "ls # List files"
   ]
  },
  {
   "cell_type": "code",
   "execution_count": 6,
   "metadata": {},
   "outputs": [
    {
     "name": "stdout",
     "output_type": "stream",
     "text": [
      "\u001b[0m\u001b[01;34mALESSANDRINI_GLAUCO\u001b[0m/       \u001b[01;34mFEDERICO_FRANCESCO\u001b[0m/      \u001b[01;34mPASCARELLA_P\u001b[0m/\r\n",
      "\u001b[01;34mANGELONI_GIUSEPPINA\u001b[0m/       \u001b[01;34mFERRAZZA_RITA\u001b[0m/           \u001b[01;34mPASSARI\u001b[0m/\r\n",
      "\u001b[01;34mASSANTO_MARIA\u001b[0m/             \u001b[01;34mFERRI_M_B\u001b[0m/               \u001b[01;34mPELUSO_A\u001b[0m/\r\n",
      "\u001b[01;34mASTA_G\u001b[0m/                    \u001b[01;34mFILIPPONI_QUINTINO\u001b[0m/      \u001b[01;34mPENNICCHI_R\u001b[0m/\r\n",
      "\u001b[01;34mBAGNOLI_VINCENZO\u001b[0m/          \u001b[01;34mFIUCCI_A\u001b[0m/                \u001b[01;34mPIERI\u001b[0m/\r\n",
      "\u001b[01;34mBALZAMO_A\u001b[0m/                 \u001b[01;34mFLORIO_FRANCESCO_PAOLO\u001b[0m/  \u001b[01;34mPIERINI_CATERINA\u001b[0m/\r\n",
      "\u001b[01;34mBARONTINI_MARIA_GIOVANNA\u001b[0m/  \u001b[01;34mFRATINI_RITA\u001b[0m/            \u001b[01;34mPINEDA_MARIA_ASSUNTA\u001b[0m/\r\n",
      "\u001b[01;34mBATTISTA_DOMENICA\u001b[0m/         \u001b[01;34mGATTAMORTA_NATALINA\u001b[0m/     \u001b[01;34mPISTOIA_CARLO\u001b[0m/\r\n",
      "\u001b[01;34mBERGNACH_SILVANO\u001b[0m/          \u001b[01;34mGEGGI_GIULIO\u001b[0m/            \u001b[01;34mPODAGROSI_TERESA\u001b[0m/\r\n",
      "\u001b[01;34mBERNOLA_TERESA\u001b[0m/            \u001b[01;34mGENNARI_CRISTIANO\u001b[0m/       \u001b[01;34mPODDA_ANTONINO\u001b[0m/\r\n",
      "\u001b[01;34mBERTUZZI_LUISA\u001b[0m/            \u001b[01;34mGIACCHERINI_M\u001b[0m/           \u001b[01;34mPOMPEI_F\u001b[0m/\r\n",
      "\u001b[01;34mBEVILACQUA_RITA\u001b[0m/           \u001b[01;34mGIANFELICI_LUISA\u001b[0m/        \u001b[01;34mPRINCIPI_ANNA_MARIA\u001b[0m/\r\n",
      "\u001b[01;34mBIANCHI_GIOVANNI\u001b[0m/          \u001b[01;34mGIOIA_COSMO_DAMIANO\u001b[0m/     \u001b[01;34mPROIETTI_GIOVANNI\u001b[0m/\r\n",
      "\u001b[01;34mBIANCHI_ORAZIO\u001b[0m/            \u001b[01;34mGIORDANO_STEFANIA\u001b[0m/       \u001b[01;34mPROIETTI_MARIA\u001b[0m/\r\n",
      "\u001b[01;34mBIANCHI_S\u001b[0m/                 \u001b[01;34mINCITI_DONATA\u001b[0m/           \u001b[01;34mQUACQUARELLI_A\u001b[0m/\r\n",
      "\u001b[01;34mBIAVATI_S\u001b[0m/                 \u001b[01;34mIONTA_LUCIANA\u001b[0m/           \u001b[01;34mQUATTROCIOCCHI_EVELINA\u001b[0m/\r\n",
      "\u001b[01;34mBOEZI_MARIO\u001b[0m/               \u001b[01;34mISMAIL_A\u001b[0m/                \u001b[01;34mRE_ATTILIO\u001b[0m/\r\n",
      "\u001b[01;34mBOVE_A\u001b[0m/                    \u001b[01;34mISONI_FRANCESCO\u001b[0m/         \u001b[01;34mRICCI_ALESSANDRO\u001b[0m/\r\n",
      "\u001b[01;34mCACACE_PAOLO\u001b[0m/              \u001b[01;34mLABELLA_ADRIANA\u001b[0m/         \u001b[01;34mROMITO_ORAZIO\u001b[0m/\r\n",
      "\u001b[01;34mCALDARONI_ANNA\u001b[0m/            \u001b[01;34mLANDONE_ANNUNZIATA\u001b[0m/      \u001b[01;34mRONZO_F\u001b[0m/\r\n",
      "\u001b[01;34mCAMACCI_FILIBERTO\u001b[0m/         \u001b[01;34mLIBERATI_G_L\u001b[0m/            \u001b[01;34mROSARI_NANDO\u001b[0m/\r\n",
      "\u001b[01;34mCAMPLESE_CANDEROLA\u001b[0m/        \u001b[01;34mLIOCE_CARMELA\u001b[0m/           \u001b[01;34mRUFINI_A\u001b[0m/\r\n",
      "\u001b[01;34mCAPEZZONE\u001b[0m/                 \u001b[01;34mLO_BELLO_MARIO\u001b[0m/          \u001b[01;34mRUSCITO_ELISABETTA\u001b[0m/\r\n",
      "\u001b[01;34mCARULLI_L\u001b[0m/                 \u001b[01;34mLONGO_ROSALIA\u001b[0m/           \u001b[01;34mRUSNAC_NINA\u001b[0m/\r\n",
      "\u001b[01;34mCARZEDDA_PAOLO\u001b[0m/            \u001b[01;34mLUPI_GIANCARLO\u001b[0m/          \u001b[01;34mRUSSO_IDA\u001b[0m/\r\n",
      "\u001b[01;34mCATALANI_F\u001b[0m/                \u001b[01;34mLUPO_ASSUNTA\u001b[0m/            \u001b[01;34mSALA_CLARA\u001b[0m/\r\n",
      "\u001b[01;34mCELLINI_T\u001b[0m/                 \u001b[01;34mMAIOLINI_SANTA\u001b[0m/          \u001b[01;34mSALTARELLI_DOMENICO\u001b[0m/\r\n",
      "\u001b[01;34mCHERRI_M\u001b[0m/                  \u001b[01;34mMARAGNO_CLARA\u001b[0m/           \u001b[01;34mSANTINI_ERMANNO\u001b[0m/\r\n",
      "\u001b[01;34mCIMPUREANU_N\u001b[0m/              \u001b[01;34mMARCOLINI\u001b[0m/               \u001b[01;34mSCARAMUZZA_F\u001b[0m/\r\n",
      "\u001b[01;34mCOLAFRANCESCO_ROCCO\u001b[0m/       \u001b[01;34mMARCONI_E\u001b[0m/               \u001b[01;34mSOLOVIY_VOLODYMYR\u001b[0m/\r\n",
      "\u001b[01;34mCOLAMARTINI_GIUSEPPINA\u001b[0m/    \u001b[01;34mMARIANI_BERNARDO\u001b[0m/        \u001b[01;34mSTAN_FLORENTINA\u001b[0m/\r\n",
      "\u001b[01;34mCOLAZZO_LUIGI_GIUSEPPE\u001b[0m/    \u001b[01;34mMAROCCHI_CORRADO\u001b[0m/        \u001b[01;34mSTEFANINI_CLORINDA\u001b[0m/\r\n",
      "\u001b[01;34mCOLETTA_MARIA\u001b[0m/             \u001b[01;34mMARTELLA_COSIMO\u001b[0m/         \u001b[01;34mSTERPA_GIUSEPPE\u001b[0m/\r\n",
      "\u001b[01;34mCOSIMI_MASSIMO\u001b[0m/            \u001b[01;34mMARTINEZ\u001b[0m/                \u001b[01;34mSYKULA_GRAZYNA_BARBARA\u001b[0m/\r\n",
      "\u001b[01;34mCOSTANZI_P\u001b[0m/                \u001b[01;34mMASCI_ADA\u001b[0m/               \u001b[01;34mTAVERNESE_G\u001b[0m/\r\n",
      "\u001b[01;34mCRESCENZI_ARMANDO\u001b[0m/         \u001b[01;34mMEDICI_GIOVANNA\u001b[0m/         \u001b[01;34mTAVOLUCCI_MARIA_RITA\u001b[0m/\r\n",
      "\u001b[01;34mD_ANGELI_ANNUNZIATA\u001b[0m/       \u001b[01;34mMICHELI_MICHELE\u001b[0m/         \u001b[01;34mTEMPESTINI_MARISA\u001b[0m/\r\n",
      "\u001b[01;34mD_ANGELO_RENATO\u001b[0m/           \u001b[01;34mMITCHELL_CHARLENE_ANN\u001b[0m/   \u001b[01;34mTEMPORIN_PATRIZIA\u001b[0m/\r\n",
      "\u001b[01;34mDARIDA\u001b[0m/                    \u001b[01;34mMONACELLI_LAURA\u001b[0m/         \u001b[01;34mTEOFILI_STEFANO\u001b[0m/\r\n",
      "\u001b[01;34mDEL_BOVE_PIERINA\u001b[0m/          \u001b[01;34mMONTI_E\u001b[0m/                 \u001b[01;34mTESTA_SERGIO\u001b[0m/\r\n",
      "\u001b[01;34mDE_PAOLI_R\u001b[0m/                \u001b[01;34mMOSCARDINI_GIACINTO\u001b[0m/     \u001b[01;34mTIBERI_GIUSEPPE\u001b[0m/\r\n",
      "\u001b[01;34mDE_SANTIS_GIORGO\u001b[0m/          \u001b[01;34mMOVIA_A\u001b[0m/                 \u001b[01;34mTOMAO_ANGELO\u001b[0m/\r\n",
      "\u001b[01;34mDIASPRO_G\u001b[0m/                 \u001b[01;34mMUSAT_DORINA\u001b[0m/            \u001b[01;34mTOMEO_VINCENZO\u001b[0m/\r\n",
      "\u001b[01;34mDI_CARLATONIO_MAURIZIO\u001b[0m/    \u001b[01;34mNERONE_GIANLUCA\u001b[0m/         \u001b[01;34mTROSCIA_M\u001b[0m/\r\n",
      "\u001b[01;34mDI_LORENZO_TOMMASO\u001b[0m/        \u001b[01;34mNERVEGNA_G\u001b[0m/              \u001b[01;34mVERONESI_ROCCO\u001b[0m/\r\n",
      "\u001b[01;34mDI_MARCO_L\u001b[0m/                \u001b[01;34mORLANDI_PAOLO\u001b[0m/           \u001b[01;34mVESCIA_M_T\u001b[0m/\r\n",
      "\u001b[01;34mDI_MASO_SIMONE\u001b[0m/            \u001b[01;34mPAGANNONE_GIANNI\u001b[0m/        \u001b[01;34mVITULANO_RITA\u001b[0m/\r\n",
      "\u001b[01;34mDI_MASSA_SERGIO\u001b[0m/           \u001b[01;34mPAGLIAROLI_LUCIA\u001b[0m/        \u001b[01;34mZAMPELLA_A\u001b[0m/\r\n",
      "\u001b[01;34mDOBRISAN_DORINA\u001b[0m/           \u001b[01;34mPAGNOTTA\u001b[0m/                \u001b[01;34mZANATTA_CARLO\u001b[0m/\r\n",
      "\u001b[01;34mDROGHEI_SANDRO\u001b[0m/            \u001b[01;34mPALMA\u001b[0m/                   \u001b[01;34mZANGARI_ALDO\u001b[0m/\r\n",
      "\u001b[01;34mEMERY_R_C\u001b[0m/                 \u001b[01;34mPALMIERI\u001b[0m/                \u001b[01;34mZEPPA_ONORIO\u001b[0m/\r\n",
      "\u001b[01;34mFABIANI_ANNA\u001b[0m/              \u001b[01;34mPANETTI\u001b[0m/\r\n",
      "\u001b[01;34mFARELLA_PAOLO\u001b[0m/             \u001b[01;34mPASCAL\u001b[0m/\r\n"
     ]
    }
   ],
   "source": [
    "ls /data/RMN/LUCA_PASQUINI/DATI_SEGMENTATI_SCALATI_media/"
   ]
  },
  {
   "cell_type": "code",
   "execution_count": null,
   "metadata": {},
   "outputs": [],
   "source": [
    "# et voil"
   ]
  }
 ],
 "metadata": {
  "kernelspec": {
   "display_name": "Python 3",
   "language": "python",
   "name": "python3"
  },
  "language_info": {
   "codemirror_mode": {
    "name": "ipython",
    "version": 3
   },
   "file_extension": ".py",
   "mimetype": "text/x-python",
   "name": "python",
   "nbconvert_exporter": "python",
   "pygments_lexer": "ipython3",
   "version": "3.7.6"
  }
 },
 "nbformat": 4,
 "nbformat_minor": 4
}
